{
 "cells": [
  {
   "cell_type": "markdown",
   "metadata": {},
   "source": [
    "## MIIA-4203 MODELOS AVANZADOS PARA ANÁLISIS DE DATOS II\n",
    "\n",
    "\n",
    "# Introducción a las redes neuronales\n",
    "\n",
    "## Actividad 2\n",
    "\n",
    "### Profesor: Camilo Franco (c.franco31@uniandes.edu.co)\n",
    "\n",
    "\n",
    "\n",
    "En esta actividad vamos a estudiar una primera aproximación a los modelos de redes neuronales, utilizando como base el modelo de regresión logística.\n"
   ]
  },
  {
   "cell_type": "code",
   "execution_count": 2,
   "metadata": {},
   "outputs": [],
   "source": [
    "# Algunos paquetes iniciales que vamos a utilizar\n",
    "import pandas as pd\n",
    "import numpy as np \n",
    "import matplotlib\n",
    "import matplotlib.pyplot as plt\n",
    "from sklearn.linear_model import LogisticRegression\n",
    "from sklearn import model_selection"
   ]
  },
  {
   "cell_type": "markdown",
   "metadata": {},
   "source": [
    "## 1. Problema de clasificación: riesgo de default\n",
    "\n",
    "Examinemos los datos con lo cuales ya estamos familiarizados:\n"
   ]
  },
  {
   "cell_type": "markdown",
   "metadata": {},
   "source": [
    "https://archive.ics.uci.edu/ml/datasets/statlog+(german+credit+data)"
   ]
  },
  {
   "cell_type": "code",
   "execution_count": 3,
   "metadata": {},
   "outputs": [],
   "source": [
    "credit_1 = pd.read_csv(\"germancredit.csv\")\n",
    "credit_1 = pd.get_dummies(credit_1, columns=['checkingstatus1','history','purpose','savings',\n",
    "                                   'employ','status','others','property','otherplans','housing','job','tele', \n",
    "                                   'foreign'], prefix = ['checkingstatus1','history','purpose','savings',\n",
    "                                   'employ','status','others','property','otherplans','housing','job','tele', \n",
    "                                   'foreign'])\n",
    "X = credit_1.iloc[:, 1:62]\n",
    "Y = credit_1.iloc[:, 0]\n"
   ]
  },
  {
   "cell_type": "code",
   "execution_count": 4,
   "metadata": {},
   "outputs": [
    {
     "name": "stdout",
     "output_type": "stream",
     "text": [
      "Tamaño de CE, CP:  (600,) (400,)\n",
      "Observaciones de la clase positiva en entrenamiento: 180 y en prueba: 120\n"
     ]
    }
   ],
   "source": [
    "CE_x, CP_x, CE_y, CP_y = model_selection.train_test_split(X, Y, test_size=0.4, random_state=42, stratify=Y)\n",
    "print(\"Tamaño de CE, CP: \", CE_y.shape, CP_y.shape)\n",
    "print(\"Observaciones de la clase positiva en entrenamiento: \" +str(sum(CE_y)) +\" y en prueba: \" +str(sum(CP_y)))"
   ]
  },
  {
   "cell_type": "markdown",
   "metadata": {},
   "source": [
    "## 2. Construcción de una neurona Sigmoide\n",
    "\n",
    "Una neurona Sigmoide puede ser vista como un perceptrón *suavizado* que recibe una señal y entonces se activa. Al activarse, transforma la señal para entender mejor el mensaje. Esta transformación la ejecuta a partir de la función Sigmoide.\n",
    "\n",
    "Si tomamos la señal como un conjunto de datos de entrada y el mensaje como la predicción de un valor, la función de activación jugará el papel de transformadora de los datos de entrada en aquello que se quiere entender/predecir, que además replica un modelo logit con la función de activación sigmoide.\n",
    "\n",
    "A continuación construiremos un clasificador de regresión logística bajo la perspectiva de una red neuronal, estudiando la arquitectura general de un algoritmo de aprendizaje. De esta manera, necesitaremos incluir la inicialización de los parámetros, el cálculo de la función de coste y su gradiente, y utilizar un algoritmo de optimización como por ejemplo el descenso en la dirección del gradiente (GD)\n",
    "\n",
    "**Formulación del algoritmo**:\n",
    "\n",
    "Para un ejemplo $x^{(i)}$:\n",
    "$$z^{(i)} = w^T x^{(i)} + b \\tag{1}$$\n",
    "$$\\hat{y}^{(i)} = a^{(i)} = sigmoide(z^{(i)})\\tag{2}$$ \n",
    "$$ \\mathcal{L}(a^{(i)}, y^{(i)}) =  - y^{(i)}  \\log(a^{(i)}) - (1-y^{(i)} )  \\log(1-a^{(i)})\\tag{3}$$\n",
    "\n",
    "El coste se calcula sumando sobre todos los ejemplos de entrenamiento:\n",
    "$$ L = \\frac{1}{m} \\sum_{i=1}^m \\mathcal{L}(a^{(i)}, y^{(i)})\\tag{4}$$\n",
    "\n"
   ]
  },
  {
   "cell_type": "markdown",
   "metadata": {},
   "source": [
    "### Construimos las partes del algoritmo  \n",
    "\n",
    "- Inicializar los parámetros del modelo\n",
    "- Bucle:\n",
    "    - Calcular la pérdida actual (propagación hacia delante)\n",
    "    - Calcular el gradiente actual (retro-propagación)\n",
    "    - Actualizar los parámetros (descenso en la dirección del gradiente)\n",
    "\n",
    "\n",
    "### Ejercicio 2.1\n",
    "Implemente la funcion `sigmoide()` $$\\sigma( w^T x + b) = \\frac{1}{1 + e^{-(w^T x + b)}}$$ Para ello puede utilizar np.exp()."
   ]
  },
  {
   "cell_type": "code",
   "execution_count": 5,
   "metadata": {},
   "outputs": [],
   "source": [
    "def sigmoide(z):\n",
    "    \"\"\"\n",
    "    Input:\n",
    "    z: Un escalar o arreglo numpy de cualquier tamaño\n",
    "    Output:\n",
    "    s: sigmoid(z)\n",
    "    \"\"\"\n",
    "\n",
    "    s = 1/(1+np.exp(-z))\n",
    "    \n",
    "    return s"
   ]
  },
  {
   "cell_type": "code",
   "execution_count": 6,
   "metadata": {},
   "outputs": [
    {
     "name": "stdout",
     "output_type": "stream",
     "text": [
      "sigmoide([99,1,0,-1,-99]) = [1.00000000e+00 7.31058579e-01 5.00000000e-01 2.68941421e-01\n",
      " 1.01122149e-43]\n"
     ]
    }
   ],
   "source": [
    "print (\"sigmoide([99,1,0,-1,-99]) = \" + str(sigmoide(np.array([99,1,0,-1,-99]))))"
   ]
  },
  {
   "cell_type": "markdown",
   "metadata": {},
   "source": [
    "**Salida esperada**: \n",
    "\n",
    "<table>\n",
    "<tr>\n",
    "<td> sigmoide([99,1,0,-1,-99])    = </td>\n",
    "<td> [ 1.00000000e+00 7.31058579e-01 5.00000000e-01 2.68941421e-01\n",
    " 1.01122149e-43] </td> \n",
    "</tr>\n",
    "</table>"
   ]
  },
  {
   "cell_type": "markdown",
   "metadata": {},
   "source": [
    "### Ejercicio 2.2 \n",
    "\n",
    "Debemos inicializar los parámetros a cero. Puede utilizar la funcion np.zeros(), apoyandose en la documentación de la biblioteca Numpy."
   ]
  },
  {
   "cell_type": "code",
   "execution_count": 7,
   "metadata": {},
   "outputs": [],
   "source": [
    "def inicializa_ceros(dim):\n",
    "    \"\"\"\n",
    "    Esta función crea un vector de ceros de dimensión (dim, 1) para w e inicializa b a 0.\n",
    "    Input:\n",
    "    dim: tamaño del vector w (número de parámetros para este caso)\n",
    "    Output:\n",
    "    w: vector inicializado de tamaño (dim, 1)\n",
    "    b: escalar inicializado (corresponde con el sesgo)\n",
    "    \"\"\"\n",
    "    \n",
    "    w = np.zeros([dim,1])\n",
    "    b = 0\n",
    "\n",
    "    assert(w.shape == (dim, 1))\n",
    "    assert(isinstance(b, float) or isinstance(b, int))\n",
    "    \n",
    "    return w, b"
   ]
  },
  {
   "cell_type": "code",
   "execution_count": 8,
   "metadata": {},
   "outputs": [
    {
     "name": "stdout",
     "output_type": "stream",
     "text": [
      "w = [[0.]\n",
      " [0.]\n",
      " [0.]\n",
      " [0.]\n",
      " [0.]\n",
      " [0.]]\n",
      "b = 0\n"
     ]
    }
   ],
   "source": [
    "dim = 6\n",
    "w, b = inicializa_ceros(dim)\n",
    "print (\"w = \" + str(w))\n",
    "print (\"b = \" + str(b))"
   ]
  },
  {
   "cell_type": "markdown",
   "metadata": {},
   "source": [
    "**Salida esperada**: \n",
    "\n",
    "\n",
    "<table style=\"width:35%\">\n",
    "<tr>\n",
    "<td>   w   </td>\n",
    "<td> [[0.]\n",
    " [0.]\n",
    " [0.]\n",
    " [0.]\n",
    " [0.]\n",
    " [0.]] </td>\n",
    "</tr>\n",
    "<tr>\n",
    "<td>   b   </td>\n",
    "<td> 0 </td>\n",
    "</tr>\n",
    "</table>"
   ]
  },
  {
   "cell_type": "markdown",
   "metadata": {},
   "source": [
    "### Ejercicio 2.3 \n",
    "#### Propagación hacia delante y hacia atrás\n",
    "\n",
    "Una vez los estimadores están inicializados, se pueden implementar los pasos de propagación hacia \"delante\" y hacia \"atrás\" para el aprendizaje automático. \n",
    "\n",
    "La propagación hacia delante consiste en calcular la función de activación sigmoide sobre la combinacón lineal de los patrones y los coeficientes iniciales. \n",
    "\n",
    "Luego la propagación hacia atrás, o *retro-propagación*, es el paso más importante, donde utilizamos el gradiente de la función del error o de pérdida para actualizar los coeficientes. \n",
    "\n",
    "Este procedimiento se repite iterativamente replicando el procedimiento de descenso en la dirección del gradiente o *Gradient Descent* (GD).\n",
    "\n",
    "A continuación implemente la función `propaga()` que calcula la función de coste y su gradiente.\n",
    "\n",
    "**Ayuda**:\n",
    "\n",
    "Propagación hacia delante:\n",
    "- Se tiene $X$\n",
    "- Se calcula $A = \\sigma(w^T X + b) = (a^{(1)}, a^{(2)}, ..., a^{(m-1)}, a^{(m)})$\n",
    "- Se calcula la función de coste/pérdida: $L = -\\frac{1}{m}\\sum_{i=1}^{m}y^{(i)}\\log(a^{(i)})+(1-y^{(i)})\\log(1-a^{(i)})$\n",
    "\n",
    "Para la retro-propagación, tenemos que calcular la derivada parcial de *L* con respecto a nuestros coeficientes $(w,b)$:  \n",
    "\n",
    "$$ \\frac{\\partial L}{\\partial w} = \\frac{1}{m}X(A-Y)^T\\tag{5}$$\n",
    "$$ \\frac{\\partial L}{\\partial b} = \\frac{1}{m} \\sum_{i=1}^m (a^{(i)}-y^{(i)})\\tag{6}$$\n",
    "\n",
    "*Nota:* Para el cálculo de estas derivadas debemos hacer uso de la regla de la cadena. \n",
    "\n",
    "Esto es, dado $Z=w^T X + b$, se tiene que $$\\frac{\\partial L}{\\partial Z} = \\frac{\\partial L}{\\partial A} \\frac{\\partial A}{\\partial Z} = \\bigg(\\frac{-Y}{A}+\\frac{1-Y}{1-A}\\bigg) (A \\cdot (1-A)) $$\n"
   ]
  },
  {
   "cell_type": "code",
   "execution_count": 14,
   "metadata": {},
   "outputs": [],
   "source": [
    "def propaga(w, b, X, Y):\n",
    "    \"\"\"\n",
    "    Implemente la función de coste y su gradiente para la propagación\n",
    "    Input:\n",
    "    w: pesos, un arreglo numpy \n",
    "    b: sesgo, un escalar\n",
    "    X: datos de entrada\n",
    "    Y: vector de etiquetas \n",
    "    Output:\n",
    "    coste: coste negativo de log-verosimilitud para la regresión logística\n",
    "    dw: gradiente de la pérdida con respecto a w, con las mismas dimensiones que w\n",
    "    db: gradiente de la pérdida con respecto a b, con las mismas dimensiones que b\n",
    "    \n",
    "    (Sugerencia: utilice las funciones np.log(), np.dot()\n",
    "    \"\"\"\n",
    "    \n",
    "    m = X.shape[1]\n",
    "    \n",
    "    A = sigmoide(np.dot(w.T, X) + b)                      # compute la activación\n",
    "    coste = -(1/m)*np.sum(Y*np.log(A)+(1-Y)*np.log(1-A))  # compute el coste\n",
    "\n",
    "    #dw = np.sum((1/m)* (X * (A-Y)), axis = 1).values.reshape(w.shape[0], w.shape[1])\n",
    "    dw = 1/m*np.dot(X,(A-Y).T)\n",
    "    \n",
    "    db = (1/m)*np.sum(A-Y)\n",
    "\n",
    "    assert(dw.shape == w.shape)\n",
    "    assert(db.dtype == float)\n",
    "    cost = np.squeeze(coste)\n",
    "    assert(coste.shape == ())\n",
    "    \n",
    "    grads = {\"dw\": dw,\n",
    "             \"db\": db}\n",
    "    \n",
    "    return grads, coste"
   ]
  },
  {
   "cell_type": "code",
   "execution_count": 15,
   "metadata": {},
   "outputs": [
    {
     "name": "stdout",
     "output_type": "stream",
     "text": [
      "dw = [[65.48251839]\n",
      " [29.66675568]]\n",
      "db = 0.348980796447886\n",
      "coste = 9.752716367426284\n"
     ]
    }
   ],
   "source": [
    "w, b, X, Y = np.array([[0.1],[0.1]]), 0.5, np.array([[66.,99.,-33.],[32.,55.,-2.1]]), np.array([[0,0,1]])\n",
    "grads, coste = propaga(w, b, X, Y)\n",
    "print (\"dw = \" + str(grads[\"dw\"]))\n",
    "print (\"db = \" + str(grads[\"db\"]))\n",
    "print (\"coste = \" + str(coste))"
   ]
  },
  {
   "cell_type": "markdown",
   "metadata": {},
   "source": [
    "**Salida esperada**: \n",
    "\n",
    "<table style=\"width:50%\">\n",
    "<tr>\n",
    "<td>   dw   </td>\n",
    "<td> [[65.48251839]\n",
    " [29.66675568]]</td>\n",
    "</tr>\n",
    "<tr>\n",
    "<td>   db   </td>\n",
    "<td> 0.348980796447886 </td>\n",
    "</tr>\n",
    "<tr>\n",
    "<td>   cost   </td>\n",
    "<td> 9.752716367426284 </td>\n",
    "</tr>\n",
    "</table>"
   ]
  },
  {
   "cell_type": "markdown",
   "metadata": {},
   "source": [
    "### Ejercicio 2.4 \n",
    "#### Optimización\n",
    "\n",
    "- Se tienen los parámetros inicializados.\n",
    "- También se tiene el código para calcular la función de coste y su gradiente.\n",
    "- Ahora se quieren actualizar los parámetros utilizando el GD.\n",
    "\n",
    "Escriba la función de optimización para aprender $w$ y $b$ minimizando la función de coste $L$. \n",
    "\n",
    "Para un parámetro $\\theta$, la regla de actualización es $ \\theta = \\theta - \\alpha \\text{ } d\\theta$, donde $\\alpha$ es la tasa de aprendizaje."
   ]
  },
  {
   "cell_type": "code",
   "execution_count": 16,
   "metadata": {},
   "outputs": [],
   "source": [
    "def optimiza(w, b, X, Y, num_iter, tasa, print_cost):\n",
    "    \"\"\"\n",
    "    Esta función optimiza w y b implementando el algoritmo de GD\n",
    "    Input:\n",
    "    w: pesos, un arreglo numpy \n",
    "    b: sesgo, un escalar\n",
    "    X: datos de entrada\n",
    "    Y: vector de etiquetas \n",
    "    num_iter: número de iteraciones para el bucle de optimización\n",
    "    tasa: tasa de aprendizaje para la regla de actualización del GD\n",
    "    print_cost: True para imprimir la pérdida cada 100 iteraciones\n",
    "    Output:\n",
    "    params: diccionario con los pesos w y el sesgo b\n",
    "    grads: diccionario con los gradientes de los pesos y el sesgo con respecto a la función de pérdida\n",
    "    costes: lista de todos los costes calculados durante la optimización, usados para graficar la curva de aprendizaje.\n",
    "    \n",
    "    Sugerencia: puede escribir dos pasos e iterar sobre ellos:\n",
    "        1) Calcule el coste y el gradiente de los parámetros actuales. Use propaga().\n",
    "        2) Actualize los parámetros usando la regla del GD para w y b.\n",
    "    \"\"\"\n",
    "    \n",
    "    costes = []\n",
    "    \n",
    "    for i in range(num_iter):\n",
    "        \n",
    "        \n",
    "        # Computación del coste y el gradiente \n",
    "        grads, coste = propaga(w, b, X, Y)\n",
    "        \n",
    "        # Recupere las derivadas de grads\n",
    "        dw = grads[\"dw\"]\n",
    "        db = grads[\"db\"]\n",
    "        \n",
    "        # Actualize la regla \n",
    "        w = w - tasa * dw\n",
    "        b = b - tasa * db\n",
    "        \n",
    "        # Guarde los costes\n",
    "        if i % 100 == 0:\n",
    "            costes.append(coste)\n",
    "        \n",
    "        # Se muestra el coste cada 100 iteraciones de entrenamiento\n",
    "        if print_cost and i % 100 == 0:\n",
    "            print (\"Coste tras la iteración %i: %f\" %(i, coste))\n",
    "    \n",
    "    params = {\"w\": w,\n",
    "              \"b\": b}\n",
    "    \n",
    "    grads = {\"dw\": dw,\n",
    "             \"db\": db}\n",
    "    \n",
    "    return params, grads, costes"
   ]
  },
  {
   "cell_type": "code",
   "execution_count": 17,
   "metadata": {},
   "outputs": [
    {
     "name": "stdout",
     "output_type": "stream",
     "text": [
      "w = [[-0.07262234]\n",
      " [ 0.02112647]]\n",
      "b = 0.49898148713402446\n",
      "dw = [[1.42076721]\n",
      " [0.43496446]]\n",
      "db = -0.007821662502973652\n"
     ]
    }
   ],
   "source": [
    "params, grads, costes = optimiza(w, b, X, Y, num_iter= 10, tasa = 0.001, print_cost = False)\n",
    "\n",
    "print (\"w = \" + str(params[\"w\"]))\n",
    "print (\"b = \" + str(params[\"b\"]))\n",
    "print (\"dw = \" + str(grads[\"dw\"]))\n",
    "print (\"db = \" + str(grads[\"db\"]))"
   ]
  },
  {
   "cell_type": "markdown",
   "metadata": {},
   "source": [
    "**Salida esperada**:  \n",
    "\n",
    "<table style=\"width:40%\">\n",
    "<tr>\n",
    "<td> w </td>\n",
    "<td>[[-0.07262234]\n",
    " [ 0.02112647]] </td>\n",
    "</tr>\n",
    "<tr>\n",
    "<td> b </td>\n",
    "<td> 0.49898148713402446 </td>\n",
    "</tr>\n",
    "<tr>\n",
    "<td> dw </td>\n",
    "<td> [[1.42076721]\n",
    " [0.43496446]] </td>\n",
    "</tr>\n",
    "<tr>\n",
    "<td> db </td>\n",
    "<td> -0.007821662502973652 </td>\n",
    "</tr>\n",
    "</table>"
   ]
  },
  {
   "cell_type": "markdown",
   "metadata": {},
   "source": [
    "### Ejercicio 2.5\n",
    "\n",
    "La función anterior aprende los parámetros w y b, que se pueden usar para predecir sobre el conjunto de datos X. \n",
    "\n",
    "Hay dos pasos para calcular las predicciones:\n",
    "\n",
    "1. Calcular $\\hat{Y} = A = \\sigma(w^T X + b)$\n",
    "\n",
    "2. Converir a 0 las entradas de $a$ (si la activación es <= 0.5) o 1 (si la activación es > 0.5), guarde las predicciones en un vector `Y_pred`.  \n",
    "\n",
    "Ahora implemente la función `pred()`. "
   ]
  },
  {
   "cell_type": "code",
   "execution_count": 18,
   "metadata": {},
   "outputs": [],
   "source": [
    "def pred(w, b, X):\n",
    "    '''\n",
    "    Prediga si una etiqueta es 0 o 1 usando los parámetros de regresión logística aprendidos (w, b)\n",
    "    Input:\n",
    "    w: pesos, un arreglo numpy \n",
    "    b: sesgo, un escalar\n",
    "    X: datos de entrada\n",
    "    Output:\n",
    "    Y_pred: vector con todas las predicciones (0/1) para los ejemplos en X\n",
    "    '''\n",
    "    \n",
    "    m = X.shape[1]\n",
    "    Y_pred = np.zeros((1,m))\n",
    "    w = w.reshape(X.shape[0], 1)\n",
    "    \n",
    "    # Compute el vector \"A\" prediciendo las probabilidades\n",
    "    A = sigmoide(np.dot(w.T, X) + b)\n",
    "    \n",
    "    for i in range(A.shape[1]):\n",
    "        \n",
    "        # Convierta las probabilidades A[0,i] a predicciones p[0,i]\n",
    "        Y_pred[0,i] = np.where(round(A[0,i],0) <= 0.5, 0, 1)\n",
    "    \n",
    "    assert(Y_pred.shape == (1, m))\n",
    "    \n",
    "    return Y_pred"
   ]
  },
  {
   "cell_type": "code",
   "execution_count": 19,
   "metadata": {},
   "outputs": [
    {
     "name": "stdout",
     "output_type": "stream",
     "text": [
      "predicciones = [[1. 0. 0.]]\n"
     ]
    }
   ],
   "source": [
    "w = np.array([[0.12],[0.23]])\n",
    "b = -0.09\n",
    "X = np.array([[3.1,-2.9,0.2],[1.9,1.8,-0.09]])\n",
    "print (\"predicciones = \" + str(pred(w, b, X)))"
   ]
  },
  {
   "cell_type": "markdown",
   "metadata": {},
   "source": [
    "**Salida esperada**: \n",
    "\n",
    "<table style=\"width:40%\">\n",
    "<tr>\n",
    "<td> predicciones   </td>\n",
    "<td>[[ 1.  0.  0.]]  </td>  \n",
    "</tr>\n",
    "</table>"
   ]
  },
  {
   "cell_type": "markdown",
   "metadata": {},
   "source": [
    "### Ejercicio 2.6\n",
    "#### Combine todas las funciones \n",
    "\n",
    "Ahora juntemos todos los bloques que ha programado arriba.\n",
    "\n",
    "Implemente la función del modelo \"madre\". Use la siguiente notación:\n",
    "    - YP_pred para las predicciones sobre el conjunto de prueba\n",
    "    - YE_pred para las predicciones sobre el conjunto de entrenamiento\n",
    "    - w, costes, grads para las salidas de optimiza()"
   ]
  },
  {
   "cell_type": "code",
   "execution_count": 20,
   "metadata": {},
   "outputs": [],
   "source": [
    "def modelo(CE_x, CP_x, CE_y, CP_y, num_iter, tasa, print_cost):\n",
    "    \"\"\"\n",
    "    Construye el modelo de regresión logística llamando las funciones implementadas anteriormente\n",
    "    Output:\n",
    "    d: diccionario con la información sobre el modelo.\n",
    "    \"\"\"\n",
    "    \n",
    "    # Inicialice los parametros con ceros \n",
    "    w, b = inicializa_ceros(CE_x.shape[0])\n",
    "\n",
    "    # Descenso en la dirección del gradiente (GD) \n",
    "    params, grads, costes = optimiza(w, b, CE_x, CE_y, num_iter, tasa, print_cost)\n",
    "    \n",
    "    # Recupere los parámetros w y b del diccionario \"params\" ##\n",
    "    w = params[\"w\"]\n",
    "    b = params[\"b\"]\n",
    "    \n",
    "    # Prediga los ejemplos de prueba y entrenamiento (≈ 2 líneas de código)\n",
    "    YP_pred = pred(w, b, CP_x)\n",
    "    YE_pred = pred(w, b, CE_x)\n",
    "\n",
    "    # Imprima los errores de entrenamiento y prueba\n",
    "    print(\"Accuracy de entrenamiento: {} %\".format(100 - np.mean(np.abs(YE_pred - CE_y)) * 100))\n",
    "    print(\"Accuracy de prueba: {} %\".format(100 - np.mean(np.abs(YP_pred - CP_y)) * 100))\n",
    "\n",
    "    \n",
    "    d = {\"Costes\": costes,\n",
    "         \"Prediccion_prueba\": YP_pred, \n",
    "         \"Prediccion_entrenamiento\" : YE_pred, \n",
    "         \"w\" : w, \n",
    "         \"b\" : b,\n",
    "         \"Tasa de aprendizaje\" : tasa,\n",
    "         \"Numero de iteraciones\": num_iter}\n",
    "    \n",
    "    return d"
   ]
  },
  {
   "cell_type": "markdown",
   "metadata": {},
   "source": [
    "### Pregunta 2.7\n",
    "\n",
    "De qué dimensiones deben ser las matrices con los datos de entrada y de salida?"
   ]
  },
  {
   "cell_type": "code",
   "execution_count": 21,
   "metadata": {},
   "outputs": [
    {
     "data": {
      "text/plain": [
       "((600, 61), (400, 61), (600,), (400,))"
      ]
     },
     "execution_count": 21,
     "metadata": {},
     "output_type": "execute_result"
    }
   ],
   "source": [
    "CE_x.shape, CP_x.shape, CE_y.shape, CP_y.shape"
   ]
  },
  {
   "cell_type": "code",
   "execution_count": 22,
   "metadata": {},
   "outputs": [
    {
     "name": "stdout",
     "output_type": "stream",
     "text": [
      "(61, 600) (1, 600)\n"
     ]
    }
   ],
   "source": [
    "# Podemos re-configurar las matrices de la siguiente forma:\n",
    "CE_x2 = CE_x.T\n",
    "CP_x2 = CP_x.T\n",
    "CE_y2 = np.array(CE_y)[np.newaxis]\n",
    "CP_y2 = np.array(CP_y)[np.newaxis]\n",
    "\n",
    "print(CE_x2.shape, CE_y2.shape)"
   ]
  },
  {
   "cell_type": "markdown",
   "metadata": {},
   "source": [
    "Ahora, ejecute la siguiente celda para entrenar el modelo:"
   ]
  },
  {
   "cell_type": "code",
   "execution_count": 23,
   "metadata": {},
   "outputs": [
    {
     "name": "stdout",
     "output_type": "stream",
     "text": [
      "Coste tras la iteración 0: 0.693147\n",
      "Coste tras la iteración 100: 0.678157\n",
      "Coste tras la iteración 200: 0.677031\n",
      "Coste tras la iteración 300: 0.675938\n",
      "Coste tras la iteración 400: 0.674877\n",
      "Coste tras la iteración 500: 0.673846\n",
      "Coste tras la iteración 600: 0.672844\n",
      "Coste tras la iteración 700: 0.671871\n",
      "Coste tras la iteración 800: 0.670925\n",
      "Coste tras la iteración 900: 0.670005\n",
      "Accuracy de entrenamiento: 70.0 %\n",
      "Accuracy de prueba: 70.0 %\n"
     ]
    }
   ],
   "source": [
    "d = modelo(CE_x2, CP_x2, CE_y2, CP_y2, num_iter = 1000, tasa = 1e-6, print_cost = True)"
   ]
  },
  {
   "cell_type": "markdown",
   "metadata": {},
   "source": [
    "**Salida esperada**: \n",
    "\n",
    "<table style=\"width:50%\"> \n",
    "<tr>\n",
    "<td> Coste tras la iteración 0   </td> \n",
    "<td> 0.693147 </td>\n",
    "</tr>\n",
    "<tr>\n",
    "<td> <center> $\\vdots$ </center> </td> \n",
    "<td> <center> $\\vdots$ </center> </td> \n",
    "</tr>  \n",
    "<tr>\n",
    "<td> Precisión de entrenamiento  </td> \n",
    "<td> 70.0 % </td>\n",
    "</tr>\n",
    "<tr>\n",
    "<td> Precisión de prueba </td> \n",
    "<td> 70.0 % </td>\n",
    "</tr>\n",
    "</table> "
   ]
  },
  {
   "cell_type": "markdown",
   "metadata": {},
   "source": [
    "La precisión de entrenamiento es muy similar a la que conseguimos mediante la regresion logistica. También podemos observar que el error de prueba es igual al de entrenamiento. Este resultado sugiere que el modelo aprende segun entrenamiento, y generaliza de igual forma sobre los observaciones nuevas."
   ]
  },
  {
   "cell_type": "markdown",
   "metadata": {},
   "source": [
    "Grafiquemos la función de pérdida."
   ]
  },
  {
   "cell_type": "code",
   "execution_count": 24,
   "metadata": {},
   "outputs": [
    {
     "data": {
      "image/png": "[encoded data removed]",
      "text/plain": [
       "<Figure size 432x288 with 1 Axes>"
      ]
     },
     "metadata": {
      "needs_background": "light"
     },
     "output_type": "display_data"
    }
   ],
   "source": [
    "# Gráfica de la curva de aprendizaje (con costes)\n",
    "costes = np.squeeze(d['Costes'])\n",
    "plt.plot(costes)\n",
    "plt.ylabel('coste')\n",
    "plt.xlabel('iteraciones (en cientos)')\n",
    "plt.title(\"Tasa de aprendizaje =\" + str(d[\"Tasa de aprendizaje\"]))\n",
    "plt.show()"
   ]
  },
  {
   "cell_type": "markdown",
   "metadata": {},
   "source": [
    "**Interpretación**:\n",
    "Se puede ver el coste decreciendo, demostrando que los parámetros están siendo aprendidos. "
   ]
  },
  {
   "cell_type": "markdown",
   "metadata": {},
   "source": [
    "Ya tenemos un primer modelo de clasificación. Ahora examinemos distintos valores para la tasa de aprendizaje $\\alpha$. \n",
    "\n",
    "#### Selección de la tasa de aprendizaje ####\n",
    "\n",
    "Para que el método del GD funcione de manera adecuada, se debe elegir la tasa de aprendizaje de manera acertada. Esta tasa $\\alpha$  determina qué tan rápido se actualizan los parámetros. Si la tasa es muy grande se puede \"sobrepasar\" el valor óptimo. Y de manera similar, si es muy pequeña se van a necesitar muchas iteraciones para converger a los mejores valores. Por ello la importancia de tener una tasa de aprendizaje bien afinada.  \n",
    "\n",
    "Ahora, comparemos la curva de aprendizaje de nuestro modelo con distintas elecciones para $\\alpha$. Ejecute el código abajo. También puede intentar con valores distintos a los tres que estamos utilizando abajo para `tasas` y analice los resultados.\n",
    "\n"
   ]
  },
  {
   "cell_type": "code",
   "execution_count": 25,
   "metadata": {},
   "outputs": [
    {
     "name": "stdout",
     "output_type": "stream",
     "text": [
      "La tasa de aprendizaje es: 0.0001\n"
     ]
    },
    {
     "name": "stderr",
     "output_type": "stream",
     "text": [
      "C:\\Users\\Cindy\\Anaconda3\\lib\\site-packages\\ipykernel_launcher.py:20: RuntimeWarning: divide by zero encountered in log\n",
      "C:\\Users\\Cindy\\Anaconda3\\lib\\site-packages\\ipykernel_launcher.py:20: RuntimeWarning: invalid value encountered in multiply\n"
     ]
    },
    {
     "name": "stdout",
     "output_type": "stream",
     "text": [
      "Accuracy de entrenamiento: 33.0 %\n",
      "Accuracy de prueba: 32.75 %\n",
      "\n",
      "-------------------------------------------------------\n",
      "\n",
      "La tasa de aprendizaje es: 1e-06\n",
      "Accuracy de entrenamiento: 70.0 %\n",
      "Accuracy de prueba: 70.0 %\n",
      "\n",
      "-------------------------------------------------------\n",
      "\n",
      "La tasa de aprendizaje es: 1e-10\n",
      "Accuracy de entrenamiento: 70.0 %\n",
      "Accuracy de prueba: 70.0 %\n",
      "\n",
      "-------------------------------------------------------\n",
      "\n",
      "La tasa de aprendizaje es: 2e-20\n",
      "Accuracy de entrenamiento: 70.0 %\n",
      "Accuracy de prueba: 70.0 %\n",
      "\n",
      "-------------------------------------------------------\n",
      "\n"
     ]
    },
    {
     "data": {
      "image/png": "[encoded data removed]",
      "text/plain": [
       "<Figure size 432x288 with 1 Axes>"
      ]
     },
     "metadata": {
      "needs_background": "light"
     },
     "output_type": "display_data"
    }
   ],
   "source": [
    "tasas = [1e-4, 1e-6, 1e-10, 2e-20]\n",
    "modelos = {}\n",
    "for i in tasas:\n",
    "    print (\"La tasa de aprendizaje es: \" + str(i))\n",
    "    modelos[str(i)] = modelo(CE_x2, CP_x2, CE_y2, CP_y2, num_iter = 2000, tasa = i, print_cost = False)\n",
    "    print ('\\n' + \"-------------------------------------------------------\" + '\\n')\n",
    "\n",
    "for i in tasas:\n",
    "    plt.plot(np.squeeze(modelos[str(i)][\"Costes\"]), label= str(modelos[str(i)][\"Tasa de aprendizaje\"]))\n",
    "\n",
    "plt.ylabel('coste')\n",
    "plt.xlabel('iteraciones (en cientos)')\n",
    "\n",
    "legend = plt.legend(loc='upper center', shadow=True)\n",
    "frame = legend.get_frame()\n",
    "frame.set_facecolor('0.90')\n",
    "plt.show()"
   ]
  },
  {
   "cell_type": "markdown",
   "metadata": {},
   "source": [
    "### Pregunta 2.8\n",
    "\n",
    "Analice los resultados, con cuál tasa de aprendizaje intentaría mejorar el desempeño del modelo?"
   ]
  },
  {
   "cell_type": "markdown",
   "metadata": {},
   "source": [
    "- Diferentes tasas de aprendizaje dan diferentes costos y, por lo tanto, diferentes resultados de predicciones. \n",
    "- Si la tasa de aprendizaje es demasiado grande (0.01), el costo oscila hacia arriba y hacia abajo. Incluso puede divergir (aunque en este ejemplo, el uso de 0.01 eventualmente termina teniendo un buen valor por el costo). \n",
    "- Un costo menor no significa un mejor modelo. Hay que comprobar si existe un sobreajuste. Ocurre cuando la precisión del entrenamiento es mucho mayor que la precisión de la prueba. \n",
    "- En deep learning, normalmente recomendamos que: \n",
    "    - Elija la tasa de aprendizaje que minimice mejor la función de costes. \n",
    "    - Si su modelo se sobreajusta, utilice otras técnicas para reducir el sobreajuste. (Hablaremos de esto en videos posteriores)."
   ]
  },
  {
   "cell_type": "markdown",
   "metadata": {},
   "source": [
    "## 3. Comparacion con la implementación tradicional de regresión logística"
   ]
  },
  {
   "cell_type": "markdown",
   "metadata": {},
   "source": [
    "A continuación ajustamos el modelo logístico y lo probamos:"
   ]
  },
  {
   "cell_type": "code",
   "execution_count": 27,
   "metadata": {},
   "outputs": [],
   "source": [
    "#logT = LogisticRegression(penalty='none', max_iter=1500)\n",
    "logT = LogisticRegression(max_iter=1500)\n",
    "logT.fit(CE_x, CE_y)\n",
    "y_tr = logT.predict(CE_x)\n",
    "y_pred = logT.predict(CP_x)"
   ]
  },
  {
   "cell_type": "markdown",
   "metadata": {},
   "source": [
    "Examinemos los coeficientes del modelo de la neurona sigmoide y su desviación con respecto a la estimación tradicional de regresion logistica."
   ]
  },
  {
   "cell_type": "code",
   "execution_count": 28,
   "metadata": {},
   "outputs": [],
   "source": [
    "logT_coef = logT.coef_"
   ]
  },
  {
   "cell_type": "code",
   "execution_count": 30,
   "metadata": {},
   "outputs": [
    {
     "data": {
      "text/html": [
       "<i>Table length=61</i>\n",
       "<table id=\"table2852991613304\" class=\"table-striped table-bordered table-condensed\">\n",
       "<thead><tr><th>Regresion logistica [1]</th><th>Neurona sigmoide [1]</th><th>Diferencia [1]</th></tr></thead>\n",
       "<thead><tr><th>float64</th><th>float64</th><th>float64</th></tr></thead>\n",
       "<tr><td>0.02329650436653564</td><td>-6.293083905403867e-05</td><td>0.02335943520558968</td></tr>\n",
       "<tr><td>7.53002022378827e-05</td><td>-1.6311369074005705e-05</td><td>9.161157131188841e-05</td></tr>\n",
       "<tr><td>0.3012831246098352</td><td>-0.0001513506113979065</td><td>0.3014344752212331</td></tr>\n",
       "<tr><td>0.0022666833034361514</td><td>-0.0001679441361110126</td><td>0.0024346274395471643</td></tr>\n",
       "<tr><td>-0.007805311509430047</td><td>-0.0023681544427456122</td><td>-0.0054371570666844355</td></tr>\n",
       "<tr><td>0.19289626262521592</td><td>-8.57418462456453e-05</td><td>0.19298200447146158</td></tr>\n",
       "<tr><td>0.2562857066238714</td><td>-6.586234732681293e-05</td><td>0.2563515689711982</td></tr>\n",
       "<tr><td>0.4444520151550931</td><td>2.9167410750735905e-05</td><td>0.4444228477443423</td></tr>\n",
       "<tr><td>0.1668058498584597</td><td>8.429711287300679e-06</td><td>0.1667974201471724</td></tr>\n",
       "<tr><td>-0.2883894167630129</td><td>-5.488449210699085e-06</td><td>-0.28838392831380216</td></tr>\n",
       "<tr><td>...</td><td>...</td><td>...</td></tr>\n",
       "<tr><td>-0.35914457493873597</td><td>-7.701646645973132e-05</td><td>-0.3590675584722762</td></tr>\n",
       "<tr><td>-0.7610836837610125</td><td>3.986121808875352e-06</td><td>-0.7610876698828214</td></tr>\n",
       "<tr><td>-0.23831122417874873</td><td>1.9916804998589236e-06</td><td>-0.23831321585924858</td></tr>\n",
       "<tr><td>-0.08361974272075845</td><td>-1.5375843769924974e-05</td><td>-0.08360436687698852</td></tr>\n",
       "<tr><td>-0.09111371322162207</td><td>-4.535299074819405e-05</td><td>-0.09106836023087388</td></tr>\n",
       "<tr><td>-0.27880768095347447</td><td>-7.25401543587761e-07</td><td>-0.27880695555193086</td></tr>\n",
       "<tr><td>-0.20640709476116514</td><td>-2.7026368364759887e-05</td><td>-0.20638006839280038</td></tr>\n",
       "<tr><td>-0.4854452663134253</td><td>-3.2436187197087996e-05</td><td>-0.4854128301262282</td></tr>\n",
       "<tr><td>0.3471593649548212</td><td>-4.679240993110527e-05</td><td>0.3472061573647523</td></tr>\n",
       "<tr><td>-1.039011726029435</td><td>-1.2670145630742544e-05</td><td>-1.0389990558838043</td></tr>\n",
       "</table>"
      ],
      "text/plain": [
       "<Table length=61>\n",
       "Regresion logistica [1]   Neurona sigmoide [1]      Diferencia [1]    \n",
       "        float64                 float64                float64        \n",
       "----------------------- ----------------------- ----------------------\n",
       "    0.02329650436653564  -6.293083905403867e-05    0.02335943520558968\n",
       "   7.53002022378827e-05 -1.6311369074005705e-05  9.161157131188841e-05\n",
       "     0.3012831246098352  -0.0001513506113979065     0.3014344752212331\n",
       "  0.0022666833034361514  -0.0001679441361110126  0.0024346274395471643\n",
       "  -0.007805311509430047  -0.0023681544427456122 -0.0054371570666844355\n",
       "    0.19289626262521592   -8.57418462456453e-05    0.19298200447146158\n",
       "     0.2562857066238714  -6.586234732681293e-05     0.2563515689711982\n",
       "     0.4444520151550931  2.9167410750735905e-05     0.4444228477443423\n",
       "     0.1668058498584597   8.429711287300679e-06     0.1667974201471724\n",
       "    -0.2883894167630129  -5.488449210699085e-06   -0.28838392831380216\n",
       "                    ...                     ...                    ...\n",
       "   -0.35914457493873597  -7.701646645973132e-05    -0.3590675584722762\n",
       "    -0.7610836837610125   3.986121808875352e-06    -0.7610876698828214\n",
       "   -0.23831122417874873  1.9916804998589236e-06   -0.23831321585924858\n",
       "   -0.08361974272075845 -1.5375843769924974e-05   -0.08360436687698852\n",
       "   -0.09111371322162207  -4.535299074819405e-05   -0.09106836023087388\n",
       "   -0.27880768095347447   -7.25401543587761e-07   -0.27880695555193086\n",
       "   -0.20640709476116514 -2.7026368364759887e-05   -0.20638006839280038\n",
       "    -0.4854452663134253 -3.2436187197087996e-05    -0.4854128301262282\n",
       "     0.3471593649548212  -4.679240993110527e-05     0.3472061573647523\n",
       "     -1.039011726029435 -1.2670145630742544e-05    -1.0389990558838043"
      ]
     },
     "execution_count": 30,
     "metadata": {},
     "output_type": "execute_result"
    }
   ],
   "source": [
    "from astropy.table import QTable, Table, Column\n",
    "\n",
    "x = logT_coef - d['w'].T\n",
    "\n",
    "Tabla =  Table([logT_coef.T, d['w'], x.T], names=(\"Regresion logistica\", \"Neurona sigmoide\", \"Diferencia\"))\n",
    "Tabla"
   ]
  },
  {
   "cell_type": "markdown",
   "metadata": {},
   "source": [
    "### Pregunta 3.1\n",
    "\n",
    "Qué puede observar en esta comparativa?"
   ]
  },
  {
   "cell_type": "markdown",
   "metadata": {},
   "source": [
    "Los resultados de los coeficientes para la regresión logística y los pesos para la red neuronal \n",
    "con función de activación sigmoide son muy parecidos, y se evidencian solo pocos valores en el \n",
    "cálculo de la diferencia que superan una unidad, sin embargo, como se muestra a continuación \n",
    "la exactitud de la regresión logística tradicional muestra valores más altos que los hallados \n",
    "con la neurona sigmoide, haciendo que la primera tenga un mejor desempeño que la segunda."
   ]
  },
  {
   "cell_type": "markdown",
   "metadata": {},
   "source": [
    "Veamos la exactitud de los modelos"
   ]
  },
  {
   "cell_type": "code",
   "execution_count": 64,
   "metadata": {},
   "outputs": [
    {
     "name": "stdout",
     "output_type": "stream",
     "text": [
      "La neurona sigmoide tiene una exactitud de entrenamiento: 0.7 y de validacion: 0.7\n",
      "La regresion tradicional tiene una exactitud de entrenamiento: 0.785 y de validacion: 0.765\n"
     ]
    }
   ],
   "source": [
    "print(\"La neurona sigmoide tiene una exactitud de entrenamiento: \" \n",
    "      +str(float((d['Prediccion_entrenamiento'] == CE_y2).mean())) \\\n",
    "      +\" y de validacion: \" +str(float((d['Prediccion_prueba'] == CP_y2).mean())))\n",
    "print(\"La regresion tradicional tiene una exactitud de entrenamiento: \" \n",
    "      +str(float((y_tr == CE_y).mean())) +\" y de validacion: \" +str(float((y_pred == CP_y).mean())))"
   ]
  },
  {
   "cell_type": "markdown",
   "metadata": {},
   "source": [
    "### Ejercicio  3.2\n",
    "\n",
    "Ahora puede desarrollar su propio código intentando mejorar los resultados obtenidos. \n",
    "\n",
    "Intente sobrepasar los resultados de la regresion logistica tradicional. Optimice la tasa de aprendizaje, el número de iteraciones o (bono) investigue y cambie la manera en la cual inicializamos los coeficientes. "
   ]
  },
  {
   "cell_type": "code",
   "execution_count": 119,
   "metadata": {},
   "outputs": [],
   "source": [
    "def inicializa(dim):\n",
    "    \"\"\"\n",
    "    Esta función crea un vector de ceros de dimensión (dim, 1) para w e inicializa b a 0.\n",
    "    Input:\n",
    "    dim: tamaño del vector w (número de parámetros para este caso)\n",
    "    Output:\n",
    "    w: vector inicializado de tamaño (dim, 1)\n",
    "    b: escalar inicializado (corresponde con el sesgo)\n",
    "    \"\"\"\n",
    "    np.random.seed(2)\n",
    "    \n",
    "    w = np.random.randn(dim,1)*np.sqrt(1/dim-1)\n",
    "    # w = np.random.randn(dim,1) \n",
    "    b = np.random.randn()\n",
    "    \n",
    "    # w = np.zeros([dim,1])\n",
    "    # b = 0\n",
    "\n",
    "    assert(w.shape == (dim, 1))\n",
    "    # assert(w.shape == (dim-1, dim))\n",
    "    assert(isinstance(b, float) or isinstance(b, int))\n",
    "    # assert(b.shape == (dim,1))\n",
    "    \n",
    "    return w, b"
   ]
  },
  {
   "cell_type": "code",
   "execution_count": 120,
   "metadata": {},
   "outputs": [
    {
     "name": "stdout",
     "output_type": "stream",
     "text": [
      "w = [[nan]\n",
      " [nan]\n",
      " [nan]\n",
      " [nan]\n",
      " [nan]\n",
      " [nan]]\n",
      "b = 0.5028814171580428\n"
     ]
    },
    {
     "name": "stderr",
     "output_type": "stream",
     "text": [
      "C:\\Users\\Cindy\\Anaconda3\\lib\\site-packages\\ipykernel_launcher.py:12: RuntimeWarning: invalid value encountered in sqrt\n",
      "  if sys.path[0] == '':\n"
     ]
    }
   ],
   "source": [
    "dim = 6\n",
    "w, b = inicializa(dim)\n",
    "print (\"w = \" + str(w))\n",
    "print (\"b = \" + str(b))"
   ]
  },
  {
   "cell_type": "code",
   "execution_count": 109,
   "metadata": {},
   "outputs": [],
   "source": [
    "def propaga(w, b, X, Y):\n",
    "    \"\"\"\n",
    "    Implemente la función de coste y su gradiente para la propagación\n",
    "    Input:\n",
    "    w: pesos, un arreglo numpy \n",
    "    b: sesgo, un escalar\n",
    "    X: datos de entrada\n",
    "    Y: vector de etiquetas \n",
    "    Output:\n",
    "    coste: coste negativo de log-verosimilitud para la regresión logística\n",
    "    dw: gradiente de la pérdida con respecto a w, con las mismas dimensiones que w\n",
    "    db: gradiente de la pérdida con respecto a b, con las mismas dimensiones que b\n",
    "    \n",
    "    (Sugerencia: utilice las funciones np.log(), np.dot()\n",
    "    \"\"\"\n",
    "    \n",
    "    m = X.shape[1]\n",
    "    \n",
    "    A = sigmoide(np.dot(w.T, X) + b)                      # compute la activación\n",
    "    coste = -(1/m)*np.sum(Y*np.log(A)+(1-Y)*np.log(1-A))  # compute el coste\n",
    "\n",
    "    #dw = np.sum((1/m)* (X * (A-Y)), axis = 1).values.reshape(w.shape[0], w.shape[1])\n",
    "    dw = 1/m*np.dot(X,(A-Y).T)\n",
    "    \n",
    "    db = (1/m)*np.sum(A-Y)\n",
    "\n",
    "    assert(dw.shape == w.shape)\n",
    "    assert(db.dtype == float)\n",
    "    cost = np.squeeze(coste)\n",
    "    assert(coste.shape == ())\n",
    "    \n",
    "    grads = {\"dw\": dw,\n",
    "             \"db\": db}\n",
    "    \n",
    "    return grads, coste"
   ]
  },
  {
   "cell_type": "code",
   "execution_count": 110,
   "metadata": {},
   "outputs": [
    {
     "name": "stdout",
     "output_type": "stream",
     "text": [
      "dw = [[65.48251839]\n",
      " [29.66675568]]\n",
      "db = 0.348980796447886\n",
      "coste = 9.752716367426284\n"
     ]
    }
   ],
   "source": [
    "w, b, X, Y = np.array([[0.1],[0.1]]), 0.5, np.array([[66.,99.,-33.],[32.,55.,-2.1]]), np.array([[0,0,1]])\n",
    "grads, coste = propaga(w, b, X, Y)\n",
    "print (\"dw = \" + str(grads[\"dw\"]))\n",
    "print (\"db = \" + str(grads[\"db\"]))\n",
    "print (\"coste = \" + str(coste))"
   ]
  },
  {
   "cell_type": "code",
   "execution_count": 111,
   "metadata": {},
   "outputs": [],
   "source": [
    "def optimiza(w, b, X, Y, num_iter, tasa, print_cost):\n",
    "    \"\"\"\n",
    "    Esta función optimiza w y b implementando el algoritmo de GD\n",
    "    Input:\n",
    "    w: pesos, un arreglo numpy \n",
    "    b: sesgo, un escalar\n",
    "    X: datos de entrada\n",
    "    Y: vector de etiquetas \n",
    "    num_iter: número de iteraciones para el bucle de optimización\n",
    "    tasa: tasa de aprendizaje para la regla de actualización del GD\n",
    "    print_cost: True para imprimir la pérdida cada 100 iteraciones\n",
    "    Output:\n",
    "    params: diccionario con los pesos w y el sesgo b\n",
    "    grads: diccionario con los gradientes de los pesos y el sesgo con respecto a la función de \n",
    "    pérdida\n",
    "    costes: lista de todos los costes calculados durante la optimización, usados para graficar \n",
    "    la curva de aprendizaje.\n",
    "    \n",
    "    Sugerencia: puede escribir dos pasos e iterar sobre ellos:\n",
    "        1) Calcule el coste y el gradiente de los parámetros actuales. Use propaga().\n",
    "        2) Actualize los parámetros usando la regla del GD para w y b.\n",
    "    \"\"\"\n",
    "    \n",
    "    costes = []\n",
    "    \n",
    "    for i in range(num_iter):\n",
    "        \n",
    "        \n",
    "        # Computación del coste y el gradiente \n",
    "        grads, coste = propaga(w, b, X, Y)\n",
    "        \n",
    "        # Recupere las derivadas de grads\n",
    "        dw = grads[\"dw\"]\n",
    "        db = grads[\"db\"]\n",
    "        \n",
    "        # Actualize la regla \n",
    "        w = w - tasa * dw\n",
    "        b = b - tasa * db\n",
    "        \n",
    "        # Guarde los costes\n",
    "        if i % 100 == 0:\n",
    "            costes.append(coste)\n",
    "        \n",
    "        # Se muestra el coste cada 100 iteraciones de entrenamiento\n",
    "        if print_cost and i % 100 == 0:\n",
    "            print (\"Coste tras la iteración %i: %f\" %(i, coste))\n",
    "    \n",
    "    params = {\"w\": w,\n",
    "              \"b\": b}\n",
    "    \n",
    "    grads = {\"dw\": dw,\n",
    "             \"db\": db}\n",
    "    \n",
    "    return params, grads, costes"
   ]
  },
  {
   "cell_type": "code",
   "execution_count": 112,
   "metadata": {},
   "outputs": [
    {
     "name": "stdout",
     "output_type": "stream",
     "text": [
      "w = [[-0.07262234]\n",
      " [ 0.02112647]]\n",
      "b = 0.49898148713402446\n",
      "dw = [[1.42076721]\n",
      " [0.43496446]]\n",
      "db = -0.007821662502973652\n"
     ]
    }
   ],
   "source": [
    "params, grads, costes = optimiza(w, b, X, Y, num_iter= 10, tasa = 0.001, print_cost = False)\n",
    "\n",
    "print (\"w = \" + str(params[\"w\"]))\n",
    "print (\"b = \" + str(params[\"b\"]))\n",
    "print (\"dw = \" + str(grads[\"dw\"]))\n",
    "print (\"db = \" + str(grads[\"db\"]))"
   ]
  },
  {
   "cell_type": "code",
   "execution_count": 113,
   "metadata": {},
   "outputs": [],
   "source": [
    "def pred(w, b, X):\n",
    "    '''\n",
    "    Prediga si una etiqueta es 0 o 1 usando los parámetros de regresión logística aprendidos (w, b)\n",
    "    Input:\n",
    "    w: pesos, un arreglo numpy \n",
    "    b: sesgo, un escalar\n",
    "    X: datos de entrada\n",
    "    Output:\n",
    "    Y_pred: vector con todas las predicciones (0/1) para los ejemplos en X\n",
    "    '''\n",
    "    \n",
    "    m = X.shape[1]\n",
    "    Y_pred = np.zeros((1,m))\n",
    "    w = w.reshape(X.shape[0], 1)\n",
    "    \n",
    "    # Compute el vector \"A\" prediciendo las probabilidades\n",
    "    A = sigmoide(np.dot(w.T, X) + b)\n",
    "    \n",
    "    for i in range(A.shape[1]):\n",
    "        \n",
    "        # Convierta las probabilidades A[0,i] a predicciones p[0,i]\n",
    "        Y_pred[0,i] = np.where(round(A[0,i],0) <= 0.5, 0, 1)\n",
    "    \n",
    "    assert(Y_pred.shape == (1, m))\n",
    "    \n",
    "    return Y_pred"
   ]
  },
  {
   "cell_type": "code",
   "execution_count": 114,
   "metadata": {},
   "outputs": [
    {
     "name": "stdout",
     "output_type": "stream",
     "text": [
      "predicciones = [[1. 0. 0.]]\n"
     ]
    }
   ],
   "source": [
    "w = np.array([[0.12],[0.23]])\n",
    "b = -0.09\n",
    "X = np.array([[3.1,-2.9,0.2],[1.9,1.8,-0.09]])\n",
    "print (\"predicciones = \" + str(pred(w, b, X)))"
   ]
  },
  {
   "cell_type": "code",
   "execution_count": 115,
   "metadata": {},
   "outputs": [],
   "source": [
    "def modelo(CE_x, CP_x, CE_y, CP_y, num_iter, tasa, print_cost):\n",
    "    \"\"\"\n",
    "    Construye el modelo de regresión logística llamando las funciones implementadas anteriormente\n",
    "    Output:\n",
    "    d: diccionario con la información sobre el modelo.\n",
    "    \"\"\"\n",
    "    \n",
    "    # Inicialice los parametros con ceros \n",
    "    w, b = inicializa(CE_x.shape[0])\n",
    "\n",
    "    # Descenso en la dirección del gradiente (GD) \n",
    "    params, grads, costes = optimiza(w, b, CE_x, CE_y, num_iter, tasa, print_cost)\n",
    "    \n",
    "    # Recupere los parámetros w y b del diccionario \"params\" ##\n",
    "    w = params[\"w\"]\n",
    "    b = params[\"b\"]\n",
    "    \n",
    "    # Prediga los ejemplos de prueba y entrenamiento (≈ 2 líneas de código)\n",
    "    YP_pred = pred(w, b, CP_x)\n",
    "    YE_pred = pred(w, b, CE_x)\n",
    "\n",
    "    # Imprima los errores de entrenamiento y prueba\n",
    "    print(\"Accuracy de entrenamiento: {} %\".format(100 - np.mean(np.abs(YE_pred - CE_y)) * 100))\n",
    "    print(\"Accuracy de prueba: {} %\".format(100 - np.mean(np.abs(YP_pred - CP_y)) * 100))\n",
    "\n",
    "    \n",
    "    d = {\"Costes\": costes,\n",
    "         \"Prediccion_prueba\": YP_pred, \n",
    "         \"Prediccion_entrenamiento\" : YE_pred, \n",
    "         \"w\" : w, \n",
    "         \"b\" : b,\n",
    "         \"Tasa de aprendizaje\" : tasa,\n",
    "         \"Numero de iteraciones\": num_iter}\n",
    "    \n",
    "    return d"
   ]
  },
  {
   "cell_type": "code",
   "execution_count": 116,
   "metadata": {},
   "outputs": [
    {
     "data": {
      "text/plain": [
       "((600, 61), (400, 61), (600,), (400,))"
      ]
     },
     "execution_count": 116,
     "metadata": {},
     "output_type": "execute_result"
    }
   ],
   "source": [
    "CE_x.shape, CP_x.shape, CE_y.shape, CP_y.shape"
   ]
  },
  {
   "cell_type": "code",
   "execution_count": 117,
   "metadata": {},
   "outputs": [
    {
     "name": "stdout",
     "output_type": "stream",
     "text": [
      "(61, 600) (1, 600)\n"
     ]
    }
   ],
   "source": [
    "# Podemos re-configurar las matrices de la siguiente forma:\n",
    "CE_x2 = CE_x.T\n",
    "CP_x2 = CP_x.T\n",
    "CE_y2 = np.array(CE_y)[np.newaxis]\n",
    "CP_y2 = np.array(CP_y)[np.newaxis]\n",
    "\n",
    "print(CE_x2.shape, CE_y2.shape)"
   ]
  },
  {
   "cell_type": "code",
   "execution_count": 118,
   "metadata": {},
   "outputs": [
    {
     "ename": "ValueError",
     "evalue": "shapes (61,60) and (61,600) not aligned: 60 (dim 1) != 61 (dim 0)",
     "output_type": "error",
     "traceback": [
      "\u001b[1;31m---------------------------------------------------------------------------\u001b[0m",
      "\u001b[1;31mValueError\u001b[0m                                Traceback (most recent call last)",
      "\u001b[1;32m<ipython-input-118-cf7f9f815f3c>\u001b[0m in \u001b[0;36m<module>\u001b[1;34m\u001b[0m\n\u001b[1;32m----> 1\u001b[1;33m \u001b[0md\u001b[0m \u001b[1;33m=\u001b[0m \u001b[0mmodelo\u001b[0m\u001b[1;33m(\u001b[0m\u001b[0mCE_x2\u001b[0m\u001b[1;33m,\u001b[0m \u001b[0mCP_x2\u001b[0m\u001b[1;33m,\u001b[0m \u001b[0mCE_y2\u001b[0m\u001b[1;33m,\u001b[0m \u001b[0mCP_y2\u001b[0m\u001b[1;33m,\u001b[0m \u001b[0mnum_iter\u001b[0m \u001b[1;33m=\u001b[0m \u001b[1;36m1000\u001b[0m\u001b[1;33m,\u001b[0m \u001b[0mtasa\u001b[0m \u001b[1;33m=\u001b[0m \u001b[1;36m1e-6\u001b[0m\u001b[1;33m,\u001b[0m \u001b[0mprint_cost\u001b[0m \u001b[1;33m=\u001b[0m \u001b[1;32mTrue\u001b[0m\u001b[1;33m)\u001b[0m\u001b[1;33m\u001b[0m\u001b[1;33m\u001b[0m\u001b[0m\n\u001b[0m",
      "\u001b[1;32m<ipython-input-115-a780ed0bedf5>\u001b[0m in \u001b[0;36mmodelo\u001b[1;34m(CE_x, CP_x, CE_y, CP_y, num_iter, tasa, print_cost)\u001b[0m\n\u001b[0;32m     10\u001b[0m \u001b[1;33m\u001b[0m\u001b[0m\n\u001b[0;32m     11\u001b[0m     \u001b[1;31m# Descenso en la dirección del gradiente (GD)\u001b[0m\u001b[1;33m\u001b[0m\u001b[1;33m\u001b[0m\u001b[1;33m\u001b[0m\u001b[0m\n\u001b[1;32m---> 12\u001b[1;33m     \u001b[0mparams\u001b[0m\u001b[1;33m,\u001b[0m \u001b[0mgrads\u001b[0m\u001b[1;33m,\u001b[0m \u001b[0mcostes\u001b[0m \u001b[1;33m=\u001b[0m \u001b[0moptimiza\u001b[0m\u001b[1;33m(\u001b[0m\u001b[0mw\u001b[0m\u001b[1;33m,\u001b[0m \u001b[0mb\u001b[0m\u001b[1;33m,\u001b[0m \u001b[0mCE_x\u001b[0m\u001b[1;33m,\u001b[0m \u001b[0mCE_y\u001b[0m\u001b[1;33m,\u001b[0m \u001b[0mnum_iter\u001b[0m\u001b[1;33m,\u001b[0m \u001b[0mtasa\u001b[0m\u001b[1;33m,\u001b[0m \u001b[0mprint_cost\u001b[0m\u001b[1;33m)\u001b[0m\u001b[1;33m\u001b[0m\u001b[1;33m\u001b[0m\u001b[0m\n\u001b[0m\u001b[0;32m     13\u001b[0m \u001b[1;33m\u001b[0m\u001b[0m\n\u001b[0;32m     14\u001b[0m     \u001b[1;31m# Recupere los parámetros w y b del diccionario \"params\" ##\u001b[0m\u001b[1;33m\u001b[0m\u001b[1;33m\u001b[0m\u001b[1;33m\u001b[0m\u001b[0m\n",
      "\u001b[1;32m<ipython-input-111-14f39b013b75>\u001b[0m in \u001b[0;36moptimiza\u001b[1;34m(w, b, X, Y, num_iter, tasa, print_cost)\u001b[0m\n\u001b[0;32m     28\u001b[0m \u001b[1;33m\u001b[0m\u001b[0m\n\u001b[0;32m     29\u001b[0m         \u001b[1;31m# Computación del coste y el gradiente\u001b[0m\u001b[1;33m\u001b[0m\u001b[1;33m\u001b[0m\u001b[1;33m\u001b[0m\u001b[0m\n\u001b[1;32m---> 30\u001b[1;33m         \u001b[0mgrads\u001b[0m\u001b[1;33m,\u001b[0m \u001b[0mcoste\u001b[0m \u001b[1;33m=\u001b[0m \u001b[0mpropaga\u001b[0m\u001b[1;33m(\u001b[0m\u001b[0mw\u001b[0m\u001b[1;33m,\u001b[0m \u001b[0mb\u001b[0m\u001b[1;33m,\u001b[0m \u001b[0mX\u001b[0m\u001b[1;33m,\u001b[0m \u001b[0mY\u001b[0m\u001b[1;33m)\u001b[0m\u001b[1;33m\u001b[0m\u001b[1;33m\u001b[0m\u001b[0m\n\u001b[0m\u001b[0;32m     31\u001b[0m \u001b[1;33m\u001b[0m\u001b[0m\n\u001b[0;32m     32\u001b[0m         \u001b[1;31m# Recupere las derivadas de grads\u001b[0m\u001b[1;33m\u001b[0m\u001b[1;33m\u001b[0m\u001b[1;33m\u001b[0m\u001b[0m\n",
      "\u001b[1;32m<ipython-input-109-805f3d3a7c77>\u001b[0m in \u001b[0;36mpropaga\u001b[1;34m(w, b, X, Y)\u001b[0m\n\u001b[0;32m     17\u001b[0m     \u001b[0mm\u001b[0m \u001b[1;33m=\u001b[0m \u001b[0mX\u001b[0m\u001b[1;33m.\u001b[0m\u001b[0mshape\u001b[0m\u001b[1;33m[\u001b[0m\u001b[1;36m1\u001b[0m\u001b[1;33m]\u001b[0m\u001b[1;33m\u001b[0m\u001b[1;33m\u001b[0m\u001b[0m\n\u001b[0;32m     18\u001b[0m \u001b[1;33m\u001b[0m\u001b[0m\n\u001b[1;32m---> 19\u001b[1;33m     \u001b[0mA\u001b[0m \u001b[1;33m=\u001b[0m \u001b[0msigmoide\u001b[0m\u001b[1;33m(\u001b[0m\u001b[0mnp\u001b[0m\u001b[1;33m.\u001b[0m\u001b[0mdot\u001b[0m\u001b[1;33m(\u001b[0m\u001b[0mw\u001b[0m\u001b[1;33m.\u001b[0m\u001b[0mT\u001b[0m\u001b[1;33m,\u001b[0m \u001b[0mX\u001b[0m\u001b[1;33m)\u001b[0m \u001b[1;33m+\u001b[0m \u001b[0mb\u001b[0m\u001b[1;33m)\u001b[0m                      \u001b[1;31m# compute la activación\u001b[0m\u001b[1;33m\u001b[0m\u001b[1;33m\u001b[0m\u001b[0m\n\u001b[0m\u001b[0;32m     20\u001b[0m     \u001b[0mcoste\u001b[0m \u001b[1;33m=\u001b[0m \u001b[1;33m-\u001b[0m\u001b[1;33m(\u001b[0m\u001b[1;36m1\u001b[0m\u001b[1;33m/\u001b[0m\u001b[0mm\u001b[0m\u001b[1;33m)\u001b[0m\u001b[1;33m*\u001b[0m\u001b[0mnp\u001b[0m\u001b[1;33m.\u001b[0m\u001b[0msum\u001b[0m\u001b[1;33m(\u001b[0m\u001b[0mY\u001b[0m\u001b[1;33m*\u001b[0m\u001b[0mnp\u001b[0m\u001b[1;33m.\u001b[0m\u001b[0mlog\u001b[0m\u001b[1;33m(\u001b[0m\u001b[0mA\u001b[0m\u001b[1;33m)\u001b[0m\u001b[1;33m+\u001b[0m\u001b[1;33m(\u001b[0m\u001b[1;36m1\u001b[0m\u001b[1;33m-\u001b[0m\u001b[0mY\u001b[0m\u001b[1;33m)\u001b[0m\u001b[1;33m*\u001b[0m\u001b[0mnp\u001b[0m\u001b[1;33m.\u001b[0m\u001b[0mlog\u001b[0m\u001b[1;33m(\u001b[0m\u001b[1;36m1\u001b[0m\u001b[1;33m-\u001b[0m\u001b[0mA\u001b[0m\u001b[1;33m)\u001b[0m\u001b[1;33m)\u001b[0m  \u001b[1;31m# compute el coste\u001b[0m\u001b[1;33m\u001b[0m\u001b[1;33m\u001b[0m\u001b[0m\n\u001b[0;32m     21\u001b[0m \u001b[1;33m\u001b[0m\u001b[0m\n",
      "\u001b[1;31mValueError\u001b[0m: shapes (61,60) and (61,600) not aligned: 60 (dim 1) != 61 (dim 0)"
     ]
    }
   ],
   "source": [
    "d = modelo(CE_x2, CP_x2, CE_y2, CP_y2, num_iter = 1000, tasa = 1e-6, print_cost = True)"
   ]
  },
  {
   "cell_type": "code",
   "execution_count": null,
   "metadata": {},
   "outputs": [],
   "source": [
    "# Gráfica de la curva de aprendizaje (con costes)\n",
    "costes = np.squeeze(d['Costes'])\n",
    "plt.plot(costes)\n",
    "plt.ylabel('coste')\n",
    "plt.xlabel('iteraciones (en cientos)')\n",
    "plt.title(\"Tasa de aprendizaje =\" + str(d[\"Tasa de aprendizaje\"]))\n",
    "plt.show()"
   ]
  },
  {
   "cell_type": "code",
   "execution_count": 95,
   "metadata": {},
   "outputs": [
    {
     "name": "stdout",
     "output_type": "stream",
     "text": [
      "La tasa de aprendizaje es: 1\n"
     ]
    },
    {
     "name": "stderr",
     "output_type": "stream",
     "text": [
      "C:\\Users\\Cindy\\Anaconda3\\lib\\site-packages\\ipykernel_launcher.py:20: RuntimeWarning: divide by zero encountered in log\n",
      "C:\\Users\\Cindy\\Anaconda3\\lib\\site-packages\\ipykernel_launcher.py:20: RuntimeWarning: invalid value encountered in multiply\n"
     ]
    },
    {
     "name": "stdout",
     "output_type": "stream",
     "text": [
      "Accuracy de entrenamiento: 33.16666666666667 %\n",
      "Accuracy de prueba: 33.5 %\n",
      "\n",
      "-------------------------------------------------------\n",
      "\n",
      "La tasa de aprendizaje es: 0.1\n",
      "Accuracy de entrenamiento: 70.0 %\n",
      "Accuracy de prueba: 70.0 %\n",
      "\n",
      "-------------------------------------------------------\n",
      "\n",
      "La tasa de aprendizaje es: 0.01\n",
      "Accuracy de entrenamiento: 70.0 %\n",
      "Accuracy de prueba: 70.0 %\n",
      "\n",
      "-------------------------------------------------------\n",
      "\n",
      "La tasa de aprendizaje es: 0.001\n",
      "Accuracy de entrenamiento: 70.0 %\n",
      "Accuracy de prueba: 70.0 %\n",
      "\n",
      "-------------------------------------------------------\n",
      "\n",
      "La tasa de aprendizaje es: 0.0001\n",
      "Accuracy de entrenamiento: 33.0 %\n",
      "Accuracy de prueba: 32.75 %\n",
      "\n",
      "-------------------------------------------------------\n",
      "\n",
      "La tasa de aprendizaje es: 1e-06\n",
      "Accuracy de entrenamiento: 70.0 %\n",
      "Accuracy de prueba: 70.0 %\n",
      "\n",
      "-------------------------------------------------------\n",
      "\n",
      "La tasa de aprendizaje es: 1e-10\n",
      "Accuracy de entrenamiento: 70.0 %\n",
      "Accuracy de prueba: 70.0 %\n",
      "\n",
      "-------------------------------------------------------\n",
      "\n",
      "La tasa de aprendizaje es: 2e-20\n",
      "Accuracy de entrenamiento: 70.0 %\n",
      "Accuracy de prueba: 70.0 %\n",
      "\n",
      "-------------------------------------------------------\n",
      "\n"
     ]
    },
    {
     "data": {
      "image/png": "[encoded data removed]",
      "text/plain": [
       "<Figure size 432x288 with 1 Axes>"
      ]
     },
     "metadata": {
      "needs_background": "light"
     },
     "output_type": "display_data"
    }
   ],
   "source": [
    "tasas = [1,0.1,0.01,0.001, 1e-4, 1e-6, 1e-10, 2e-20]\n",
    "modelos = {}\n",
    "for i in tasas:\n",
    "    print (\"La tasa de aprendizaje es: \" + str(i))\n",
    "    modelos[str(i)] = modelo(CE_x2, CP_x2, CE_y2, CP_y2, num_iter = 2000, tasa = i, print_cost = False)\n",
    "    print ('\\n' + \"-------------------------------------------------------\" + '\\n')\n",
    "\n",
    "for i in tasas:\n",
    "    plt.plot(np.squeeze(modelos[str(i)][\"Costes\"]), label= str(modelos[str(i)][\"Tasa de aprendizaje\"]))\n",
    "\n",
    "plt.ylabel('coste')\n",
    "plt.xlabel('iteraciones (en cientos)')\n",
    "\n",
    "legend = plt.legend(loc='upper center', shadow=True)\n",
    "frame = legend.get_frame()\n",
    "frame.set_facecolor('0.90')\n",
    "plt.show()"
   ]
  },
  {
   "cell_type": "code",
   "execution_count": null,
   "metadata": {},
   "outputs": [],
   "source": [
    "#logT = LogisticRegression(penalty='none', max_iter=1500)\n",
    "logT = LogisticRegression(max_iter=1500)\n",
    "logT.fit(CE_x, CE_y)\n",
    "y_tr = logT.predict(CE_x)\n",
    "y_pred = logT.predict(CP_x)"
   ]
  },
  {
   "cell_type": "code",
   "execution_count": null,
   "metadata": {},
   "outputs": [],
   "source": [
    "logT_coef = logT.coef_"
   ]
  },
  {
   "cell_type": "code",
   "execution_count": null,
   "metadata": {},
   "outputs": [],
   "source": [
    "from astropy.table import QTable, Table, Column\n",
    "\n",
    "x = logT_coef - d['w'].T\n",
    "\n",
    "Tabla =  Table([logT_coef.T, d['w'], x.T], names=(\"Regresion logistica\", \"Neurona sigmoide\",\\\n",
    "                                                  \"Diferencia\"))\n",
    "Tabla"
   ]
  },
  {
   "cell_type": "code",
   "execution_count": null,
   "metadata": {},
   "outputs": [],
   "source": [
    "print(\"La neurona sigmoide tiene una exactitud de entrenamiento: \" \n",
    "      +str(float((d['Prediccion_entrenamiento'] == CE_y2).mean())) \\\n",
    "      +\" y de validacion: \" +str(float((d['Prediccion_prueba'] == CP_y2).mean())))\n",
    "print(\"La regresion tradicional tiene una exactitud de entrenamiento: \" \n",
    "      +str(float((y_tr == CE_y).mean())) +\" y de validacion: \" +str(float((y_pred == CP_y).mean())))"
   ]
  },
  {
   "cell_type": "code",
   "execution_count": null,
   "metadata": {},
   "outputs": [],
   "source": []
  },
  {
   "cell_type": "code",
   "execution_count": null,
   "metadata": {},
   "outputs": [],
   "source": []
  },
  {
   "cell_type": "code",
   "execution_count": null,
   "metadata": {},
   "outputs": [],
   "source": []
  },
  {
   "cell_type": "code",
   "execution_count": null,
   "metadata": {},
   "outputs": [],
   "source": []
  },
  {
   "cell_type": "code",
   "execution_count": null,
   "metadata": {},
   "outputs": [],
   "source": []
  }
 ],
 "metadata": {
  "kernelspec": {
   "display_name": "Python 3",
   "language": "python",
   "name": "python3"
  },
  "language_info": {
   "codemirror_mode": {
    "name": "ipython",
    "version": 3
   },
   "file_extension": ".py",
   "mimetype": "text/x-python",
   "name": "python",
   "nbconvert_exporter": "python",
   "pygments_lexer": "ipython3",
   "version": "3.7.3"
  }
 },
 "nbformat": 4,
 "nbformat_minor": 2
}

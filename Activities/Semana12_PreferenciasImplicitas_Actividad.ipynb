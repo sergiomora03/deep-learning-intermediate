{
  "nbformat": 4,
  "nbformat_minor": 0,
  "metadata": {
    "kernelspec": {
      "display_name": "Python 3",
      "language": "python",
      "name": "python3"
    },
    "language_info": {
      "codemirror_mode": {
        "name": "ipython",
        "version": 3
      },
      "file_extension": ".py",
      "mimetype": "text/x-python",
      "name": "python",
      "nbconvert_exporter": "python",
      "pygments_lexer": "ipython3",
      "version": "3.7.6"
    },
    "colab": {
      "name": "Semana12_PreferenciasImplicitas_Actividad.ipynb",
      "provenance": [],
      "collapsed_sections": [],
      "include_colab_link": true
    },
    "accelerator": "GPU",
    "widgets": {
      "application/vnd.jupyter.widget-state+json": {
        "0bbc6115e656494fa876d416bca955de": {
          "model_module": "@jupyter-widgets/controls",
          "model_name": "HBoxModel",
          "state": {
            "_view_name": "HBoxView",
            "_dom_classes": [],
            "_model_name": "HBoxModel",
            "_view_module": "@jupyter-widgets/controls",
            "_model_module_version": "1.5.0",
            "_view_count": null,
            "_view_module_version": "1.5.0",
            "box_style": "",
            "layout": "IPY_MODEL_9c8c91c4219646c28f479e6fcb388eb8",
            "_model_module": "@jupyter-widgets/controls",
            "children": [
              "IPY_MODEL_bfa7a90947e548e6a078408fbd810669",
              "IPY_MODEL_6948fe851b62470893241dec760db7eb"
            ]
          }
        },
        "9c8c91c4219646c28f479e6fcb388eb8": {
          "model_module": "@jupyter-widgets/base",
          "model_name": "LayoutModel",
          "state": {
            "_view_name": "LayoutView",
            "grid_template_rows": null,
            "right": null,
            "justify_content": null,
            "_view_module": "@jupyter-widgets/base",
            "overflow": null,
            "_model_module_version": "1.2.0",
            "_view_count": null,
            "flex_flow": null,
            "width": null,
            "min_width": null,
            "border": null,
            "align_items": null,
            "bottom": null,
            "_model_module": "@jupyter-widgets/base",
            "top": null,
            "grid_column": null,
            "overflow_y": null,
            "overflow_x": null,
            "grid_auto_flow": null,
            "grid_area": null,
            "grid_template_columns": null,
            "flex": null,
            "_model_name": "LayoutModel",
            "justify_items": null,
            "grid_row": null,
            "max_height": null,
            "align_content": null,
            "visibility": null,
            "align_self": null,
            "height": null,
            "min_height": null,
            "padding": null,
            "grid_auto_rows": null,
            "grid_gap": null,
            "max_width": null,
            "order": null,
            "_view_module_version": "1.2.0",
            "grid_template_areas": null,
            "object_position": null,
            "object_fit": null,
            "grid_auto_columns": null,
            "margin": null,
            "display": null,
            "left": null
          }
        },
        "bfa7a90947e548e6a078408fbd810669": {
          "model_module": "@jupyter-widgets/controls",
          "model_name": "FloatProgressModel",
          "state": {
            "_view_name": "ProgressView",
            "style": "IPY_MODEL_16e2530c17f24f4eba8af2d7a189ba34",
            "_dom_classes": [],
            "description": "100%",
            "_model_name": "FloatProgressModel",
            "bar_style": "success",
            "max": 50,
            "_view_module": "@jupyter-widgets/controls",
            "_model_module_version": "1.5.0",
            "value": 50,
            "_view_count": null,
            "_view_module_version": "1.5.0",
            "orientation": "horizontal",
            "min": 0,
            "description_tooltip": null,
            "_model_module": "@jupyter-widgets/controls",
            "layout": "IPY_MODEL_583362768b3d44fea4a98fb8cdf5e57a"
          }
        },
        "6948fe851b62470893241dec760db7eb": {
          "model_module": "@jupyter-widgets/controls",
          "model_name": "HTMLModel",
          "state": {
            "_view_name": "HTMLView",
            "style": "IPY_MODEL_407e6e6427a44a438ae3afbd9078185e",
            "_dom_classes": [],
            "description": "",
            "_model_name": "HTMLModel",
            "placeholder": "​",
            "_view_module": "@jupyter-widgets/controls",
            "_model_module_version": "1.5.0",
            "value": " 50/50 [00:22&lt;00:00,  2.21it/s]",
            "_view_count": null,
            "_view_module_version": "1.5.0",
            "description_tooltip": null,
            "_model_module": "@jupyter-widgets/controls",
            "layout": "IPY_MODEL_6edfffc9b3d744b0acefa187506afa6d"
          }
        },
        "16e2530c17f24f4eba8af2d7a189ba34": {
          "model_module": "@jupyter-widgets/controls",
          "model_name": "ProgressStyleModel",
          "state": {
            "_view_name": "StyleView",
            "_model_name": "ProgressStyleModel",
            "description_width": "initial",
            "_view_module": "@jupyter-widgets/base",
            "_model_module_version": "1.5.0",
            "_view_count": null,
            "_view_module_version": "1.2.0",
            "bar_color": null,
            "_model_module": "@jupyter-widgets/controls"
          }
        },
        "583362768b3d44fea4a98fb8cdf5e57a": {
          "model_module": "@jupyter-widgets/base",
          "model_name": "LayoutModel",
          "state": {
            "_view_name": "LayoutView",
            "grid_template_rows": null,
            "right": null,
            "justify_content": null,
            "_view_module": "@jupyter-widgets/base",
            "overflow": null,
            "_model_module_version": "1.2.0",
            "_view_count": null,
            "flex_flow": null,
            "width": null,
            "min_width": null,
            "border": null,
            "align_items": null,
            "bottom": null,
            "_model_module": "@jupyter-widgets/base",
            "top": null,
            "grid_column": null,
            "overflow_y": null,
            "overflow_x": null,
            "grid_auto_flow": null,
            "grid_area": null,
            "grid_template_columns": null,
            "flex": null,
            "_model_name": "LayoutModel",
            "justify_items": null,
            "grid_row": null,
            "max_height": null,
            "align_content": null,
            "visibility": null,
            "align_self": null,
            "height": null,
            "min_height": null,
            "padding": null,
            "grid_auto_rows": null,
            "grid_gap": null,
            "max_width": null,
            "order": null,
            "_view_module_version": "1.2.0",
            "grid_template_areas": null,
            "object_position": null,
            "object_fit": null,
            "grid_auto_columns": null,
            "margin": null,
            "display": null,
            "left": null
          }
        },
        "407e6e6427a44a438ae3afbd9078185e": {
          "model_module": "@jupyter-widgets/controls",
          "model_name": "DescriptionStyleModel",
          "state": {
            "_view_name": "StyleView",
            "_model_name": "DescriptionStyleModel",
            "description_width": "",
            "_view_module": "@jupyter-widgets/base",
            "_model_module_version": "1.5.0",
            "_view_count": null,
            "_view_module_version": "1.2.0",
            "_model_module": "@jupyter-widgets/controls"
          }
        },
        "6edfffc9b3d744b0acefa187506afa6d": {
          "model_module": "@jupyter-widgets/base",
          "model_name": "LayoutModel",
          "state": {
            "_view_name": "LayoutView",
            "grid_template_rows": null,
            "right": null,
            "justify_content": null,
            "_view_module": "@jupyter-widgets/base",
            "overflow": null,
            "_model_module_version": "1.2.0",
            "_view_count": null,
            "flex_flow": null,
            "width": null,
            "min_width": null,
            "border": null,
            "align_items": null,
            "bottom": null,
            "_model_module": "@jupyter-widgets/base",
            "top": null,
            "grid_column": null,
            "overflow_y": null,
            "overflow_x": null,
            "grid_auto_flow": null,
            "grid_area": null,
            "grid_template_columns": null,
            "flex": null,
            "_model_name": "LayoutModel",
            "justify_items": null,
            "grid_row": null,
            "max_height": null,
            "align_content": null,
            "visibility": null,
            "align_self": null,
            "height": null,
            "min_height": null,
            "padding": null,
            "grid_auto_rows": null,
            "grid_gap": null,
            "max_width": null,
            "order": null,
            "_view_module_version": "1.2.0",
            "grid_template_areas": null,
            "object_position": null,
            "object_fit": null,
            "grid_auto_columns": null,
            "margin": null,
            "display": null,
            "left": null
          }
        }
      }
    }
  },
  "cells": [
    {
      "cell_type": "markdown",
      "metadata": {
        "id": "view-in-github",
        "colab_type": "text"
      },
      "source": [
        "<a href=\"https://colab.research.google.com/github/sergiomora03/deep-learning-intermediate/blob/master/Activities/Semana12_PreferenciasImplicitas_Actividad.ipynb\" target=\"_parent\"><img src=\"https://colab.research.google.com/assets/colab-badge.svg\" alt=\"Open In Colab\"/></a>"
      ]
    },
    {
      "cell_type": "markdown",
      "metadata": {
        "id": "rMYXuB2nLswo"
      },
      "source": [
        "## MIIA-4203 MODELOS AVANZADOS PARA ANÁLISIS DE DATOS II\n",
        "\n",
        "\n",
        "# Sistemas de Recomendación de filtrado colaborativo con preferencias implícitas\n",
        "\n",
        "## Actividad 12\n",
        "\n",
        "\n",
        "### Profesor: Camilo Franco (c.franco31@uniandes.edu.co)\n",
        "\n",
        "\n",
        "En este cuaderno vamos a estudiar los sistemas de recomendación de filtrado colaborativo con preferencias implícitas. Vamos a centrarnos en un método incluido en la biblioteca de Spark, conocido como *Mínimos Cuadrados Alternantes* (ALS). \n",
        "\n"
      ]
    },
    {
      "cell_type": "markdown",
      "metadata": {
        "id": "-O76qXxWLswr"
      },
      "source": [
        "## 1. Introducción\n",
        "\n",
        "Los sistemas de recomendación se han convertido en parte importante de la industria, potenciando el volumen de ventas a partir de recomendaciones personalizadas. Estos sistemas tienen la prioridad de facilitar la toma de decisiones de los usuarios.  Por ejemplo,  si se tienen muchas opciones de donde elegir, se puede esperar que la elección de un solo producto sea más compleja que si se tienen unas pocas opciones. De esta manera, si se ofrecen los productos adecuados, las ventas pueden incrementar de manera significativa.Bien implementados, los sistemas de recomendación pueden brindar ventajas competitivas importantes para las compañías.\n",
        "\n",
        "\n",
        "Los sistemas de recomendación los podemos ver como motores diseñados para ayudar a los usuarios a encontrar los artículos que les gustan, pero también los podemos pensar como sistemas de información inteligentes que tienen como objetivo ayudar a los usuarios a manejar el problema de la sobrecarga de información. En este sentido, lo que distingue a los sistemas de recomendación de los motores de búsqueda es que aplican el aprendizaje automático de una manera personalizada. Por lo tanto, los sistemas de recomendación permiten construir modelos para satisfacer las preferencias de los usuarios, y encontrar los artículos o servicios necesarios para obtener un mejor sustento y bienestar individual y social.\n",
        "\n"
      ]
    },
    {
      "cell_type": "markdown",
      "metadata": {
        "id": "pPho7_a4Lswu"
      },
      "source": [
        "Veamos algunos ejemplos de sistemas de recomendación en la industria:\n",
        "\n",
        "- Métodos basados en contenido: el punto más importante para este tipo de sistemas es la extracción de patrones. Por ejemplo, la compañía Pandora, que ofrece musica online por *streaming*, extrajo patrones (*features*) de un conjunto de canciones como parte de Proyecto del Genoma Musical. De esta forma, las canciones se respresentaron por un vector de aproximadamente 450 atributos. Una vez se cuenta con este conjunto de patrones, el problema de recomendación se puede estudiar como uno de clasificación binaria. Entonces se construyen modelos que estimen la probabilidad de que a un usuario le guste una canción específica basado en el conjunto de entrenamiento de su historial de canciones, y se recominedan las K canciones que obtengan una mayor probabilidad. Bajo esta aproximación a los sistemas de recomendación por contenido, es crucial la construcción de un buen conjunto de patrones para su aplicación adecuada y exitosa.\n",
        "\n",
        "\n",
        "- Filtrado colaborativo: Bajo la perspectiva del filtrado colaborativo, se busca caracterizar la relación entre usuarios e items sin requerir información específica de los usuarios e items, sino solamente utilizando un valor de preferencia *explícito* o *implícito*, expresando la interacción entre usuario e items. \n",
        "\n",
        "Un **rating explícito** consiste en un valor numérico, categórico o un *like*, mientras que un **rating implícito** consiste en un *índice* de preferencia, como un *click*, una vista o una compra. Un ejemplo bastante conocido es el de la recomendación de películas como en Netflix. Es común contar con ratings valorados en una escala numérica, donde es fácil ver si el usuario a disfrutado o no de la película. Sin embargo, muchas veces los usuarios no proveen ratings para todas las películas, reduciendo la cantidad de datos disponibles para construir las recomendaciones. Netflix al menos puede identificar si un usuario vió una película, sin saber si le gustó o no, simplemente que la vió. Este último es un rating implícito, y suele ser más común que un rating explícito. De esta manera, es factible que al centrarse en ratings implícitos, la información disponible sea mayor (aunque menos expresiva). \n",
        "\n",
        "- Métodos híbridos de filtrado colaborativo e información demográfica: Una red social como Facebook o Linkedin cuenta con bastante información demográfica de los usuarios. Con base en estos datos se pueden identificar usuarios similares a partir de sus características en común. De manera similar al método basado en contenido, se puede construir un vector de patrones para cada usuario y se generan los modelos para predecir la probabilidad de preferir ciertos items.\n",
        "\n",
        "\n",
        "Para una introducción más amplia a los sistemas de recomendación, pueden estudiar estos videos online: \n",
        "1. https://www.youtube.com/watch?v=bLhq63ygoU8&feature=emb_logo\n",
        "\n",
        "2. https://www.youtube.com/watch?v=mRToFXlNBpQ"
      ]
    },
    {
      "cell_type": "markdown",
      "metadata": {
        "id": "889humMZLsww"
      },
      "source": [
        "## 2. Filtrado colaborativo y preferencias implíctas\n",
        "\n",
        "Para esta actividad vamos a utilizar el método de mínimos cuadrados alternantes (ALS). Esta técnica busca descomponer una matriz de preferencias $R_{m\\times n}$, con $m$ usuarios y $n$ items, en dos matrices más pequeñas: la matriz de usuarios con sus vectores de patrones latentes $U_{m\\times k}$ y la respectiva matriz de items $V_{k\\times n}$. Se debe tener en cuenta que la matriz $R_{m\\times n}$ tiene muchos datos faltantes (una matriz *sparse*), pues muchos usuarios interactuan con unos pocos items.\n",
        "\n",
        "Entonces, la multiplicación de las matrices $U$ y $V$ permite aproximar la matriz original, y de manera sencilla (pues contaríamos con dos matrices *densas* que incluyen $k$ factores/patrones latentes) podemos construir e interpretar las preferencias estimadas de cada usuario por cada item.\n",
        "\n",
        "Para estimar $U$ y $V$, resulta conveniente utilizar el método de los ALS. De este modo, se resuelve un vector de patrones a la vez, alternando primero para la matriz de usuarios y luego para la matriz de items, y se puede ejecutar de manera paralela (siguiendo la filosofía de Spark). Por ejemplo, inicializando aleatoriamente $U$, fijándola, y resolviendo para $V$, y luego volver y resolver para $U$ utilizando la solución previa para $V$, y repetir hasta converger. \n",
        "\n",
        "Como resultado, el producto punto entre $U$ y $V$ permite estimar $\\hat R$, para todos los pares usuario-item, así no haya habido interacción previa entre los pares. Esta metdología fue presentada en el paper: \n",
        "\n",
        "*Hu, Y., Koren, Y., Volinsky, Ch. (2008) Collaborative filtering for implicit feedback datasets. Proceedings 2008 Eighth IEEE International Conference on Data Mining, Washington, USA, 3022-3026.*\n",
        "\n",
        "Veamos a continuación la implementación del método con un conjunto de datos con preferencias implícitas."
      ]
    },
    {
      "cell_type": "markdown",
      "metadata": {
        "id": "NeNyBeB9Lswx"
      },
      "source": [
        "## 2.1 Procesamiento de datos\n",
        "\n",
        "Vamos a utilizar el archivo de datos *Online Retail* (del repositorio de Machine Learning UCI), el cual contiene todas las compras para una compañía de venta al por menor en el Reino Unido durante ocho meses.\n",
        "\n",
        "Primero carguemos algunas bibliotecas que van a ser útiles para el pre-procesamiento de los datos: "
      ]
    },
    {
      "cell_type": "code",
      "metadata": {
        "id": "XlviIoeyLswz"
      },
      "source": [
        "import pandas as pd\n",
        "import scipy.sparse as sparse\n",
        "import numpy as np\n",
        "from scipy.sparse.linalg import spsolve\n",
        "\n",
        "import random\n",
        "import datetime\n"
      ],
      "execution_count": null,
      "outputs": []
    },
    {
      "cell_type": "markdown",
      "metadata": {
        "id": "v6fFLr2xLsw7"
      },
      "source": [
        "Carguemos los datos del archivo .xls:"
      ]
    },
    {
      "cell_type": "code",
      "metadata": {
        "scrolled": true,
        "id": "a59TJCueLsw8"
      },
      "source": [
        "website_url = 'http://archive.ics.uci.edu/ml/machine-learning-databases/00352/Online%20Retail.xlsx'\n",
        "\n",
        "try:\n",
        "    retail_data = pd.read_excel(website_url) # No debería tardar mucho\n",
        "except (http.client.IncompleteRead) as e:\n",
        "    retail_data = e.partial"
      ],
      "execution_count": null,
      "outputs": []
    },
    {
      "cell_type": "markdown",
      "metadata": {
        "id": "8ZuQNNn-LsxC"
      },
      "source": [
        "Debemos tomar todas las transacciones para cada usuario y preparar los datos para la implementación del ALS. Para ello necesitamos un ID unico por usuario/fila, y un ID unico por item/columna. Los valores de la matriz deben consistir en el número de compras de cada usuario por cada item. "
      ]
    },
    {
      "cell_type": "code",
      "metadata": {
        "id": "yZBru6oGLsxE",
        "outputId": "b46f96cc-f8f5-4b9e-b746-6167683e40f7",
        "colab": {
          "base_uri": "https://localhost:8080/",
          "height": 198
        }
      },
      "source": [
        "retail_data.head()"
      ],
      "execution_count": null,
      "outputs": [
        {
          "output_type": "execute_result",
          "data": {
            "text/html": [
              "<div>\n",
              "<style scoped>\n",
              "    .dataframe tbody tr th:only-of-type {\n",
              "        vertical-align: middle;\n",
              "    }\n",
              "\n",
              "    .dataframe tbody tr th {\n",
              "        vertical-align: top;\n",
              "    }\n",
              "\n",
              "    .dataframe thead th {\n",
              "        text-align: right;\n",
              "    }\n",
              "</style>\n",
              "<table border=\"1\" class=\"dataframe\">\n",
              "  <thead>\n",
              "    <tr style=\"text-align: right;\">\n",
              "      <th></th>\n",
              "      <th>InvoiceNo</th>\n",
              "      <th>StockCode</th>\n",
              "      <th>Description</th>\n",
              "      <th>Quantity</th>\n",
              "      <th>InvoiceDate</th>\n",
              "      <th>UnitPrice</th>\n",
              "      <th>CustomerID</th>\n",
              "      <th>Country</th>\n",
              "    </tr>\n",
              "  </thead>\n",
              "  <tbody>\n",
              "    <tr>\n",
              "      <th>0</th>\n",
              "      <td>536365</td>\n",
              "      <td>85123A</td>\n",
              "      <td>WHITE HANGING HEART T-LIGHT HOLDER</td>\n",
              "      <td>6</td>\n",
              "      <td>2010-12-01 08:26:00</td>\n",
              "      <td>2.55</td>\n",
              "      <td>17850.0</td>\n",
              "      <td>United Kingdom</td>\n",
              "    </tr>\n",
              "    <tr>\n",
              "      <th>1</th>\n",
              "      <td>536365</td>\n",
              "      <td>71053</td>\n",
              "      <td>WHITE METAL LANTERN</td>\n",
              "      <td>6</td>\n",
              "      <td>2010-12-01 08:26:00</td>\n",
              "      <td>3.39</td>\n",
              "      <td>17850.0</td>\n",
              "      <td>United Kingdom</td>\n",
              "    </tr>\n",
              "    <tr>\n",
              "      <th>2</th>\n",
              "      <td>536365</td>\n",
              "      <td>84406B</td>\n",
              "      <td>CREAM CUPID HEARTS COAT HANGER</td>\n",
              "      <td>8</td>\n",
              "      <td>2010-12-01 08:26:00</td>\n",
              "      <td>2.75</td>\n",
              "      <td>17850.0</td>\n",
              "      <td>United Kingdom</td>\n",
              "    </tr>\n",
              "    <tr>\n",
              "      <th>3</th>\n",
              "      <td>536365</td>\n",
              "      <td>84029G</td>\n",
              "      <td>KNITTED UNION FLAG HOT WATER BOTTLE</td>\n",
              "      <td>6</td>\n",
              "      <td>2010-12-01 08:26:00</td>\n",
              "      <td>3.39</td>\n",
              "      <td>17850.0</td>\n",
              "      <td>United Kingdom</td>\n",
              "    </tr>\n",
              "    <tr>\n",
              "      <th>4</th>\n",
              "      <td>536365</td>\n",
              "      <td>84029E</td>\n",
              "      <td>RED WOOLLY HOTTIE WHITE HEART.</td>\n",
              "      <td>6</td>\n",
              "      <td>2010-12-01 08:26:00</td>\n",
              "      <td>3.39</td>\n",
              "      <td>17850.0</td>\n",
              "      <td>United Kingdom</td>\n",
              "    </tr>\n",
              "  </tbody>\n",
              "</table>\n",
              "</div>"
            ],
            "text/plain": [
              "  InvoiceNo StockCode  ... CustomerID         Country\n",
              "0    536365    85123A  ...    17850.0  United Kingdom\n",
              "1    536365     71053  ...    17850.0  United Kingdom\n",
              "2    536365    84406B  ...    17850.0  United Kingdom\n",
              "3    536365    84029G  ...    17850.0  United Kingdom\n",
              "4    536365    84029E  ...    17850.0  United Kingdom\n",
              "\n",
              "[5 rows x 8 columns]"
            ]
          },
          "metadata": {
            "tags": []
          },
          "execution_count": 3
        }
      ]
    },
    {
      "cell_type": "markdown",
      "metadata": {
        "id": "8PlOld4lLsxK"
      },
      "source": [
        "El conjunto de datos incluye un numero identificativo para cada compra, junto con el codigo de stock *StockCode* que nos sirve como ID del tiem. Además contamos con su descripción, el número de ventas, la fecha de la venta, el precio, el ID del usuario, y el pais de origen del usuario.\n"
      ]
    },
    {
      "cell_type": "code",
      "metadata": {
        "id": "fneeHIjqLsxK",
        "outputId": "f4e096bf-33d0-413d-c3de-796376780238",
        "colab": {
          "base_uri": "https://localhost:8080/"
        }
      },
      "source": [
        "retail_data.info()"
      ],
      "execution_count": null,
      "outputs": [
        {
          "output_type": "stream",
          "text": [
            "<class 'pandas.core.frame.DataFrame'>\n",
            "RangeIndex: 541909 entries, 0 to 541908\n",
            "Data columns (total 8 columns):\n",
            " #   Column       Non-Null Count   Dtype         \n",
            "---  ------       --------------   -----         \n",
            " 0   InvoiceNo    541909 non-null  object        \n",
            " 1   StockCode    541909 non-null  object        \n",
            " 2   Description  540455 non-null  object        \n",
            " 3   Quantity     541909 non-null  int64         \n",
            " 4   InvoiceDate  541909 non-null  datetime64[ns]\n",
            " 5   UnitPrice    541909 non-null  float64       \n",
            " 6   CustomerID   406829 non-null  float64       \n",
            " 7   Country      541909 non-null  object        \n",
            "dtypes: datetime64[ns](1), float64(2), int64(1), object(4)\n",
            "memory usage: 33.1+ MB\n"
          ],
          "name": "stdout"
        }
      ]
    },
    {
      "cell_type": "markdown",
      "metadata": {
        "id": "UYMmAwAtLsxP"
      },
      "source": [
        "En el resumen de los datos se puede ver que la mayoría de columnas cuentan con información, pero el ID del usuario falta en bastantes filas. Estas observaciones faltantes hacen inservibles las observaciones para nuestros porpósitos (necesitamos el ID del usuario). \n"
      ]
    },
    {
      "cell_type": "code",
      "metadata": {
        "id": "Q4jdD5l3LsxQ"
      },
      "source": [
        "retail = retail_data.loc[pd.isnull(retail_data.CustomerID) == False]"
      ],
      "execution_count": null,
      "outputs": []
    },
    {
      "cell_type": "code",
      "metadata": {
        "id": "yADHeZd6LsxV",
        "outputId": "3fe73268-8c89-4454-b901-46b186bff51f",
        "colab": {
          "base_uri": "https://localhost:8080/"
        }
      },
      "source": [
        "retail.info()\n"
      ],
      "execution_count": null,
      "outputs": [
        {
          "output_type": "stream",
          "text": [
            "<class 'pandas.core.frame.DataFrame'>\n",
            "Int64Index: 406829 entries, 0 to 541908\n",
            "Data columns (total 8 columns):\n",
            " #   Column       Non-Null Count   Dtype         \n",
            "---  ------       --------------   -----         \n",
            " 0   InvoiceNo    406829 non-null  object        \n",
            " 1   StockCode    406829 non-null  object        \n",
            " 2   Description  406829 non-null  object        \n",
            " 3   Quantity     406829 non-null  int64         \n",
            " 4   InvoiceDate  406829 non-null  datetime64[ns]\n",
            " 5   UnitPrice    406829 non-null  float64       \n",
            " 6   CustomerID   406829 non-null  float64       \n",
            " 7   Country      406829 non-null  object        \n",
            "dtypes: datetime64[ns](1), float64(2), int64(1), object(4)\n",
            "memory usage: 27.9+ MB\n"
          ],
          "name": "stdout"
        }
      ]
    },
    {
      "cell_type": "markdown",
      "metadata": {
        "id": "f8Dvx5mtLsxd"
      },
      "source": [
        "Una vez limpiamos la base de datos de observaciones faltantes, podemos relacionar todas las compras con su cliente/usuario. \n",
        "\n",
        "Antes de proceder con la matriz de ratings, construyamos una tabla donde podamos encontrar cada ID de item junto con su descripción. "
      ]
    },
    {
      "cell_type": "code",
      "metadata": {
        "id": "BQs7MRoULsxd"
      },
      "source": [
        "items_T = retail[['StockCode', 'Description']].drop_duplicates() # pares item/descripcion\n",
        "items_T['StockCode'] = items_T.StockCode.astype(str) # caracteres"
      ],
      "execution_count": null,
      "outputs": []
    },
    {
      "cell_type": "code",
      "metadata": {
        "id": "f2Wqb-WjLsxh",
        "outputId": "8b893a8b-92f1-48b7-89e6-82ab741aa09d",
        "colab": {
          "base_uri": "https://localhost:8080/",
          "height": 198
        }
      },
      "source": [
        "items_T.head()"
      ],
      "execution_count": null,
      "outputs": [
        {
          "output_type": "execute_result",
          "data": {
            "text/html": [
              "<div>\n",
              "<style scoped>\n",
              "    .dataframe tbody tr th:only-of-type {\n",
              "        vertical-align: middle;\n",
              "    }\n",
              "\n",
              "    .dataframe tbody tr th {\n",
              "        vertical-align: top;\n",
              "    }\n",
              "\n",
              "    .dataframe thead th {\n",
              "        text-align: right;\n",
              "    }\n",
              "</style>\n",
              "<table border=\"1\" class=\"dataframe\">\n",
              "  <thead>\n",
              "    <tr style=\"text-align: right;\">\n",
              "      <th></th>\n",
              "      <th>StockCode</th>\n",
              "      <th>Description</th>\n",
              "    </tr>\n",
              "  </thead>\n",
              "  <tbody>\n",
              "    <tr>\n",
              "      <th>0</th>\n",
              "      <td>85123A</td>\n",
              "      <td>WHITE HANGING HEART T-LIGHT HOLDER</td>\n",
              "    </tr>\n",
              "    <tr>\n",
              "      <th>1</th>\n",
              "      <td>71053</td>\n",
              "      <td>WHITE METAL LANTERN</td>\n",
              "    </tr>\n",
              "    <tr>\n",
              "      <th>2</th>\n",
              "      <td>84406B</td>\n",
              "      <td>CREAM CUPID HEARTS COAT HANGER</td>\n",
              "    </tr>\n",
              "    <tr>\n",
              "      <th>3</th>\n",
              "      <td>84029G</td>\n",
              "      <td>KNITTED UNION FLAG HOT WATER BOTTLE</td>\n",
              "    </tr>\n",
              "    <tr>\n",
              "      <th>4</th>\n",
              "      <td>84029E</td>\n",
              "      <td>RED WOOLLY HOTTIE WHITE HEART.</td>\n",
              "    </tr>\n",
              "  </tbody>\n",
              "</table>\n",
              "</div>"
            ],
            "text/plain": [
              "  StockCode                          Description\n",
              "0    85123A   WHITE HANGING HEART T-LIGHT HOLDER\n",
              "1     71053                  WHITE METAL LANTERN\n",
              "2    84406B       CREAM CUPID HEARTS COAT HANGER\n",
              "3    84029G  KNITTED UNION FLAG HOT WATER BOTTLE\n",
              "4    84029E       RED WOOLLY HOTTIE WHITE HEART."
            ]
          },
          "metadata": {
            "tags": []
          },
          "execution_count": 8
        }
      ]
    },
    {
      "cell_type": "markdown",
      "metadata": {
        "id": "fUd6-GNJLsxl"
      },
      "source": [
        "Ahora procesar la base de datos para:\n",
        "\n",
        "- Agrupar las ventas por codigo de stock e ID del item\n",
        "- Incluir clientes con un total de compras no negativo, y cambiar las sumas que den cero por uno, lo cual puede suceder si un producto es devuelto. Esto lo hacemos para incluir información sobre cualquier tipo de interacción usuario-item. \n",
        "- Construir nuestra matriz de datos tipo *sparse*, que haga uso óptimo de memoria (guarda solamente la ubicación y los valores de los items cuando hay interacción)\n"
      ]
    },
    {
      "cell_type": "code",
      "metadata": {
        "id": "bWSPZrzOLsxm",
        "outputId": "d6b2bd10-c961-4349-9e62-f80e17020c5c",
        "colab": {
          "base_uri": "https://localhost:8080/"
        }
      },
      "source": [
        "# Toma el ID de usuario como Entero y selecciona variables relevantes\n",
        "retail['CustomerID'] = retail.CustomerID.astype(int) \n",
        "retail = retail[['StockCode', 'Quantity', 'CustomerID']] \n",
        "\n",
        "# Agrupamos e indicamos si hubo interacción\n",
        "g_retail = retail.groupby(['CustomerID', 'StockCode']).sum().reset_index() \n",
        "g_retail.Quantity.loc[g_retail.Quantity == 0] = 1 \n",
        "\n",
        "# Nos quedamos con usuarios con compras positivas\n",
        "g_ventas = g_retail.query('Quantity > 0') "
      ],
      "execution_count": null,
      "outputs": [
        {
          "output_type": "stream",
          "text": [
            "/usr/local/lib/python3.6/dist-packages/ipykernel_launcher.py:2: SettingWithCopyWarning: \n",
            "A value is trying to be set on a copy of a slice from a DataFrame.\n",
            "Try using .loc[row_indexer,col_indexer] = value instead\n",
            "\n",
            "See the caveats in the documentation: https://pandas.pydata.org/pandas-docs/stable/user_guide/indexing.html#returning-a-view-versus-a-copy\n",
            "  \n",
            "/usr/local/lib/python3.6/dist-packages/pandas/core/indexing.py:670: SettingWithCopyWarning: \n",
            "A value is trying to be set on a copy of a slice from a DataFrame\n",
            "\n",
            "See the caveats in the documentation: https://pandas.pydata.org/pandas-docs/stable/user_guide/indexing.html#returning-a-view-versus-a-copy\n",
            "  iloc._setitem_with_indexer(indexer, value)\n"
          ],
          "name": "stderr"
        }
      ]
    },
    {
      "cell_type": "markdown",
      "metadata": {
        "id": "wehSGMznLsxr"
      },
      "source": [
        "Obtenemos las ventas agrupadas:"
      ]
    },
    {
      "cell_type": "code",
      "metadata": {
        "id": "8X5QKOdoLsxs",
        "outputId": "7fe6593d-8013-4878-b0e2-f1145ae805a4",
        "colab": {
          "base_uri": "https://localhost:8080/",
          "height": 198
        }
      },
      "source": [
        "g_ventas.head()\n"
      ],
      "execution_count": null,
      "outputs": [
        {
          "output_type": "execute_result",
          "data": {
            "text/html": [
              "<div>\n",
              "<style scoped>\n",
              "    .dataframe tbody tr th:only-of-type {\n",
              "        vertical-align: middle;\n",
              "    }\n",
              "\n",
              "    .dataframe tbody tr th {\n",
              "        vertical-align: top;\n",
              "    }\n",
              "\n",
              "    .dataframe thead th {\n",
              "        text-align: right;\n",
              "    }\n",
              "</style>\n",
              "<table border=\"1\" class=\"dataframe\">\n",
              "  <thead>\n",
              "    <tr style=\"text-align: right;\">\n",
              "      <th></th>\n",
              "      <th>CustomerID</th>\n",
              "      <th>StockCode</th>\n",
              "      <th>Quantity</th>\n",
              "    </tr>\n",
              "  </thead>\n",
              "  <tbody>\n",
              "    <tr>\n",
              "      <th>0</th>\n",
              "      <td>12346</td>\n",
              "      <td>23166</td>\n",
              "      <td>1</td>\n",
              "    </tr>\n",
              "    <tr>\n",
              "      <th>1</th>\n",
              "      <td>12347</td>\n",
              "      <td>16008</td>\n",
              "      <td>24</td>\n",
              "    </tr>\n",
              "    <tr>\n",
              "      <th>2</th>\n",
              "      <td>12347</td>\n",
              "      <td>17021</td>\n",
              "      <td>36</td>\n",
              "    </tr>\n",
              "    <tr>\n",
              "      <th>3</th>\n",
              "      <td>12347</td>\n",
              "      <td>20665</td>\n",
              "      <td>6</td>\n",
              "    </tr>\n",
              "    <tr>\n",
              "      <th>4</th>\n",
              "      <td>12347</td>\n",
              "      <td>20719</td>\n",
              "      <td>40</td>\n",
              "    </tr>\n",
              "  </tbody>\n",
              "</table>\n",
              "</div>"
            ],
            "text/plain": [
              "   CustomerID StockCode  Quantity\n",
              "0       12346     23166         1\n",
              "1       12347     16008        24\n",
              "2       12347     17021        36\n",
              "3       12347     20665         6\n",
              "4       12347     20719        40"
            ]
          },
          "metadata": {
            "tags": []
          },
          "execution_count": 11
        }
      ]
    },
    {
      "cell_type": "markdown",
      "metadata": {
        "id": "wi_PC39zLsxx"
      },
      "source": [
        "Ahora, en lugar de representar un rating explícito, podemos tomar el número de items adquiridos como una *proxy* de la **confianza** sobre la intensidad de la interacción usuario-item. Es decir, entre más unidades del item se adquieren por parte de un usuario, mayor será el peso para el rating en nuestra matriz de preferencias. \n",
        "\n",
        "A continuación creamos la matriz de tipo *sparse*:"
      ]
    },
    {
      "cell_type": "code",
      "metadata": {
        "id": "BoqjLqMdLsxz"
      },
      "source": [
        "from pandas.api.types import CategoricalDtype\n",
        "\n",
        "usuarios = list(np.sort(g_ventas.CustomerID.unique())) \n",
        "items = list(g_ventas.StockCode.unique()) \n",
        "confianza = list(g_ventas.Quantity) \n",
        "\n",
        "# Construimos la matriz\n",
        "filas = g_ventas.CustomerID.astype(CategoricalDtype(usuarios)).cat.codes \n",
        "cols = g_ventas.StockCode.astype(CategoricalDtype(items)).cat.codes \n",
        "prefs_sparse = sparse.csr_matrix((confianza, (filas, cols)), shape=(len(usuarios), len(items)))\n"
      ],
      "execution_count": null,
      "outputs": []
    },
    {
      "cell_type": "markdown",
      "metadata": {
        "id": "1-McB6YCLsx5"
      },
      "source": [
        "Revisemos la matriz que hemos declarado:"
      ]
    },
    {
      "cell_type": "code",
      "metadata": {
        "id": "7ZzkqzNbLsx6",
        "outputId": "3f35e43a-5831-455e-ef0a-d0cdee46d87c",
        "colab": {
          "base_uri": "https://localhost:8080/"
        }
      },
      "source": [
        "prefs_sparse"
      ],
      "execution_count": null,
      "outputs": [
        {
          "output_type": "execute_result",
          "data": {
            "text/plain": [
              "<4338x3664 sparse matrix of type '<class 'numpy.longlong'>'\n",
              "\twith 266723 stored elements in Compressed Sparse Row format>"
            ]
          },
          "metadata": {
            "tags": []
          },
          "execution_count": 13
        }
      ]
    },
    {
      "cell_type": "markdown",
      "metadata": {
        "id": "ZOUbanOgLsyA"
      },
      "source": [
        "La matriz tiene 4338 usuarios y 3664 items. De todas las posibles interacciones, se tienen 266723 con alguna compra. \n",
        "\n",
        "Esto es:"
      ]
    },
    {
      "cell_type": "code",
      "metadata": {
        "id": "UnAJLqxrLsyA",
        "outputId": "b9bfbaf0-bda8-4cf8-d94f-9431230a8693",
        "colab": {
          "base_uri": "https://localhost:8080/"
        }
      },
      "source": [
        "# Interacciones posibles\n",
        "mat_dim = prefs_sparse.shape[0]*prefs_sparse.shape[1] \n",
        "\n",
        "# Numero de interacciones\n",
        "num_ventas = len(prefs_sparse.nonzero()[0]) \n",
        "sparsity = 100*(1 - (num_ventas/mat_dim))\n",
        "sparsity"
      ],
      "execution_count": null,
      "outputs": [
        {
          "output_type": "execute_result",
          "data": {
            "text/plain": [
              "98.32190920694744"
            ]
          },
          "metadata": {
            "tags": []
          },
          "execution_count": 14
        }
      ]
    },
    {
      "cell_type": "markdown",
      "metadata": {
        "id": "Broc0q9ELsyI"
      },
      "source": [
        "El 98.3% de la matriz de interacciones es nula o *sparse*. \n",
        "\n",
        "Con el fin de aplicar los algoritmos de filtrado colaborativo, el porcentaje no debería superar un 99.5% aprox. "
      ]
    },
    {
      "cell_type": "markdown",
      "metadata": {
        "id": "jqcV32ECLsyK"
      },
      "source": [
        "## 2.2 Experimentos de aprendizaje \n",
        "### Entrenamiento/Prueba vs. Validacion cruzada\n",
        "\n",
        "Normalmente para problemas de aprendizaje computacional supervisado, debemos probar si el modelo que entrenamos geenraliza de buena manera la muestra de datos utilizada, esto es, si predice de buena manera observaciones nuevas que no pertenecen a la muestra inicial. Esto se suele hacer creando un conjunto de prueba completamente distinto al conjunto de entrenamiento, tomando una muestra aleatoria del conjunto total de observaciones (en nuestro caso una muestra aleatoria de usuarios) y separandola del conjunto de entrenamiento. \n",
        "\n",
        "Ahora, bajo el método de filtrado colaborativo esto no funciona del todo porque necesitamos de todas las interacciones usuario-item para encontrar una factorización apropiada de la  matriz de preferencias. Una mejor alternativa consiste en *esconder* aleatoriamente cierta proporción de interacciones del modelo durante la fase de entrenamiento. Luego, se revisa en la fase de validación cuántos items de los que fueron recomendados en verdad terminaron siendo comprados por los usuarios. El desempeño del modelo se puede evaluar a partir de la tasa de aciertos del modelo en validación. De todos modos, también podríamos tomar un punto del tiempo para separar el entrenamiento de la predicción y evaluar el error en predicción. \n",
        "\n",
        "En este caso, tenemos un periodo de tiempo corto y es poco probable que los productos que se hayan adquirido una vez vuelvan a ser aduqiridos en tan poco tiempo. Entonces, el conjunto de entrenamiento va a consistir en los datos originales pero omitiendo un porcentaje aleatorio de interacciones, *enmascaradas* como cero. De esta manera se asume para cada iteracción que esos items enmasacardos no han sido adquiridos por el usuario, y probamos si el algoritmo le recomendaría esos productos. En consecuencia, si se puede observar que los usuarios terminaron comprando esos productos recomendados, se puede concluir que el sistema hace bien su trabajo.\n",
        "\n",
        "También podemos verificar que nuestro sistema mejore una recomendación basada en la popularidad media, como un modelo de referencia (*Baseline*).\n",
        "\n",
        "\n",
        "A continuación ejecutamos nuestro propio codigo para el ALS. Primero escribimos una función para enmascarar los datos de validación."
      ]
    },
    {
      "cell_type": "code",
      "metadata": {
        "id": "uFEj72bnLsyL"
      },
      "source": [
        "def entrena(ratings, pct_val = 0.2):\n",
        "    '''\n",
        "    Input: Matriz de ratings\n",
        "    Output: matriz de entrenamiento CE y de validacion CV, y user_inds\n",
        "    \n",
        "    Esta función toma la matriz orginal y enmascara un porcentaje de ratings pata la validacion\n",
        "    El conjunto de validacion (CV) va a tener todos los ratings originales, mientras que el de entrenamiento (CE)\n",
        "    reemplaza el porcentaje señalado con ceros\n",
        "    \n",
        "    pct_val: porcentaje de iteraciones a enmascarar\n",
        "    user_inds: lista de usuarios aleatoriamente elegidos y enmascarados en CE.\n",
        "    '''\n",
        "    \n",
        "    random.seed(0) # Semilla aeatoria\n",
        "    \n",
        "    CV = ratings.copy() \n",
        "    CV[CV != 0] = 1 # CV como una matriz binaria\n",
        "    \n",
        "    CE = ratings.copy() \n",
        "    non0_inds = CE.nonzero() # Indices donde hay interaccion\n",
        "    non0_pares = list(zip(non0_inds[0], non0_inds[1])) # lista de indices usuario-item con interaccion\n",
        "    \n",
        "    num_muestra = int(np.ceil(pct_val*len(non0_pares))) \n",
        "    muestra = random.sample(non0_pares, num_muestra) # sub-muestreo sin reemplazo\n",
        "    \n",
        "    user_inds = [index[0] for index in muestra] # indices de usuario\n",
        "    item_inds = [index[1] for index in muestra] # inidices de items\n",
        "    \n",
        "    CE[user_inds, item_inds] = 0 # Asigna 0 sobre las observaciones elegidas\n",
        "    CE.eliminate_zeros() # Elimina los ceros en el arreglo sparce\n",
        "    return CE, CV, list(set(user_inds)) \n"
      ],
      "execution_count": null,
      "outputs": []
    },
    {
      "cell_type": "markdown",
      "metadata": {
        "id": "r9GR2RV7LsyP"
      },
      "source": [
        "Con la funcion anterior tenemos nuestro conjunto de entrenamiento, un conjunto de validacion  binario (compra/no compra) y una lista de los usuarios dejados por fuera del entrenamiento para validacion. Entonces, si enmascaramos el 20% de los usuarios, evaluaremos el desempeño del modelo sobre estos usuarios."
      ]
    },
    {
      "cell_type": "code",
      "metadata": {
        "id": "paHOGlTSLsyQ"
      },
      "source": [
        "CE, CV, users_V = entrena(prefs_sparse, pct_val = 0.2)"
      ],
      "execution_count": null,
      "outputs": []
    },
    {
      "cell_type": "markdown",
      "metadata": {
        "id": "O-mR1_AGLsyV"
      },
      "source": [
        "## 2.3 Método de Mínimos Cuadrados Alternantes (ALS)\n",
        "Ahora podemos implementar el ALS sobre nuestros ratings implícitos (siguiendo el paper de  Hu et al. 2008).\n",
        "\n",
        "En primera instancia, debemos transformar la matriz de preferencias en una matriz de confianza:\n",
        "\n",
        "$$\n",
        "C_{ui}=1+\\alpha r_{ui}\n",
        "$$\n",
        "\n",
        "donde $C_{ui}$ representa la confianza del usuario $u$ sobre el item $i$ y $\\alpha$ representa un factor de incremento lineal con respecto al rating del usuario.\n",
        "\n",
        "\n",
        "Enfocándonos en el modelo de factores ($f$) latentes, le asignamos a cada usuario un vector $x_u \\in \\mathbb{R}^f$ y a cada item un vector $y_i\\in \\mathbb{R}^f$, donde la prediccion corresponde con el producto interno $$ \\hat p_{ui} = x^T_u y_i. $$\n",
        "Recordemos que esta predicción es binaria.\n",
        "\n",
        "En este caso vamos a incorporar el parámetro de confianza sobre la minimización de la función obejtivo:\n",
        "$$\n",
        "\\min_{x,y} \\sum_{u,i} c_{ui}(p_{ui} - x^T_u y_i)^2 + \\lambda\\bigl( \\sum_u ||x_u||^2 + \\sum_i ||y_i ||^2 \\bigr) \\tag{1}\n",
        "$$\n",
        "\n",
        "La clave para resolver este problema mediante ALS consiste en que al fijar los factores de usuario o los de item, la función de coste se vuelve cuadrática. Al diferenciar $(1)$ podemos minimizar la función para los usuarios:\n",
        "$$\n",
        "x_u=(Y^TC_uY+\\lambda I)^{−1}Y^TC_up(u)\n",
        "$$\n",
        "y de manera similar para los items,\n",
        "$$\n",
        "y_i=(X^TC_iX+\\lambda I)^{−1}X^TC_yp(i)\n",
        "$$\n"
      ]
    },
    {
      "cell_type": "code",
      "metadata": {
        "id": "lbp2LtouLsyV"
      },
      "source": [
        "def implicit_con_ALS(CE, lambda_val = 0.1, alpha = 40, itera = 10, factores = 20, semilla = 0):\n",
        "    '''\n",
        "    Input:\n",
        "    CE: conjunto de entrenamiento con m usuarios y n items. Matriz sparse csr\n",
        "    lambda_val: parametro de regularizacion ALS. \n",
        "    alpha: Parametro de confianza para el rating implicito \n",
        "    itera: numero de iteraciones para el ALS. Un  mayor numero permite una mejor convergencia\n",
        "    factores: el numero de factores latentes. Incrementar su numero aumenta el riesgo de sobre-ajuste \n",
        "    semilla: semilla aleatoria para reproducibilidad\n",
        "    Output:\n",
        "    El vector de factores o patrones para usuarios y para items.\n",
        "    '''\n",
        "    \n",
        "    # declaramos la matriz de confianza\n",
        "    \n",
        "    conf = (alpha*CE) \n",
        "    \n",
        "    num_user = conf.shape[0]\n",
        "    num_item = conf.shape[1] \n",
        "    \n",
        "    # Incializacion aleatoria de los vectores de usuario e item\n",
        "    random = np.random.RandomState(semilla)\n",
        "    X = sparse.csr_matrix(random.normal(size = (num_user, factores))) \n",
        "    Y = sparse.csr_matrix(random.normal(size = (num_item, factores))) \n",
        "    \n",
        "    X_eye = sparse.eye(num_user)\n",
        "    Y_eye = sparse.eye(num_item)\n",
        "    lambda_eye = lambda_val * sparse.eye(factores) # termino de regularizacion lambda*I. \n",
        "    \n",
        "    # Bucle ALS\n",
        "   \n",
        "    for iter_step in range(itera): # Itera alternando entre X e Y\n",
        "        # Calculamos yTy, xTx al principio de cada iteracion para optimizar el coste computacional\n",
        "        yTy = Y.T.dot(Y)\n",
        "        xTx = X.T.dot(X)\n",
        "        # Fijamos Y\n",
        "        for u in range(num_user):\n",
        "            conf_samp = conf[u,:].toarray() # convierte a un vector denso la fila del usuario (de la matriz de confianza)\n",
        "            pref = conf_samp.copy() \n",
        "            pref[pref != 0] = 1 # Vector de preferencia binario\n",
        "            CuI = sparse.diags(conf_samp, [0]) # Término Cu-I \n",
        "            yTCuIY = Y.T.dot(CuI).dot(Y) # Termino yT(Cu-I)Y  \n",
        "            yTCupu = Y.T.dot(CuI + Y_eye).dot(pref.T) # Término yTCuPu\n",
        "            X[u] = spsolve(yTy + yTCuIY + lambda_eye, yTCupu) \n",
        "            # Resuelve para Xu = ((yTy + yT(Cu-I)Y + lambda*I)^-1)yTCuPu, Ecuacion 4 del paper \n",
        "        \n",
        "        # Fijamos X\n",
        "        for i in range(num_item):\n",
        "            conf_samp = conf[:,i].T.toarray() # Se transpone y se convierte a matriz densa\n",
        "            pref = conf_samp.copy()\n",
        "            pref[pref != 0] = 1 # Crea la matriz binaria\n",
        "            CiI = sparse.diags(conf_samp, [0]) # Calcula el termino Cu-I \n",
        "            xTCiIX = X.T.dot(CiI).dot(X) # Se calcula el termino xT(Cu-I)X \n",
        "            xTCiPi = X.T.dot(CiI + X_eye).dot(pref.T) # Se calcula el temrino xTCiPi \n",
        "            Y[i] = spsolve(xTx + xTCiIX + lambda_eye, xTCiPi) \n",
        "            # Resuelve para Yi = ((xTx + xT(Cu-I)X) + lambda*I)^-1)xTCiPi\n",
        "    \n",
        "    return X, Y.T \n"
      ],
      "execution_count": null,
      "outputs": []
    },
    {
      "cell_type": "markdown",
      "metadata": {
        "id": "0y7GF6sELsyZ"
      },
      "source": [
        "Intentemos diez iteraciones para verificar que el codigo funciona, tomando 20 factores latentes junto con un coefiencte de confianza de 15 y una regularización de 0.1. "
      ]
    },
    {
      "cell_type": "code",
      "metadata": {
        "id": "XAlLalxELsyZ",
        "outputId": "fb34f995-28a7-4c42-a875-f07d90266856",
        "colab": {
          "base_uri": "https://localhost:8080/"
        }
      },
      "source": [
        "tiempo0 = datetime.datetime.now()\n",
        "print('\\nInicia nuestro ALS: ', tiempo0)\n",
        "\n",
        "user_vecs, item_vecs = implicit_con_ALS(CE, lambda_val = 0.1, alpha = 15, itera = 10, factores = 20)\n",
        "\n",
        "print('Tiempo en completarse las 10 iteraciones: ', datetime.datetime.now()-tiempo0)"
      ],
      "execution_count": null,
      "outputs": [
        {
          "output_type": "stream",
          "text": [
            "\n",
            "Inicia nuestro ALS:  2020-11-15 10:22:03.370987\n",
            "Tiempo en completarse las 10 iteraciones:  0:05:51.930215\n"
          ],
          "name": "stdout"
        }
      ]
    },
    {
      "cell_type": "markdown",
      "metadata": {
        "id": "K7vUacFpLsye"
      },
      "source": [
        "Podemos ver los ratings para un usuario dado tomando el producto punto entre los vectores de usuario e item (U y V):  "
      ]
    },
    {
      "cell_type": "code",
      "metadata": {
        "id": "pggw-Nh-Lsyf",
        "outputId": "e4bf0d42-59f5-4f1a-fc12-25a9085d8401",
        "colab": {
          "base_uri": "https://localhost:8080/"
        }
      },
      "source": [
        "user_vecs[0,:].dot(item_vecs).toarray()[0,:5]\n"
      ],
      "execution_count": null,
      "outputs": [
        {
          "output_type": "execute_result",
          "data": {
            "text/plain": [
              "array([ 0.12088319,  0.02528647,  0.01163801,  0.01294093, -0.02575397])"
            ]
          },
          "metadata": {
            "tags": []
          },
          "execution_count": 19
        }
      ]
    },
    {
      "cell_type": "markdown",
      "metadata": {
        "id": "SHBgmGi5Lsyj"
      },
      "source": [
        "Estos son los valores de preferencia estimados para el primer usuario sobre los primeros 5 items, de un total de 3664 en stock. \n",
        "\n",
        "### Pregunta\n",
        "Cuál es el item con una mayor preferencia sobre todo el stock de productos?\n"
      ]
    },
    {
      "cell_type": "code",
      "metadata": {
        "id": "62gMmGTmLsyk",
        "outputId": "253daf3c-f75d-4567-8e63-654c5d99e3c1",
        "colab": {
          "base_uri": "https://localhost:8080/"
        }
      },
      "source": [
        "item = user_vecs.dot(item_vecs).toarray().mean(axis=0).argmax()\n",
        "\n",
        "print('Item con mayor preferencia: ', item)\n",
        "preferencia = user_vecs.dot(item_vecs).toarray().mean(axis=0).max()\n",
        "print('Preferencia del item: ', preferencia)"
      ],
      "execution_count": null,
      "outputs": [
        {
          "output_type": "stream",
          "text": [
            "Item con mayor preferencia:  396\n",
            "Preferencia del item:  0.6696016333458533\n"
          ],
          "name": "stdout"
        }
      ]
    },
    {
      "cell_type": "markdown",
      "metadata": {
        "id": "EFS70jsDLsyq"
      },
      "source": [
        "## 3. Implicit: Implementacion óptima del ALS\n",
        "\n",
        "Hasta ahora no hemos indagando en la convergencia del modelo, lo cual puede tomar más tiempo, y por eso mismo, es recomendable hacer uso de un código optimizado. \n",
        "\n",
        "Hasta el momento hacemos uso de bastantes bucles y no tomamos ventaja del hecho de que el algoritmo es paralelizable, pues cada iteración se puede realizar sobre los vectores de item o de usuario de manera independiente. Para ello podemos hacer uso de la versión de ALS para Python (utilizando Cython) que paraleliza el codigo entre distintos procesadores. Antes tenemos que instalar la bilbioteca `implicit`. \n",
        "\n",
        "Para mayores detalles, puede investigar: https://pypi.org/project/implicit/"
      ]
    },
    {
      "cell_type": "markdown",
      "metadata": {
        "id": "ibYmCE7JLsyr"
      },
      "source": [
        "Para instalarlo desde el prompt de Anaconda (https://anaconda.org/conda-forge/implicit):\n",
        "\n",
        "`conda install -c conda-forge implicit` \n",
        "\n",
        "También debemos chequear que la version de `scipy` sea 0.16 o posterior."
      ]
    },
    {
      "cell_type": "code",
      "metadata": {
        "id": "5xcjdz9rLsys",
        "outputId": "5d5f4af2-1d12-4e3f-f1e3-eeb7c066b085",
        "colab": {
          "base_uri": "https://localhost:8080/",
          "height": 34
        }
      },
      "source": [
        "import scipy\n",
        "scipy.__version__"
      ],
      "execution_count": null,
      "outputs": [
        {
          "output_type": "execute_result",
          "data": {
            "application/vnd.google.colaboratory.intrinsic+json": {
              "type": "string"
            },
            "text/plain": [
              "'1.4.1'"
            ]
          },
          "metadata": {
            "tags": []
          },
          "execution_count": 26
        }
      ]
    },
    {
      "cell_type": "code",
      "metadata": {
        "id": "v7x32DCXfK49",
        "outputId": "4cd86380-c8fd-4882-a39c-7413c7e29164",
        "colab": {
          "base_uri": "https://localhost:8080/"
        }
      },
      "source": [
        "!pip install implicit"
      ],
      "execution_count": null,
      "outputs": [
        {
          "output_type": "stream",
          "text": [
            "Collecting implicit\n",
            "\u001b[?25l  Downloading https://files.pythonhosted.org/packages/bc/07/c0121884722d16e2c5beeb815f6b84b41cbf22e738e4075f1475be2791bc/implicit-0.4.4.tar.gz (1.1MB)\n",
            "\r\u001b[K     |▎                               | 10kB 23.4MB/s eta 0:00:01\r\u001b[K     |▋                               | 20kB 20.3MB/s eta 0:00:01\r\u001b[K     |▉                               | 30kB 16.5MB/s eta 0:00:01\r\u001b[K     |█▏                              | 40kB 15.6MB/s eta 0:00:01\r\u001b[K     |█▌                              | 51kB 12.2MB/s eta 0:00:01\r\u001b[K     |█▊                              | 61kB 12.2MB/s eta 0:00:01\r\u001b[K     |██                              | 71kB 12.0MB/s eta 0:00:01\r\u001b[K     |██▍                             | 81kB 12.2MB/s eta 0:00:01\r\u001b[K     |██▋                             | 92kB 12.0MB/s eta 0:00:01\r\u001b[K     |███                             | 102kB 12.0MB/s eta 0:00:01\r\u001b[K     |███▎                            | 112kB 12.0MB/s eta 0:00:01\r\u001b[K     |███▌                            | 122kB 12.0MB/s eta 0:00:01\r\u001b[K     |███▉                            | 133kB 12.0MB/s eta 0:00:01\r\u001b[K     |████▏                           | 143kB 12.0MB/s eta 0:00:01\r\u001b[K     |████▍                           | 153kB 12.0MB/s eta 0:00:01\r\u001b[K     |████▊                           | 163kB 12.0MB/s eta 0:00:01\r\u001b[K     |█████                           | 174kB 12.0MB/s eta 0:00:01\r\u001b[K     |█████▎                          | 184kB 12.0MB/s eta 0:00:01\r\u001b[K     |█████▋                          | 194kB 12.0MB/s eta 0:00:01\r\u001b[K     |██████                          | 204kB 12.0MB/s eta 0:00:01\r\u001b[K     |██████▏                         | 215kB 12.0MB/s eta 0:00:01\r\u001b[K     |██████▌                         | 225kB 12.0MB/s eta 0:00:01\r\u001b[K     |██████▉                         | 235kB 12.0MB/s eta 0:00:01\r\u001b[K     |███████                         | 245kB 12.0MB/s eta 0:00:01\r\u001b[K     |███████▍                        | 256kB 12.0MB/s eta 0:00:01\r\u001b[K     |███████▊                        | 266kB 12.0MB/s eta 0:00:01\r\u001b[K     |████████                        | 276kB 12.0MB/s eta 0:00:01\r\u001b[K     |████████▎                       | 286kB 12.0MB/s eta 0:00:01\r\u001b[K     |████████▋                       | 296kB 12.0MB/s eta 0:00:01\r\u001b[K     |████████▉                       | 307kB 12.0MB/s eta 0:00:01\r\u001b[K     |█████████▏                      | 317kB 12.0MB/s eta 0:00:01\r\u001b[K     |█████████▌                      | 327kB 12.0MB/s eta 0:00:01\r\u001b[K     |█████████▊                      | 337kB 12.0MB/s eta 0:00:01\r\u001b[K     |██████████                      | 348kB 12.0MB/s eta 0:00:01\r\u001b[K     |██████████▍                     | 358kB 12.0MB/s eta 0:00:01\r\u001b[K     |██████████▋                     | 368kB 12.0MB/s eta 0:00:01\r\u001b[K     |███████████                     | 378kB 12.0MB/s eta 0:00:01\r\u001b[K     |███████████▏                    | 389kB 12.0MB/s eta 0:00:01\r\u001b[K     |███████████▌                    | 399kB 12.0MB/s eta 0:00:01\r\u001b[K     |███████████▉                    | 409kB 12.0MB/s eta 0:00:01\r\u001b[K     |████████████                    | 419kB 12.0MB/s eta 0:00:01\r\u001b[K     |████████████▍                   | 430kB 12.0MB/s eta 0:00:01\r\u001b[K     |████████████▊                   | 440kB 12.0MB/s eta 0:00:01\r\u001b[K     |█████████████                   | 450kB 12.0MB/s eta 0:00:01\r\u001b[K     |█████████████▎                  | 460kB 12.0MB/s eta 0:00:01\r\u001b[K     |█████████████▋                  | 471kB 12.0MB/s eta 0:00:01\r\u001b[K     |█████████████▉                  | 481kB 12.0MB/s eta 0:00:01\r\u001b[K     |██████████████▏                 | 491kB 12.0MB/s eta 0:00:01\r\u001b[K     |██████████████▌                 | 501kB 12.0MB/s eta 0:00:01\r\u001b[K     |██████████████▊                 | 512kB 12.0MB/s eta 0:00:01\r\u001b[K     |███████████████                 | 522kB 12.0MB/s eta 0:00:01\r\u001b[K     |███████████████▍                | 532kB 12.0MB/s eta 0:00:01\r\u001b[K     |███████████████▋                | 542kB 12.0MB/s eta 0:00:01\r\u001b[K     |████████████████                | 552kB 12.0MB/s eta 0:00:01\r\u001b[K     |████████████████▎               | 563kB 12.0MB/s eta 0:00:01\r\u001b[K     |████████████████▌               | 573kB 12.0MB/s eta 0:00:01\r\u001b[K     |████████████████▉               | 583kB 12.0MB/s eta 0:00:01\r\u001b[K     |█████████████████▏              | 593kB 12.0MB/s eta 0:00:01\r\u001b[K     |█████████████████▍              | 604kB 12.0MB/s eta 0:00:01\r\u001b[K     |█████████████████▊              | 614kB 12.0MB/s eta 0:00:01\r\u001b[K     |██████████████████              | 624kB 12.0MB/s eta 0:00:01\r\u001b[K     |██████████████████▎             | 634kB 12.0MB/s eta 0:00:01\r\u001b[K     |██████████████████▋             | 645kB 12.0MB/s eta 0:00:01\r\u001b[K     |███████████████████             | 655kB 12.0MB/s eta 0:00:01\r\u001b[K     |███████████████████▏            | 665kB 12.0MB/s eta 0:00:01\r\u001b[K     |███████████████████▌            | 675kB 12.0MB/s eta 0:00:01\r\u001b[K     |███████████████████▉            | 686kB 12.0MB/s eta 0:00:01\r\u001b[K     |████████████████████            | 696kB 12.0MB/s eta 0:00:01\r\u001b[K     |████████████████████▍           | 706kB 12.0MB/s eta 0:00:01\r\u001b[K     |████████████████████▊           | 716kB 12.0MB/s eta 0:00:01\r\u001b[K     |█████████████████████           | 727kB 12.0MB/s eta 0:00:01\r\u001b[K     |█████████████████████▎          | 737kB 12.0MB/s eta 0:00:01\r\u001b[K     |█████████████████████▋          | 747kB 12.0MB/s eta 0:00:01\r\u001b[K     |█████████████████████▉          | 757kB 12.0MB/s eta 0:00:01\r\u001b[K     |██████████████████████▏         | 768kB 12.0MB/s eta 0:00:01\r\u001b[K     |██████████████████████▍         | 778kB 12.0MB/s eta 0:00:01\r\u001b[K     |██████████████████████▊         | 788kB 12.0MB/s eta 0:00:01\r\u001b[K     |███████████████████████         | 798kB 12.0MB/s eta 0:00:01\r\u001b[K     |███████████████████████▎        | 808kB 12.0MB/s eta 0:00:01\r\u001b[K     |███████████████████████▋        | 819kB 12.0MB/s eta 0:00:01\r\u001b[K     |████████████████████████        | 829kB 12.0MB/s eta 0:00:01\r\u001b[K     |████████████████████████▏       | 839kB 12.0MB/s eta 0:00:01\r\u001b[K     |████████████████████████▌       | 849kB 12.0MB/s eta 0:00:01\r\u001b[K     |████████████████████████▉       | 860kB 12.0MB/s eta 0:00:01\r\u001b[K     |█████████████████████████       | 870kB 12.0MB/s eta 0:00:01\r\u001b[K     |█████████████████████████▍      | 880kB 12.0MB/s eta 0:00:01\r\u001b[K     |█████████████████████████▊      | 890kB 12.0MB/s eta 0:00:01\r\u001b[K     |██████████████████████████      | 901kB 12.0MB/s eta 0:00:01\r\u001b[K     |██████████████████████████▎     | 911kB 12.0MB/s eta 0:00:01\r\u001b[K     |██████████████████████████▋     | 921kB 12.0MB/s eta 0:00:01\r\u001b[K     |██████████████████████████▉     | 931kB 12.0MB/s eta 0:00:01\r\u001b[K     |███████████████████████████▏    | 942kB 12.0MB/s eta 0:00:01\r\u001b[K     |███████████████████████████▌    | 952kB 12.0MB/s eta 0:00:01\r\u001b[K     |███████████████████████████▊    | 962kB 12.0MB/s eta 0:00:01\r\u001b[K     |████████████████████████████    | 972kB 12.0MB/s eta 0:00:01\r\u001b[K     |████████████████████████████▍   | 983kB 12.0MB/s eta 0:00:01\r\u001b[K     |████████████████████████████▋   | 993kB 12.0MB/s eta 0:00:01\r\u001b[K     |█████████████████████████████   | 1.0MB 12.0MB/s eta 0:00:01\r\u001b[K     |█████████████████████████████▎  | 1.0MB 12.0MB/s eta 0:00:01\r\u001b[K     |█████████████████████████████▌  | 1.0MB 12.0MB/s eta 0:00:01\r\u001b[K     |█████████████████████████████▉  | 1.0MB 12.0MB/s eta 0:00:01\r\u001b[K     |██████████████████████████████▏ | 1.0MB 12.0MB/s eta 0:00:01\r\u001b[K     |██████████████████████████████▍ | 1.1MB 12.0MB/s eta 0:00:01\r\u001b[K     |██████████████████████████████▊ | 1.1MB 12.0MB/s eta 0:00:01\r\u001b[K     |███████████████████████████████ | 1.1MB 12.0MB/s eta 0:00:01\r\u001b[K     |███████████████████████████████▎| 1.1MB 12.0MB/s eta 0:00:01\r\u001b[K     |███████████████████████████████▋| 1.1MB 12.0MB/s eta 0:00:01\r\u001b[K     |████████████████████████████████| 1.1MB 12.0MB/s eta 0:00:01\r\u001b[K     |████████████████████████████████| 1.1MB 12.0MB/s \n",
            "\u001b[?25hRequirement already satisfied: numpy in /usr/local/lib/python3.6/dist-packages (from implicit) (1.18.5)\n",
            "Requirement already satisfied: scipy>=0.16 in /usr/local/lib/python3.6/dist-packages (from implicit) (1.4.1)\n",
            "Requirement already satisfied: tqdm>=4.27 in /usr/local/lib/python3.6/dist-packages (from implicit) (4.41.1)\n",
            "Building wheels for collected packages: implicit\n",
            "  Building wheel for implicit (setup.py) ... \u001b[?25l\u001b[?25hdone\n",
            "  Created wheel for implicit: filename=implicit-0.4.4-cp36-cp36m-linux_x86_64.whl size=3419487 sha256=5d3f50a4907f95845ca623a336cec4bb7f3f6850d4b77217698cc62affca9013\n",
            "  Stored in directory: /root/.cache/pip/wheels/bf/d4/ec/fd4f622fcbefb7521f149905295b2c26adecb23af38aa28217\n",
            "Successfully built implicit\n",
            "Installing collected packages: implicit\n",
            "Successfully installed implicit-0.4.4\n"
          ],
          "name": "stdout"
        }
      ]
    },
    {
      "cell_type": "code",
      "metadata": {
        "id": "ByjaDhmELsyy"
      },
      "source": [
        "import implicit"
      ],
      "execution_count": null,
      "outputs": []
    },
    {
      "cell_type": "markdown",
      "metadata": {
        "id": "BLGi-yiLLsy4"
      },
      "source": [
        "En esta versión no se hace uso explícito del parametro $\\alpha$ que utilizamos para ponderar la confianza de los ratings. Este paso lo debemos hacer nosotros antes de introudcir el input. También necesitamos declarar el tipo de la matriz como *double* para ejecutar la función de ALS."
      ]
    },
    {
      "cell_type": "code",
      "metadata": {
        "id": "ZUtcdpGNLsy5",
        "outputId": "d294f067-ee0a-4644-888d-2ee62a2cb059",
        "colab": {
          "base_uri": "https://localhost:8080/",
          "height": 138,
          "referenced_widgets": [
            "0bbc6115e656494fa876d416bca955de",
            "9c8c91c4219646c28f479e6fcb388eb8",
            "bfa7a90947e548e6a078408fbd810669",
            "6948fe851b62470893241dec760db7eb",
            "16e2530c17f24f4eba8af2d7a189ba34",
            "583362768b3d44fea4a98fb8cdf5e57a",
            "407e6e6427a44a438ae3afbd9078185e",
            "6edfffc9b3d744b0acefa187506afa6d"
          ]
        }
      },
      "source": [
        "alpha = 15\n",
        "user_vecs, item_vecs = implicit.alternating_least_squares((CE*alpha).astype('double'), \n",
        "                                                          factors=20, \n",
        "                                                          regularization = 0.1, \n",
        "                                                          iterations = 50)\n"
      ],
      "execution_count": null,
      "outputs": [
        {
          "output_type": "stream",
          "text": [
            "This method is deprecated. Please use the AlternatingLeastSquares class instead\n",
            "GPU training requires factor size to be a multiple of 32. Increasing factors from 20 to 32.\n",
            "WARNING:root:OpenBLAS detected. Its highly recommend to set the environment variable 'export OPENBLAS_NUM_THREADS=1' to disable its internal multithreading\n"
          ],
          "name": "stderr"
        },
        {
          "output_type": "display_data",
          "data": {
            "application/vnd.jupyter.widget-view+json": {
              "model_id": "0bbc6115e656494fa876d416bca955de",
              "version_minor": 0,
              "version_major": 2
            },
            "text/plain": [
              "HBox(children=(FloatProgress(value=0.0, max=50.0), HTML(value='')))"
            ]
          },
          "metadata": {
            "tags": []
          }
        },
        {
          "output_type": "stream",
          "text": [
            "\n"
          ],
          "name": "stdout"
        }
      ]
    },
    {
      "cell_type": "markdown",
      "metadata": {
        "id": "QRDhcaJPLsy_"
      },
      "source": [
        "Con esta implementación de `implicit` conseguimos unas mejores predicciones tras utilizar un mayor número de iteraciones y conseguir una mejor convergencia del modelo. Pero ahora vemos cómo medimos el desempeño del modelo.\n",
        "\n",
        "\n",
        "## 4. Evaluación del sistema de recomendación\n",
        "\n",
        "Recordemos que nuestro conjunto de entrenamiento había dejado por fuera el 20% de las observaciones con ventas. Ahora vamos a evaluar el desempeño del modelo sobre este 20%. Específicamente debemos contrastar si las recomendaciones obtenidas por nuestro sistema cazan con los items que los usuarios temrinaron comprando. \n",
        "\n",
        "Una métrica muy usual es el Area bajo la Curva ROC (Receiver Operating Characteristic), o AUC. Una mayor area significa que los items recomendados en las posiciones altas de la lista de recomendación terminan siendo comprados por los usuarios. En esta parte implementaremos el AUC para evaluar la calidad del ranking de nuestras recomendaciones.\n",
        "\n",
        "El AUC se consigue al graficar la tasa de verdaderos positivos (TPR) contra la tasa de falsos positivos (FPR) para todos los umbrales de decisión, dadas por:\n",
        "\\begin{equation}\n",
        "\\label{tpr}\n",
        "TPR=\\frac{TP}{TP+FN}  \n",
        "\\end{equation}\t  \n",
        "\\begin{equation}\n",
        "\\label{fpr}\n",
        "FPR=\\frac{FP}{FP+TN}  \n",
        "\\end{equation}\n",
        "\n",
        "\n",
        "Para ello implementamos una función que calcule el AUC para cualquier usuario que tenga al menos un item en el conjunto de validación. Como benchmark de comparación tomamos el AUC que se hubiera obtenido si se recomendaran los items más populares. Con este fin, utilizamos la biblioteca Scikit-learn para calcular las tasas TPR y FPR."
      ]
    },
    {
      "cell_type": "code",
      "metadata": {
        "id": "AYKgLzu9LszA"
      },
      "source": [
        "from sklearn import metrics"
      ],
      "execution_count": null,
      "outputs": []
    },
    {
      "cell_type": "code",
      "metadata": {
        "id": "gPG7sqMRLszG"
      },
      "source": [
        "def auc_score(preds, prueba):\n",
        "    '''\n",
        "    Esta funcion obtiene el AUC. \n",
        "    Input:\n",
        "    parameters:\n",
        "    preds: las predicciones del sistema\n",
        "    prueba: las ventas verdaderas\n",
        "    Output:\n",
        "    AUC\n",
        "    '''\n",
        "    \n",
        "    fpr, tpr, umbrales = metrics.roc_curve(prueba, preds)\n",
        "    return metrics.auc(fpr, tpr)   "
      ],
      "execution_count": null,
      "outputs": []
    },
    {
      "cell_type": "code",
      "metadata": {
        "id": "C_2yPznRLszJ",
        "outputId": "3e74b4a1-903d-4ab8-81a1-61fb0a920756",
        "colab": {
          "base_uri": "https://localhost:8080/"
        }
      },
      "source": [
        "np.concatenate((np.zeros(67),np.ones(12)))"
      ],
      "execution_count": null,
      "outputs": [
        {
          "output_type": "execute_result",
          "data": {
            "text/plain": [
              "array([0., 0., 0., 0., 0., 0., 0., 0., 0., 0., 0., 0., 0., 0., 0., 0., 0.,\n",
              "       0., 0., 0., 0., 0., 0., 0., 0., 0., 0., 0., 0., 0., 0., 0., 0., 0.,\n",
              "       0., 0., 0., 0., 0., 0., 0., 0., 0., 0., 0., 0., 0., 0., 0., 0., 0.,\n",
              "       0., 0., 0., 0., 0., 0., 0., 0., 0., 0., 0., 0., 0., 0., 0., 0., 1.,\n",
              "       1., 1., 1., 1., 1., 1., 1., 1., 1., 1., 1.])"
            ]
          },
          "metadata": {
            "tags": []
          },
          "execution_count": 35
        }
      ]
    },
    {
      "cell_type": "code",
      "metadata": {
        "id": "e--lOJCyLszL",
        "outputId": "9f101142-bfc3-41fa-f03e-8aceb933aea8",
        "colab": {
          "base_uri": "https://localhost:8080/"
        }
      },
      "source": [
        "prueba=np.concatenate((np.zeros(54),np.ones(25)))\n",
        "preds=np.concatenate((np.zeros(67),np.ones(12)))\n",
        "fpr, tpr, umbrales = metrics.roc_curve(prueba, preds)\n",
        "metrics.auc(fpr, tpr)"
      ],
      "execution_count": null,
      "outputs": [
        {
          "output_type": "execute_result",
          "data": {
            "text/plain": [
              "0.74"
            ]
          },
          "metadata": {
            "tags": []
          },
          "execution_count": 36
        }
      ]
    },
    {
      "cell_type": "markdown",
      "metadata": {
        "id": "Wbi5S3DyLszR"
      },
      "source": [
        "Ahora utilizamos esta función para calcular el AUC para cada usuario e el conjunto de validación (que coinciden con las observaciones enmascaradas del conjunto de entrenamiento). También calculamos el AUC para los items más populares."
      ]
    },
    {
      "cell_type": "code",
      "metadata": {
        "id": "2n1_29WxLszS"
      },
      "source": [
        "def AUC_val(CE, users_V, preds, CV):\n",
        "    '''\n",
        "    Esta funcion calcula el AUC medio por usuario para todo usuario en el conjunto de validacion\n",
        "    Input:\n",
        "    CE: Conjunto de entrnamiento con un porcentaje de las interacciones originales enamscaradas\n",
        "    preds: la matriz con las predicciones de los ratings para cada par usuario-item (lista\n",
        "    con vectores de usuario y vectores de items)\n",
        "    users_V: indices de los usuarios de validacion\n",
        "    CV: conjunto de validacion \n",
        "    Output:\n",
        "    AUC medio del CV para las interacciones usuario-item y para los items más populares\n",
        "    '''\n",
        "    \n",
        "    # Inicializamos la lista para guardar el AUC de validacion \n",
        "    rec_auc = [] \n",
        "    # y el AUC para la recomendación por popularidad\n",
        "    pop_auc = [] \n",
        "    \n",
        "    # Tomamos la suma de interacciones por item para encontrar lo más popular\n",
        "    pop_items = np.array(CV.sum(axis = 0)).reshape(-1) \n",
        "    item_vecs = preds[1]\n",
        "    \n",
        "    for user in users_V: \n",
        "        user_i = CE[user,:].toarray().reshape(-1) # usuario de validacion\n",
        "        user_val = np.where(user_i == 0) # \n",
        "        \n",
        "        # Toma la prediccion para el usuario-item\n",
        "        user_vec = preds[0][user,:]\n",
        "        pred = user_vec.dot(item_vecs).toarray()[0,user_val].reshape(-1)\n",
        "        \n",
        "        # Selecciona los ratings estimados para el usuario \n",
        "        actual = CV[user,:].toarray()[0,user_val].reshape(-1) \n",
        "        \n",
        "        # Toma los pares con interacciones binarias de los datos originales\n",
        "        pop = pop_items[user_val] # Popularidad del item\n",
        "        rec_auc.append(auc_score(pred, actual)) # Calcula y guarda el AUC para el ususario\n",
        "        pop_auc.append(auc_score(pop, actual)) # Calcula el AUC por popularidad\n",
        "\n",
        "    \n",
        "    return float('%.3f'%np.mean(rec_auc)), float('%.3f'%np.mean(pop_auc))  \n",
        "   # Devuelve el AUC medio para validacion y por popularidad\n"
      ],
      "execution_count": null,
      "outputs": []
    },
    {
      "cell_type": "markdown",
      "metadata": {
        "id": "jIZ_lWLpLszX"
      },
      "source": [
        "Ahora podemos usar la funcion para evaluar el desempeño de nuestro sistema. Para ello, debemos tomar la salida de nuestra funcion ALS y pasarla a formato de csr_matrix, y trasponer los vectores de items. "
      ]
    },
    {
      "cell_type": "code",
      "metadata": {
        "id": "m3OtAPtDLszY",
        "outputId": "67388b96-3db5-477f-c0f3-1a3d91e5b05c",
        "colab": {
          "base_uri": "https://localhost:8080/"
        }
      },
      "source": [
        "AUC_val(CE, users_V, [sparse.csr_matrix(user_vecs), sparse.csr_matrix(item_vecs.T)], CV)\n"
      ],
      "execution_count": null,
      "outputs": [
        {
          "output_type": "execute_result",
          "data": {
            "text/plain": [
              "(0.87, 0.814)"
            ]
          },
          "metadata": {
            "tags": []
          },
          "execution_count": 38
        }
      ]
    },
    {
      "cell_type": "markdown",
      "metadata": {
        "id": "Koz2818fLszd"
      },
      "source": [
        "Podemos ver que nuestro sistema de recomendación es al menos mejor que la recomendación basada en popularidad, con un AUC de 0.87 frente a uno de 0.814. \n",
        "\n",
        "### Ejercicio práctico\n",
        "Revise su algoritmo e intente optimizar los hiper-parámetros para mejorar el valor del AUC. Puede intentar implementar validación cruzada además de la prueba para controlar el riesgo de sobre-ajuste.\n"
      ]
    },
    {
      "cell_type": "code",
      "metadata": {
        "id": "S8XsjtSGLszf"
      },
      "source": [
        ""
      ],
      "execution_count": null,
      "outputs": []
    },
    {
      "cell_type": "markdown",
      "metadata": {
        "id": "-zrs7agyLszl"
      },
      "source": [
        "## Comentarios finales\n",
        "\n",
        "Hemos visto cómo diseñar y evaluar un sistema de recomendación con ratings implícitos. En implementaciones de la vida real, si el tamaño de la matriz de ratings es muy grande, puede ser más práctica su implementación en Spark:\n",
        "https://spark.apache.org/docs/latest/mllib-collaborative-filtering.html\n",
        "\n",
        "También se pueden seguir explorando los sistemas de recomendación híbridos, incorporando información propia de los usuarios e items además de su comportamiento de compras. La librería de Python `LightFM` de Maciej Kula permite implementar distintos algoritmos con preferencias implícitas y explícitas:\n",
        "https://making.lyst.com/lightfm/docs/home.html\n",
        "\n",
        "\n",
        "\n",
        "Para los sistemas de recomendación con ratings explícitos podemos usar `SurPRISE`, que estudiaremos las próximas sesiones, o también pueden explorar este blog:\n",
        "\n",
        "*Explicit Matrix Factorization: ALS, SGD, and All That Jazz*, por Ethan Rosenthal\n",
        "    https://www.ethanrosenthal.com/2016/01/09/explicit-matrix-factorization-sgd-als/\n",
        "\n",
        "\n",
        "Finalmente, si buscan datos para la implementación de sistemas de recomendación, pueden explorar el siguiente link: https://gist.github.com/entaroadun/1653794\n",
        "\n",
        "\n",
        "### Reflexion final\n",
        "\n",
        "Pensemos que si bien el sistema no recomienda items que ya han sido comprados, sí puede estar recomendando otra vez el mismo tipo de productos. Por ejemplo, si un usuario compra una lavadora, ¿tiene sentido recomendarle otra lavadora?\n",
        "\n",
        "Hay ciertos productos que se compran solo una vez, y requieren más bien de otros productos complementarios que combinen bien con su uso.\n",
        "\n",
        "Piense en una estrategia para desarrollar un sistema de recomendación que no recomiende siempre productos sustitutos o muy similares entre sí, es decir, productos que cumplan exactamente las mismas funciones que lo que ya han sido adquiridos.\n",
        "\n"
      ]
    },
    {
      "cell_type": "code",
      "metadata": {
        "id": "dPEl6lHkLszm"
      },
      "source": [
        ""
      ],
      "execution_count": null,
      "outputs": []
    }
  ]
}
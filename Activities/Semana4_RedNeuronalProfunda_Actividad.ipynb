{
 "cells": [
  {
   "cell_type": "markdown",
   "metadata": {},
   "source": [
    "## MIIA-4203 MODELOS AVANZADOS PARA ANÁLISIS DE DATOS II\n",
    "\n",
    "\n",
    "# Red neuronal multi-capa\n",
    "\n",
    "## Actividad 4\n",
    "\n",
    "### Profesor: Camilo Franco (c.franco31@uniandes.edu.co)\n",
    "\n",
    "En este cuadernos estudiaremos algunos conceptos claves del aprendizaje profundo, y construiremos paso a paso una red densamente conectada con múltiples capas escondidas. Implementaremos la red profunda repasando conceptos de optmización e inicialización de pesos. Finalmente probaremos nuestra red para el tratamiento de imagenes e intentar mejorar los resultados que obtuvimos con nuestra red sencilla para la detección automática de frailejones sore imagenes aereas del páramo. \n",
    "\n",
    "Estas actividades para la construcción de redes neuronales desde cero se han basado en:\n",
    "http://www.wildml.com/2015/09/implementing-a-neural-network-from-scratch/\n"
   ]
  },
  {
   "cell_type": "markdown",
   "metadata": {},
   "source": [
    "## Introducción\n",
    "\n",
    "Previamente hemos entrenado una red neuronal sencilla de dos capas (con una capa escondida y una capa de salida). Ahora vamos a construir una red profunda, con múltiples capas escondidas. Primero vamos a implementar las funciones requeridas para construir una red neuronal profunda. \n",
    "\n",
    "Utilizaremos unidades no-lineales mediante una función como la *Rectified Linear Unit* (ReLU), la cual permite disminuir los tiempos de entrenamiento de una red compleja. Implementaremos diferentes técnicas de inicialización de parámetros, como la incialización de *Xavier* o de *He* (K. He, X. Zhang, Sh. Ren, J.Sun. Delving deep into rectifiers: Surpassing human-level performance on ImageNet classification. Proceedings IEEE International Conference on Computer Vision (ICCV), 2015, 1026-1034).\n",
    "\n",
    "Finalmente implementaremos nuestro código para clasificación de imagenes aereas del paramo y la detección automática de plantas nativas.\n",
    "\n",
    "Para la construcción de la red, denotaremos por el superíndice $[l]$ a los parámetros de la *l-ésima* capa. Por ejemplo, $a^{[l]}$ corresponderá con la activación de la *l-ésima* capa, y $W^{[l]}$ y $b^{[l]}$ serán los parámetros de la *l-ésima* capa.\n",
    "\n",
    "El superíndice $(i)$ denota una cantidad asociada con el *i-ésimo* ejemplo. Así, $x^{(i)}$ será el *i-ésimo* ejemplo de entrenamiento. Y el subíndice $i$ denota la *i-ésima* entrada de un vector. De esta manera $a^{[l]}_i$ denota la *i-ésima* entrada de las activaciones de la *l-ésima* capa."
   ]
  },
  {
   "cell_type": "markdown",
   "metadata": {},
   "source": [
    "Importemos algunos de los paquetes que vamos a utilizar:\n"
   ]
  },
  {
   "cell_type": "code",
   "execution_count": 1,
   "metadata": {},
   "outputs": [
    {
     "name": "stderr",
     "output_type": "stream",
     "text": [
      "C:\\Users\\samora\\AppData\\Local\\Continuum\\anaconda3\\lib\\site-packages\\numpy\\_distributor_init.py:32: UserWarning: loaded more than 1 DLL from .libs:\n",
      "C:\\Users\\samora\\AppData\\Local\\Continuum\\anaconda3\\lib\\site-packages\\numpy\\.libs\\libopenblas.IPBC74C7KURV7CB2PKT5Z5FNR3SIBV4J.gfortran-win_amd64.dll\n",
      "C:\\Users\\samora\\AppData\\Local\\Continuum\\anaconda3\\lib\\site-packages\\numpy\\.libs\\libopenblas.PYQHXLVVQ7VESDPUVUADXEVJOBGHJPAY.gfortran-win_amd64.dll\n",
      "  stacklevel=1)\n"
     ]
    }
   ],
   "source": [
    "import numpy as np\n",
    "import h5py\n",
    "import matplotlib.pyplot as plt\n",
    "\n",
    "from ImportImagenes_L import *\n",
    "\n",
    "%matplotlib inline\n",
    "plt.rcParams['figure.figsize'] = (5.0, 4.0) # se fija el tamaño de los gráficos\n",
    "plt.rcParams['image.interpolation'] = 'nearest'\n",
    "plt.rcParams['image.cmap'] = 'gray'\n",
    "\n",
    "%load_ext autoreload\n",
    "%autoreload 2\n"
   ]
  },
  {
   "cell_type": "markdown",
   "metadata": {
    "collapsed": true
   },
   "source": [
    "Para construir la red neuronal, primero se construirán funciones auxiliares que permitirán implementar una red neuronal de L capas. Primero estudiaremos la incializacion de los parametros para una red de $L$ capas, e implementaremos la propagación hacia delante.\n",
    "\n",
    "La arquitectura de la red consistirá en capas densamente conectadas que propagan hacia delante el mensaje LINEAL de las capas anteriores, obteniendo $Z^{[l]}$, y activandose mediante una función de ACTIVACION, **RELU** o **SIGMOIDE**. \n",
    "\n",
    "De esta manera, se combinan los pasos [LINEAL->ACTIVACION] en una sola función (hacia delante), y tras ello, se agrupan las funciones de propagación hacia delante [LINEAL->RELU] L-1 veces (para las capas 1 hasta L-1). Finalmente se añade la capa de salida [LINEAL->SIGMOIDE] para la última capa $L$. Esta agrupacion la tendremos en la función ``propaga_L``.\n",
    "\n",
    "A cada función de propagación hacia delante le corresponde una función hacia atrás. Por ello, a cada paso hacia delante, guardaremos algunos valores necesarios para calcular los gradientes.\n",
    "\n",
    "Luego compytaremos la pérdida e implmentaremos la retro-propagación. Completaremos la parte LINEAL de la retro-propagación de una capa, a partir del gradiente de la función de activación, y combinaremos los pasos en una nueva función de retro-propagación [LINEAL->ACTIVACION]. Agruparemos las funciones de retro-propagación [LINEAL->RELU] L-1 veces y añadiremos la correspondiente [LINEAL->SIGMOIDE] en una nueva función ``retro_L``.\n",
    "\n",
    "Por último, actualizaremos los parámetros para implementar el bucle de aprendizaje de la red y ajustar el modelo de red con los datos que nos sean proporcionados.\n",
    "\n",
    "\n",
    "*Lectura opcional sobre funciones de activación tipo SELU: https://towardsdatascience.com/gentle-introduction-to-selus-b19943068cd9*\n"
   ]
  },
  {
   "cell_type": "markdown",
   "metadata": {
    "collapsed": true
   },
   "source": [
    "## 1. Inicialización de parámetros\n",
    "\n",
    "Entrenar una red neuronal requiere especificar unos valores iniciales para los pesos. Un método de inicialización bien elegido va a mejorar bastante el aprendizaje. La inicialización de una red neuronal profunda es más compleja que la de una red sencilla, pues contamos con una mayor número de parámetros (hay más matrices de pesos y vectores de sesgo).   \n",
    "\n",
    "Un método de inicialización bien elegido permite:\n",
    "- Incrementar la velocidad de convergencia de la búsqueda por los parámetros (mediante GD) \n",
    "- Incrementar las probabilidades de que el método de búsqueda (GD) converja hacia un error de entrenamiento menor, y una mejor generalización  \n",
    "\n",
    "La incialización la implementaremos mediante la fucnión `param_I_L`.\n",
    "\n",
    "Recuerde asegurarse que las dimensiones de las matrices con los parametros sean coherentes al pasar de capa en capa. Recuerde que  $n^{[l]}$ es el número de unidades en la capa $l$. Entonces, e.g., si el tamaño de la entrada $X$ es $(14700, 175)$ (con $m=175$ ejemplos), se tiene que:\n"
   ]
  },
  {
   "cell_type": "markdown",
   "metadata": {},
   "source": [
    "<table style=\"width:100%\">\n",
    "    <tr>\n",
    "        <td>       </td> \n",
    "        <td> **Dimensión de W**     </td> \n",
    "        <td> **Dimensión de b**   </td> \n",
    "        <td> **Activación**</td>\n",
    "        <td> **Dimensión de la activación**  </td> \n",
    "    </tr>\n",
    "    <tr>\n",
    "        <td> **Capa 1** </td> \n",
    "        <td> $(n^{[1]},14700)$ </td> \n",
    "        <td> $(n^{[1]},1)$ </td> \n",
    "        <td> $Z^{[1]} = W^{[1]}  X + b^{[1]} $ </td> \n",
    "        <td> $(n^{[1]},175)$ </td> \n",
    "    </tr>\n",
    "    <tr>\n",
    "        <td> **Capa 2** </td> \n",
    "        <td> $(n^{[2]}, n^{[1]})$  </td> \n",
    "        <td> $(n^{[2]},1)$ </td> \n",
    "        <td>$Z^{[2]} = W^{[2]} A^{[1]} + b^{[2]}$ </td> \n",
    "        <td> $(n^{[2]}, 175)$ </td> \n",
    "    </tr>\n",
    "    <tr>\n",
    "        <td> $\\vdots$ </td> \n",
    "        <td> $\\vdots$  </td> \n",
    "        <td> $\\vdots$  </td> \n",
    "        <td> $\\vdots$ </td> \n",
    "        <td> $\\vdots$  </td> \n",
    "    </tr>\n",
    "    <tr>\n",
    "        <td> **Capa L-1** </td> \n",
    "        <td> $(n^{[L-1]}, n^{[L-2]})$ </td> \n",
    "        <td> $(n^{[L-1]}, 1)$  </td> \n",
    "        <td>$Z^{[L-1]} =  W^{[L-1]} A^{[L-2]} + b^{[L-1]}$ </td> \n",
    "        <td> $(n^{[L-1]}, 175)$ </td> \n",
    "    </tr>\n",
    "    <tr>\n",
    "        <td> **Capa L** </td> \n",
    "        <td> $(n^{[L]}, n^{[L-1]})$ </td> \n",
    "        <td> $(n^{[L]}, 1)$ </td>\n",
    "        <td> $Z^{[L]} =  W^{[L]} A^{[L-1]} + b^{[L]}$</td>\n",
    "        <td> $(n^{[L]}, 175)$  </td> \n",
    "    </tr>\n",
    "</table>"
   ]
  },
  {
   "cell_type": "markdown",
   "metadata": {},
   "source": [
    "## Ejercicio 1.1\n",
    "\n",
    "Implemente la inicialización de una red neuronal con L capas. \n",
    "\n",
    "Tenga en cuenta que:\n",
    "- Inicializaciones diferentes llevan a resultados distintos\n",
    "- En redes complejas, si los pesos son inicializados muy pequeñas o muy grandes, podemos encontrarnos con el problema de gradientes que se desvanecen o que explotan.\n",
    "- La incialización aleatoria es usada para romper la simetría y asegurarse que las distintas unidades escondidas (neuronas) puedan aprender funciones distintas\n",
    "\n",
    "Recuerde que la estructura del modelo es [LINEAL -> RELU] $ \\times$ (L-1) -> LINEAL -> SIGMOIDE. Esto es, la red tiene $L-1$ capas utilizando una función de activación ReLU, seguido de una capa de salida con la función de activación Sigmoide.\n",
    "\n",
    "i) Implemente una inicialización aleatoria para las matrices de pesos. \n",
    "Para ello utilice `np.random.randn(shape) * 0.01`.\n",
    "\n",
    "Para los sesgos, utilize una inicialización de ceros. \n",
    "Para ello utilice `np.zeros(shape)`.\n",
    "\n",
    "ii) Implemente la inicialización de Xavier y de He. El método de He fue presentado en el paper publicado por He et al., 2015. Es muy similar a la inicialización de Xavier, sólo que en la de Xavier los pesos  $W^{[l]}$ se multiplican por `sqrt(1./dim_capas[l])`, mientras que en la de He se multiplican por `sqrt(2./dim_capas[l])`.)\n",
    "\n",
    "*Nota:* la inicialización de He se recomienda para las capas con una activación ReLU. \n",
    "\n",
    "\n",
    "El número de unidades en cada capa $n^{[l]}$, se guarda en la variable `dim_capas`. De esta manera, por ejemplo, las `dim_capas` con 2 dimensiones de entrada, una capa escondida con 4 unidades, y una capa de salida con una unidad, corresponde con [2,4,1]. Por lo tanto, la forma de `W1` sería de (4,2), la de `b1` (4,1), `W2` (1,4) y `b2` (1,1). \n",
    "\n",
    "\n",
    "*Ayuda:* La implementación para $L=1$ sería de la siguiente manera:\n",
    "```python\n",
    "    if L == 1:\n",
    "        param[\"W\" + str(L)] = np.random.randn(dim_capas[1], dim_capas[0]) * 0.01\n",
    "        param[\"b\" + str(L)] = np.zeros((dim_capas[1], 1))\n",
    "```"
   ]
  },
  {
   "cell_type": "code",
   "execution_count": 2,
   "metadata": {},
   "outputs": [],
   "source": [
    "def param_I_L(dim_capas, init, semilla):\n",
    "    \"\"\"\n",
    "    Input:\n",
    "    dim_capas: arreglo (lista) de python con las dimensiones de cada capa de la red\n",
    "    init: método de incialización \"rand\", \"Xav, \"He\"\n",
    "    semilla: la semilla aleatoria para la incializacion\n",
    "    Output:\n",
    "    param: diccionario python con los parametros \"W1\", \"b1\", ..., \"WL\", \"bL\":\n",
    "                    Wl: matriz de pesos (dim_capas[l], dim_capas[l-1])\n",
    "                    bl: vector de sesgo (dim_capas[l], 1)\n",
    "    \"\"\"\n",
    "    \n",
    "    np.random.seed( semilla )\n",
    "    param = {}\n",
    "    L = len(dim_capas)           \n",
    "\n",
    "    for l in range(1, L):\n",
    "        \n",
    "        if init == \"rand\":\n",
    "        # Inicializacion aleatoria\n",
    "            param['W' + str(l)] = np.random.randn(dim_capas[l], dim_capas[l-1]) * 0.01\n",
    "            param['b' + str(l)] = np.zeros((dim_capas[l], 1))\n",
    "        \n",
    "        # Inicializacion de Xavier\n",
    "        #Inicializacion de He\n",
    "        elif init == \"Xav\":\n",
    "            param['W' + str(l)] = np.random.randn(dim_capas[l], dim_capas[l-1]) * np.sqrt(1./dim_capas[l])\n",
    "            param['b' + str(l)] = np.zeros((dim_capas[l], 1))\n",
    "            \n",
    "        #Inicializacion de He\n",
    "        elif init == \"He\":\n",
    "            param['W' + str(l)] = np.random.randn(dim_capas[l], dim_capas[l-1]) * np.sqrt(2./dim_capas[l])\n",
    "            param['b' + str(l)] = np.zeros((dim_capas[l], 1))\n",
    "            \n",
    "        \n",
    "        assert(param['W' + str(l)].shape == (dim_capas[l], dim_capas[l-1]))\n",
    "        assert(param['b' + str(l)].shape == (dim_capas[l], 1))\n",
    "\n",
    "        \n",
    "    return param"
   ]
  },
  {
   "cell_type": "code",
   "execution_count": 3,
   "metadata": {},
   "outputs": [
    {
     "name": "stdout",
     "output_type": "stream",
     "text": [
      "Inicializacion aleatoria:\n",
      "W1 = [[ 1.10855471e-05 -2.89544069e-03 -1.11606630e-02 -1.28827567e-04\n",
      "  -3.78361464e-03]\n",
      " [-4.81135363e-03 -1.51733118e-02 -4.90871981e-03 -2.40680579e-03\n",
      "  -6.47947460e-03]\n",
      " [ 6.35891080e-03  1.74011731e-02  2.96682218e-03  7.07503662e-03\n",
      "   1.82281576e-02]\n",
      " [ 4.30769029e-03  1.54272963e-02 -9.00721171e-03 -1.37125010e-03\n",
      "   1.29757901e-02]]\n",
      "b1 = [[0.]\n",
      " [0.]\n",
      " [0.]\n",
      " [0.]]\n",
      "W2 = [[ 0.00675271  0.00031958  0.00918146  0.00380509]\n",
      " [ 0.00516367 -0.00355239  0.00208777  0.00328411]\n",
      " [-0.00498225 -0.02091777 -0.00082588  0.02455183]]\n",
      "b2 = [[0.]\n",
      " [0.]\n",
      " [0.]]\n"
     ]
    }
   ],
   "source": [
    "param = param_I_L([5,4,3], \"rand\", 9)\n",
    "print(\"Inicializacion aleatoria:\")\n",
    "print(\"W1 = \" + str(param[\"W1\"]))\n",
    "print(\"b1 = \" + str(param[\"b1\"]))\n",
    "print(\"W2 = \" + str(param[\"W2\"]))\n",
    "print(\"b2 = \" + str(param[\"b2\"]))"
   ]
  },
  {
   "cell_type": "markdown",
   "metadata": {},
   "source": [
    "**Salida esperada**:\n",
    "       \n",
    "Inicializacion aleatoria:\n",
    "<table style=\"width:80%\">\n",
    "  <tr>\n",
    "    <td> W1 </td>\n",
    "    <td>[[ 1.10855471e-05 -2.89544069e-03 -1.11606630e-02 -1.28827567e-04\n",
    "  -3.78361464e-03]\n",
    " [-4.81135363e-03 -1.51733118e-02 -4.90871981e-03 -2.40680579e-03\n",
    "  -6.47947460e-03]\n",
    " [ 6.35891080e-03  1.74011731e-02  2.96682218e-03  7.07503662e-03\n",
    "   1.82281576e-02]\n",
    " [ 4.30769029e-03  1.54272963e-02 -9.00721171e-03 -1.37125010e-03\n",
    "   1.29757901e-02]]</td> \n",
    "  </tr>\n",
    "  <tr>\n",
    "    <td>b1 </td>\n",
    "    <td>[[ 0.]\n",
    " [ 0.]\n",
    " [ 0.]\n",
    " [ 0.]]</td> \n",
    "  </tr>\n",
    "  <tr>\n",
    "    <td>W2 </td>\n",
    "    <td>[[ 0.00675271  0.00031958  0.00918146  0.00380509]\n",
    " [ 0.00516367 -0.00355239  0.00208777  0.00328411]\n",
    " [-0.00498225 -0.02091777 -0.00082588  0.02455183]]</td> \n",
    "  </tr>\n",
    "  <tr>\n",
    "    <td>b2 </td>\n",
    "    <td>[[ 0.]\n",
    " [ 0.]\n",
    " [ 0.]]</td> \n",
    "  </tr>\n",
    "  \n",
    "</table>"
   ]
  },
  {
   "cell_type": "code",
   "execution_count": 4,
   "metadata": {},
   "outputs": [
    {
     "name": "stdout",
     "output_type": "stream",
     "text": [
      "Inicializacion de Xavier:\n",
      "W1 = [[ 5.54277356e-04 -1.44772035e-01 -5.58033152e-01 -6.44137837e-03\n",
      "  -1.89180732e-01]\n",
      " [-2.40567681e-01 -7.58665589e-01 -2.45435991e-01 -1.20340289e-01\n",
      "  -3.23973730e-01]\n",
      " [ 3.17945540e-01  8.70058653e-01  1.48341109e-01  3.53751831e-01\n",
      "   9.11407882e-01]\n",
      " [ 2.15384515e-01  7.71364813e-01 -4.50360586e-01 -6.85625052e-02\n",
      "   6.48789506e-01]]\n",
      "b1 = [[0.]\n",
      " [0.]\n",
      " [0.]\n",
      " [0.]]\n",
      "W2 = [[ 0.38986799  0.01845103  0.53009178  0.21968724]\n",
      " [ 0.29812491 -0.2050976   0.12053746  0.18960822]\n",
      " [-0.2876502  -1.20768788 -0.04768205  1.41750037]]\n",
      "b2 = [[0.]\n",
      " [0.]\n",
      " [0.]]\n"
     ]
    }
   ],
   "source": [
    "param = param_I_L([5,4,3], \"Xav\", 9)\n",
    "print(\"Inicializacion de Xavier:\")\n",
    "print(\"W1 = \" + str(param[\"W1\"]))\n",
    "print(\"b1 = \" + str(param[\"b1\"]))\n",
    "print(\"W2 = \" + str(param[\"W2\"]))\n",
    "print(\"b2 = \" + str(param[\"b2\"]))"
   ]
  },
  {
   "cell_type": "markdown",
   "metadata": {},
   "source": [
    "**Salida esperada**:\n",
    "\n",
    "Inicializacion de Xavier:\n",
    "<table style=\"width:80%\">\n",
    "  <tr>\n",
    "    <td> **W1** </td>\n",
    "    <td>[[ 5.54277356e-04 -1.44772035e-01 -5.58033152e-01 -6.44137837e-03\n",
    "  -1.89180732e-01]\n",
    " [-2.40567681e-01 -7.58665589e-01 -2.45435991e-01 -1.20340289e-01\n",
    "  -3.23973730e-01]\n",
    " [ 3.17945540e-01  8.70058653e-01  1.48341109e-01  3.53751831e-01\n",
    "   9.11407882e-01]\n",
    " [ 2.15384515e-01  7.71364813e-01 -4.50360586e-01 -6.85625052e-02\n",
    "   6.48789506e-01]]</td> \n",
    "  </tr>\n",
    "  \n",
    "  <tr>\n",
    "    <td>**b1** </td>\n",
    "    <td>[[ 0.]\n",
    " [ 0.]\n",
    " [ 0.]\n",
    " [ 0.]]</td> \n",
    "  </tr>\n",
    "  \n",
    "  <tr>\n",
    "    <td>**W2** </td>\n",
    "    <td>[[ 0.38986799  0.01845103  0.53009178  0.21968724]\n",
    " [ 0.29812491 -0.2050976   0.12053746  0.18960822]\n",
    " [-0.2876502  -1.20768788 -0.04768205  1.41750037]]</td> \n",
    "  </tr>\n",
    "  \n",
    "  <tr>\n",
    "    <td>**b2** </td>\n",
    "    <td>[[ 0.]\n",
    " [ 0.]\n",
    " [ 0.]]</td> \n",
    "  </tr>\n",
    "  \n",
    "</table>"
   ]
  },
  {
   "cell_type": "code",
   "execution_count": 5,
   "metadata": {},
   "outputs": [
    {
     "name": "stdout",
     "output_type": "stream",
     "text": [
      "Inicializacion de He:\n",
      "W1 = [[ 7.83866554e-04 -2.04738575e-01 -7.89178051e-01 -9.10948466e-03\n",
      "  -2.67541957e-01]\n",
      " [-3.40214078e-01 -1.07291517e+00 -3.47098907e-01 -1.70186869e-01\n",
      "  -4.58168043e-01]\n",
      " [ 4.49642895e-01  1.23044875e+00  2.09786008e-01  5.00280637e-01\n",
      "   1.28892539e+00]\n",
      " [ 3.04599702e-01  1.09087458e+00 -6.36906048e-01 -9.69620247e-02\n",
      "   9.17526919e-01]]\n",
      "b1 = [[0.]\n",
      " [0.]\n",
      " [0.]\n",
      " [0.]]\n",
      "W2 = [[ 0.5513566   0.02609369  0.74966299  0.31068468]\n",
      " [ 0.42161229 -0.2900518   0.17046571  0.26814652]\n",
      " [-0.40679882 -1.70792858 -0.06743261  2.00464824]]\n",
      "b2 = [[0.]\n",
      " [0.]\n",
      " [0.]]\n"
     ]
    }
   ],
   "source": [
    "param = param_I_L([5,4,3], \"He\", 9)\n",
    "print(\"Inicializacion de He:\")\n",
    "print(\"W1 = \" + str(param[\"W1\"]))\n",
    "print(\"b1 = \" + str(param[\"b1\"]))\n",
    "print(\"W2 = \" + str(param[\"W2\"]))\n",
    "print(\"b2 = \" + str(param[\"b2\"]))"
   ]
  },
  {
   "cell_type": "markdown",
   "metadata": {},
   "source": [
    "**Salida esperada**:\n",
    "\n",
    "Inicializacion de He:\n",
    "<table style=\"width:80%\">\n",
    "  <tr>\n",
    "    <td> W1 </td>\n",
    "    <td>[[ 7.83866554e-04 -2.04738575e-01 -7.89178051e-01 -9.10948466e-03\n",
    "  -2.67541957e-01]\n",
    " [-3.40214078e-01 -1.07291517e+00 -3.47098907e-01 -1.70186869e-01\n",
    "  -4.58168043e-01]\n",
    " [ 4.49642895e-01  1.23044875e+00  2.09786008e-01  5.00280637e-01\n",
    "   1.28892539e+00]\n",
    " [ 3.04599702e-01  1.09087458e+00 -6.36906048e-01 -9.69620247e-02\n",
    "   9.17526919e-01]]</td> \n",
    "  </tr>\n",
    "  <tr>\n",
    "    <td>b1 </td>\n",
    "    <td>[[ 0.]\n",
    " [ 0.]\n",
    " [ 0.]\n",
    " [ 0.]]</td> \n",
    "  </tr>\n",
    "  <tr>\n",
    "    <td>W2 </td>\n",
    "    <td>[[ 0.5513566   0.02609369  0.74966299  0.31068468]\n",
    " [ 0.42161229 -0.2900518   0.17046571  0.26814652]\n",
    " [-0.40679882 -1.70792858 -0.06743261  2.00464824]]</td> \n",
    "  </tr>\n",
    "  <tr>\n",
    "    <td>b2 </td>\n",
    "    <td>[[ 0.]\n",
    " [ 0.]\n",
    " [ 0.]]</td> \n",
    "  </tr>\n",
    "  \n",
    "</table>"
   ]
  },
  {
   "cell_type": "markdown",
   "metadata": {},
   "source": [
    "## 2. Propagación hacia delante\n",
    "\n",
    "Una vez inicializados los parámetros, debemos implementar la propagación hacia delante. Vamos a empezar por implementar algunas funciones básicas para ser utilizadas más adelante en la implementación del modelo. \n",
    "\n",
    "Vamos a implementar 3 funciones:\n",
    "- LINEAL\n",
    "- LINEAL -> ACTIVACION donde la activación será ReLU o Sigmoide. \n",
    "- [LINEAL -> RELU] $\\times$ (L-1) -> LINEAL -> SIGMOIDE (modelo completo)\n",
    "\n",
    "Esta implementación (vectorizada) de la propagación hacia delante calcula las siguientes ecuaciones:\n",
    "\n",
    "$$Z^{[l]} = W^{[l]}A^{[l-1]} +b^{[l]}$$\n",
    "\n",
    "donde $A^{[0]} = X$. \n",
    "\n",
    "### Ejercicio 2.1 \n",
    "Construya la parte LINEAL de la propagación hacia delante. \n",
    "\n",
    "*Ayuda:* Puede ser útil la función`np.dot()`. También, si las dimensiones no casan, puede investigar lo que ocurre llamando a `W.shape`."
   ]
  },
  {
   "cell_type": "code",
   "execution_count": 6,
   "metadata": {},
   "outputs": [],
   "source": [
    "def lineal(A, W, b):\n",
    "    \"\"\"\n",
    "    Implemente la parte lineal para la propagación hacia delante de una capa\n",
    "    Input:\n",
    "    A: las activaciones de la capa previa (o los datos de entrada): (tamaño de la capa previa, número de ejemplos)\n",
    "    W: matriz de pesos, un arreglo numpy de dimensiones (tamaño de la capa actual, tamaño de la capa previa)\n",
    "    b: vector de sesgo, un arreglo numpy de dimensiones (tamaño de la capa actual, 1)\n",
    "    Output:\n",
    "    Z: la entrada para la función de activación, también llamado parámetro de pre-activación \n",
    "    memo: diccionario python con \"A\", \"W\" y \"b\", almacenados para computar los pasos hacia atrás de manera eficiente\n",
    "    \"\"\"\n",
    "    \n",
    "    Z = np.dot(W, A) + b\n",
    "    \n",
    "    assert(Z.shape == (W.shape[0], A.shape[1]))\n",
    "    memo = (A, W, b)\n",
    "    \n",
    "    return Z, memo"
   ]
  },
  {
   "cell_type": "code",
   "execution_count": 7,
   "metadata": {},
   "outputs": [
    {
     "name": "stdout",
     "output_type": "stream",
     "text": [
      "Z = [[-0.01071957 -0.08648949]]\n"
     ]
    }
   ],
   "source": [
    "np.random.seed(9)\n",
    "A = np.random.randn(3,2)\n",
    "W = np.random.randn(1,3)\n",
    "b = np.random.randn(1,1)\n",
    "\n",
    "Z, memo = lineal(A, W, b)\n",
    "print(\"Z = \" + str(Z))"
   ]
  },
  {
   "cell_type": "markdown",
   "metadata": {},
   "source": [
    "**Salida esperada**:\n",
    "\n",
    "<table style=\"width:35%\"> \n",
    "  <tr>\n",
    "    <td> Z </td>\n",
    "    <td> [[-0.01071957 -0.08648949]] </td> \n",
    "  </tr>\n",
    "  \n",
    "</table>"
   ]
  },
  {
   "cell_type": "markdown",
   "metadata": {},
   "source": [
    "### Activación lineal\n",
    "\n",
    "Ahora construyamos la *activación-lineal hacia delante*. Para ello, necesitamos las dos funciones de activación:\n",
    "\n",
    "- **Sigmoide**: $\\sigma(Z) = \\sigma(W A + b) = \\frac{1}{ 1 + e^{-(W A + b)}}$. Esta función `sigmoide` devuelve 2 objetos: el valor de activación \"`a`\" y una memoria \"`memo`\" que contiene \"`Z`\" (la cual se le pasa a la correspondiente función de retro-propagación). \n",
    "\n",
    "Para usarla basta con este comando: \n",
    "``` python\n",
    "A, memo = sigmoide(Z)\n",
    "```\n"
   ]
  },
  {
   "cell_type": "code",
   "execution_count": 8,
   "metadata": {},
   "outputs": [],
   "source": [
    "def sigmoide(Z):\n",
    "    \n",
    "    A = 1/(1+np.exp(-Z))\n",
    "    memo = Z                                          \n",
    "    \n",
    "    return A, memo\n"
   ]
  },
  {
   "cell_type": "markdown",
   "metadata": {},
   "source": [
    "- **ReLU**:  $A = RELU(Z) = max(0, Z)$. Esta función `relu` también devuelve 2 objetos: el valor de activación \"`a`\" y una \"`memo`\" que contiene \"`Z`\" (la cual se le pasa a la correspondiente función de retro-propagación). \n",
    "\n",
    "Para usarla basta con este comando: \n",
    "``` python\n",
    "A, memo = relu(Z)\n",
    "```"
   ]
  },
  {
   "cell_type": "code",
   "execution_count": 9,
   "metadata": {},
   "outputs": [],
   "source": [
    "def relu(Z):\n",
    "    \n",
    "    A = np.maximum(0,Z)\n",
    "    \n",
    "    assert(A.shape == Z.shape)\n",
    "    \n",
    "    memo = Z \n",
    "    return A, memo\n"
   ]
  },
  {
   "cell_type": "markdown",
   "metadata": {},
   "source": [
    "Para mayor conveniencia, vamos a agrupar dos funciones (Lineal y Activacion) en una sola (LINEAL->ACTIVACION). Por lo tanto, vamos a implementar una función que da el paso LINEAL hacia delante seguido del paso de ACTIVACION hacia delante.\n",
    "\n",
    "### Ejercicio 2.2  \n",
    "\n",
    "Implemente la propagación hacia delante de la capa *LINEAL->ACTIVACION*. La ecuación matemática es: $$A^{[l]} = g(Z^{[l]}) = g(W^{[l]}A^{[l-1]} +b^{[l]})$$ donde la activación \"g\" puede ser sigmoide() o relu(). Utilice la función que acabamos de escribir `lineal()` y la función de activación correcta."
   ]
  },
  {
   "cell_type": "code",
   "execution_count": 10,
   "metadata": {},
   "outputs": [],
   "source": [
    "def activacion_lineal(A_prev, W, b, activacion):\n",
    "    \"\"\"\n",
    "    Implementa la activación lineal para una capa LINEAL->ACTIVACION\n",
    "    Input:\n",
    "    A_prev: activaciones de la capa previa: (tamaño de la capa previa, número de ejemplos)\n",
    "    W: matriz de pesos, un arreglo numpy de dimensiones (tamaño de la capa actual, tamaño de la capa previa)\n",
    "    b: vector de sesgo, un arreglo numpy de dimensiones (tamaño de la capa actual, 1)\n",
    "    activacion: la activación a ser usada en la capa, guardada como una cadena de texto: \"sigmoide\" or \"relu\"\n",
    "    Output:\n",
    "    A: la salida de la función de activación, también llamada valor de post-activacion \n",
    "    memo: dicionario python con la \"memo_lineal\" y la \"memo_activacion\"\n",
    "    \"\"\"\n",
    "    \n",
    "    if (activacion == \"sigmoide\"):\n",
    "        # Inputs: \"A_prev, W, b\". Outputs: \"A, memo_activacion\"\n",
    "        Z, memo_lineal = lineal(A_prev, W, b)\n",
    "        A, memo_activacion = sigmoide(Z)\n",
    "    \n",
    "    elif (activacion == \"relu\"):\n",
    "        # Inputs: \"A_prev, W, b\". Outputs: \"A, memo_activacion\".\n",
    "        Z, memo_lineal = lineal(A_prev, W, b)\n",
    "        A, memo_activacion = relu(Z)\n",
    "    \n",
    "    assert (A.shape == (W.shape[0], A_prev.shape[1]))\n",
    "    memo = (memo_lineal, memo_activacion)\n",
    "\n",
    "    return A, memo\n"
   ]
  },
  {
   "cell_type": "code",
   "execution_count": 11,
   "metadata": {},
   "outputs": [
    {
     "name": "stdout",
     "output_type": "stream",
     "text": [
      "Con sigmoide: A = [[0.09761704 0.57236238]]\n",
      "Con ReLU: A = [[0.         0.29149618]]\n"
     ]
    }
   ],
   "source": [
    "np.random.seed(99)\n",
    "A_prev = np.random.randn(3,2)\n",
    "W = np.random.randn(1,3)\n",
    "b = np.random.randn(1,1)\n",
    "\n",
    "A, activacion_lineal_memo = activacion_lineal(A_prev, W, b, activacion=\"sigmoide\")\n",
    "print(\"Con sigmoide: A = \" + str(A))\n",
    "\n",
    "A, activacion_lineal_memo = activacion_lineal(A_prev, W, b, activacion=\"relu\")\n",
    "print(\"Con ReLU: A = \" + str(A))"
   ]
  },
  {
   "cell_type": "markdown",
   "metadata": {},
   "source": [
    "**Salida esperada**:\n",
    "       \n",
    "<table style=\"width:35%\">\n",
    "  <tr>\n",
    "    <td> Con sigmoide: A  </td>\n",
    "    <td > [[0.09761704 0.57236238]] </td> \n",
    "  </tr>\n",
    "  <tr>\n",
    "    <td> Con ReLU: A </td>\n",
    "    <td > [[0.         0.29149618]] </td> \n",
    "  </tr>\n",
    "</table>\n"
   ]
  },
  {
   "cell_type": "markdown",
   "metadata": {},
   "source": [
    "## Modelo con L capas \n",
    "\n",
    "Con el fin de facilitar la implementación de la red neuronal de $L$ capas  necesitamos una función que replique la propagación hacia delante (`activacion_lineal`) con RELU, $L-1$ veces, seguida por la función (`activacion_lineal`) con la función SIGMOIDE.\n",
    "\n",
    "\n",
    "### Ejercicio 2.3\n",
    "Implemente la propagación hacia delante del modelo completo.\n",
    "\n",
    "Tenga en cuenta que en el código la variable `AL` denota la estimación de la última capa de salida $$A^{[L]} = \\sigma(Z^{[L]}) = \\sigma(W^{[L]} A^{[L-1]} + b^{[L]})$$ \n",
    "\n",
    "Utilice las funciones que ha programado antes, recuerde usar un bucle for para replicar la [LINEAL->RELU] (L-1) veces y no olvide ir guardando las salidas de cada capa en la lista \"memos\". \n",
    "\n",
    "*Ayuda:* Para ir guardando los valores de `c`en una lista use `list.append(c)`."
   ]
  },
  {
   "cell_type": "code",
   "execution_count": 12,
   "metadata": {},
   "outputs": [],
   "source": [
    "def propagacion_L(X, param):\n",
    "    \"\"\"\n",
    "    Implemente la propagación hacia delante para calcular [LINEAL->RELU]*(L-1)->LINEAL->SIGMOIDE\n",
    "    Input:\n",
    "    X: datos de entrada, arreglo de tamaño (tamaño del input, número de ejemplos)\n",
    "    param: parametros que se obtienen de la inicializacion param_I_L()\n",
    "    Output:\n",
    "    AL: último valor de post-activación\n",
    "    memos: lista de memos con cada memo de activacion_lineal() (hay L-1 memos, indexadas de 0 a L-1)\n",
    "    \"\"\"\n",
    "\n",
    "    memos = []\n",
    "    A = X\n",
    "    L = len(param) // 2                  # número de capas en la red neuronal\n",
    "    \n",
    "    # Implemente [LINEAL -> RELU]*(L-1). Añada \"memo\" a la lista de \"memos\".\n",
    "    for l in range(1, L):\n",
    "        A_prev = A \n",
    "        A, memo = activacion_lineal(A_prev, param['W' + str(l)], param['b' + str(l)], activacion = \"relu\")\n",
    "        memos.append(memo)\n",
    "\n",
    "    \n",
    "    # Implemente LINEAL -> SIGMOIDE. Añada \"memo\" a la lista de \"memos\".\n",
    "    AL, memo = activacion_lineal(A, param['W' + str(L)], param['b' + str(L)], activacion = \"sigmoide\")\n",
    "    memos.append(memo)\n",
    "    \n",
    "    assert(AL.shape == (1,X.shape[1]))\n",
    "            \n",
    "    return AL, memos"
   ]
  },
  {
   "cell_type": "code",
   "execution_count": 13,
   "metadata": {},
   "outputs": [
    {
     "name": "stdout",
     "output_type": "stream",
     "text": [
      "AL = [[0.40900153 0.40900153]]\n",
      "Longitud de la lista de memos = 2\n"
     ]
    }
   ],
   "source": [
    "np.random.seed(55)\n",
    "\n",
    "X = np.random.randn(4,2)\n",
    "W1 = np.random.randn(3,4)\n",
    "b1 = np.random.randn(3,1)\n",
    "W2 = np.random.randn(1,3)\n",
    "b2 = np.random.randn(1,1)\n",
    "\n",
    "params = {\"W1\": W1, \"b1\": b1, \"W2\": W2, \"b2\": b2}\n",
    "    \n",
    "AL, memos = propagacion_L(X, params)\n",
    "print(\"AL = \" + str(AL))\n",
    "print(\"Longitud de la lista de memos = \" + str(len(memos)))"
   ]
  },
  {
   "cell_type": "markdown",
   "metadata": {},
   "source": [
    "**Salida esperada**:\n",
    "\n",
    "<table style=\"width:50%\">\n",
    "  <tr>\n",
    "    <td> AL </td>\n",
    "    <td > [[0.40900153 0.40900153]]</td> \n",
    "  </tr>\n",
    "  <tr>\n",
    "    <td> Longitud de la lista de memos  </td>\n",
    "    <td > 2 </td> \n",
    "  </tr>\n",
    "</table>"
   ]
  },
  {
   "cell_type": "markdown",
   "metadata": {},
   "source": [
    "Muy bien, llegado a este punto ya tenemos listo todo el proceso de propagación hacia delante. Este proceso toma la entrada X y obtiene como salida el vector-fila $A^{[L]}$ de predicciones. Y hemos guardado los valores intermedios en \"`memos`\". A partir de aquí podemos calcular el coste o pérdida de las predicciones."
   ]
  },
  {
   "cell_type": "markdown",
   "metadata": {},
   "source": [
    "## 3. Función de pérdida o coste\n",
    "\n",
    "Ahora, con el fin de implementar la propagación hacia delante y hacia atrás, debemos computar el coste con el fin de verificar si el modelo en verdad está aprendiendo.\n",
    "\n",
    "### Ejercicio 3.1\n",
    "Calcule el coste por entropía-cruzada $J$, en base a la siguiente fórmula: $$J=-\\frac{1}{m} \\sum\\limits_{i = 1}^{m} \\biggr( y^{(i)}\\log\\left(a^{[L] (i)}\\right) + (1-y^{(i)})\\log\\left(1- a^{[L](i)}\\right) \\biggl) $$\n"
   ]
  },
  {
   "cell_type": "code",
   "execution_count": 14,
   "metadata": {},
   "outputs": [],
   "source": [
    "def perdida_L(AL, Y):\n",
    "    \"\"\"\n",
    "    Implementa la función de coste por entropía cruzada.\n",
    "    Input:\n",
    "    AL: vector con las probabilidades para las etiquetas de predicción, dimensiones (1, número de ejemplos)\n",
    "    Y: vector de etiquetas observadas, de dimensión (1, número de ejemplos)\n",
    "    Output:\n",
    "    coste: coste de entropía cruzada\n",
    "    \"\"\"\n",
    "    \n",
    "    m = Y.shape[1]\n",
    "\n",
    "    # Compute la pérdida de AL e Y.\n",
    "    logprobs = np.multiply(np.log(AL),Y) +  np.multiply(np.log(1-AL), (1-Y)) \n",
    "    coste = -1/m * np.sum(logprobs)\n",
    "    \n",
    "    coste = np.squeeze(coste)      # Para asegurar que la dimensión de se coste es correcta (e.g. [[17]] se torna en 17).\n",
    "    assert(coste.shape == ())\n",
    "    \n",
    "    return coste\n"
   ]
  },
  {
   "cell_type": "code",
   "execution_count": 15,
   "metadata": {},
   "outputs": [
    {
     "name": "stdout",
     "output_type": "stream",
     "text": [
      "coste = 0.32252800875390186\n"
     ]
    }
   ],
   "source": [
    "Y = np.asarray([[1, 0, 1]])\n",
    "AL = np.array([[.8,.5,0.95]])\n",
    "\n",
    "print(\"coste = \" + str(perdida_L(AL, Y)))"
   ]
  },
  {
   "cell_type": "markdown",
   "metadata": {},
   "source": [
    "**Salida esperada**:\n",
    "\n",
    "<table>\n",
    "    <tr>\n",
    "    <td>coste </td>\n",
    "    <td> 0.32252800875390186 </td> \n",
    "    </tr>\n",
    "</table>"
   ]
  },
  {
   "cell_type": "markdown",
   "metadata": {},
   "source": [
    "## 4. Retro-propagación\n",
    "\n",
    "Como en el caso de la propagación hacia delante, vamos a implementar funciones auxiliares para la retro-propagación. Recuerde que la retro-propagación permite calcular el gradiente de la función de coste con respecto a los parámetros. \n",
    "\n",
    "Análogamente a la propagación hacia delante, la retro-propagación se va a construir en tres pasos:\n",
    "- LINEAL hacia atrás\n",
    "- LINEAL -> ACTIVACION hacia atrás, donde ACTIVACION calcula la derivada de la función de activación (ReLU o sigmoide)\n",
    "- [LINEAL -> RELU] $\\times$ (L-1) -> LINEAL -> SIGMOIDE hacia atrás (modelo completo)\n",
    "\n"
   ]
  },
  {
   "cell_type": "markdown",
   "metadata": {},
   "source": [
    "La retro-propagación, o propagación lineal hacia atrás para la capa $l$, se calcula a partir de la derivada $$dZ^{[l]} = \\frac{\\partial J }{\\partial Z^{[l]}}$$. \n",
    "\n",
    "Ahora queremos obtener $(dW^{[l]}, db^{[l]} dA^{[l-1]})$ para poder actualizar nuestros parametros. Estos tres gradientes $(dW^{[l]}, db^{[l]}, dA^{[l]})$ se calculan a partir de $dZ^{[l]}$. \n",
    "\n",
    "Estas son la fórmulas que se necesitan:\n",
    "$$ dW^{[l]} = \\frac{\\partial J }{\\partial W^{[l]}} = \\frac{1}{m} dZ^{[l]} A^{[l-1] T} $$\n",
    "$$ db^{[l]} = \\frac{\\partial J }{\\partial b^{[l]}} = \\frac{1}{m} \\sum_{i = 1}^{m} dZ^{[l](i)}$$\n",
    "$$ dA^{[l-1]} = \\frac{\\partial J }{\\partial A^{[l-1]}} = W^{[l] T} dZ^{[l]} $$\n"
   ]
  },
  {
   "cell_type": "markdown",
   "metadata": {},
   "source": [
    "### Ejercicio 4.1\n",
    "\n",
    "Utilice las tres fórmulas (arriba) para implementar `retro_lineal()`."
   ]
  },
  {
   "cell_type": "code",
   "execution_count": 16,
   "metadata": {},
   "outputs": [],
   "source": [
    "def retro_lineal(dZ, memo):\n",
    "    \"\"\"\n",
    "    Implementa la parte lineal de la retro-propagación para una sola capa [l]\n",
    "    Input:\n",
    "    dZ: Gradiente del coste con respecto al output lineal de la capa actual\n",
    "    memo: conjunto de valores (A_prev, W, b) provenientes de la propagación hacia delante en la capa actual\n",
    "    Output:\n",
    "    dA_prev: Gradiente del coste con respecto a la activación (de la capa previa: l-1), del mismo tamaño como A_prev\n",
    "    dW: Gradiente del coste con respecto a W (de la capa actual: l), del mismo tamaño que W\n",
    "    db: Gradiente del coste con respecto a b (de la capa actual: l), del mismo tamaño que b\n",
    "    \"\"\"\n",
    "    A_prev, W, b = memo\n",
    "    m = A_prev.shape[1]\n",
    "\n",
    "    dW = 1./m * np.dot(dZ, A_prev.T)\n",
    "    db = 1./m * np.sum(dZ, axis = 1, keepdims = True)                     #axis=1,keepdims=True\n",
    "    dA_prev = np.dot(W.T, dZ)\n",
    "    \n",
    "    assert (dA_prev.shape == A_prev.shape)\n",
    "    assert (dW.shape == W.shape)\n",
    "    assert (db.shape == b.shape)\n",
    "    \n",
    "    return dA_prev, dW, db"
   ]
  },
  {
   "cell_type": "code",
   "execution_count": 17,
   "metadata": {},
   "outputs": [
    {
     "name": "stdout",
     "output_type": "stream",
     "text": [
      "dA_prev = [[ 0.32506047 -1.14728627]\n",
      " [-0.11305387  0.39901854]\n",
      " [-0.08917309  0.31473239]]\n",
      "dW = [[ 0.19426711  0.29803996 -0.84899749]]\n",
      "db = [[-0.32554075]]\n"
     ]
    }
   ],
   "source": [
    "np.random.seed(43)\n",
    "dZ = np.random.randn(1,2)\n",
    "A = np.random.randn(3,2)\n",
    "W = np.random.randn(1,3)\n",
    "b = np.random.randn(1,1)\n",
    "activacion_lineal_memo = (A, W, b)\n",
    "\n",
    "dA_prev, dW, db = retro_lineal(dZ, activacion_lineal_memo)\n",
    "print (\"dA_prev = \"+ str(dA_prev))\n",
    "print (\"dW = \" + str(dW))\n",
    "print (\"db = \" + str(db))"
   ]
  },
  {
   "cell_type": "markdown",
   "metadata": {},
   "source": [
    "**Salida esperada**:\n",
    "\n",
    "<table style=\"width:90%\">\n",
    "    <tr>\n",
    "      <td> dA_prev </td>\n",
    "      <td > [[ 0.32506047 -1.14728627]\n",
    " [-0.11305387  0.39901854]\n",
    " [-0.08917309  0.31473239]] </td> \n",
    "    </tr> \n",
    "    <tr>\n",
    "        <td> dW </td>\n",
    "        <td > [[ 0.19426711  0.29803996 -0.84899749]] </td> \n",
    "    </tr> \n",
    "    <tr>\n",
    "        <td> db </td>\n",
    "        <td> [[-0.32554075]] </td> \n",
    "    </tr> \n",
    "    \n",
    "</table>\n",
    "\n"
   ]
  },
  {
   "cell_type": "markdown",
   "metadata": {},
   "source": [
    "## Activación-lineal hacia atrás\n",
    "\n",
    "A continuación, vamos a escribir una función que da el paso hacia atrás de la activación **`retro_activacion_lineal`**. \n",
    "\n",
    "Para implementar `retro_activacion_lineal`, necesitamos calcular las derivadas de la funcion sigmoide:\n",
    "- **`sigmoide_retro`**, tal que \n",
    "\n",
    "```python\n",
    "dZ = sigmoide_retro(dA, memo_activacion)\n",
    "```\n"
   ]
  },
  {
   "cell_type": "code",
   "execution_count": 18,
   "metadata": {},
   "outputs": [],
   "source": [
    "def sigmoide_retro(dA, memo):\n",
    "    \n",
    "    Z = memo\n",
    "    \n",
    "    s = 1/(1+np.exp(-Z))\n",
    "    dZ = dA * s * (1-s)\n",
    "    \n",
    "    assert (dZ.shape == Z.shape)\n",
    "    \n",
    "    return dZ"
   ]
  },
  {
   "cell_type": "markdown",
   "metadata": {},
   "source": [
    "y la derivada de la funcion ReLU:\n",
    "- **`relu_retro`**, de forma que \n",
    "\n",
    "```python\n",
    "dZ = relu_retro(dA, memo_activacion)\n",
    "```\n"
   ]
  },
  {
   "cell_type": "code",
   "execution_count": 19,
   "metadata": {},
   "outputs": [],
   "source": [
    "def relu_retro(dA, memo):\n",
    "    \n",
    "    Z = memo\n",
    "    dZ = np.array(dA, copy=True) \n",
    "    \n",
    "    dZ[Z <= 0] = 0\n",
    "    \n",
    "    assert (dZ.shape == Z.shape)\n",
    "    \n",
    "    return dZ"
   ]
  },
  {
   "cell_type": "markdown",
   "metadata": {},
   "source": [
    "Ahora vamos a implementar una función que da el paso LINEAL hacia atrás seguido del paso de ACTIVACION hacia atrás, todo en una misma capa *RETRO(LINEAL->ACTIVACION)*.\n",
    "\n",
    "### Ejercicio 4.2\n",
    "\n",
    "Si $g(.)$ es la función de activación, entonces \n",
    "`sigmoide_retro` y `relu_retro` calculan $$dZ^{[l]} = dA^{[l]} * g'(Z^{[l]}) $$  "
   ]
  },
  {
   "cell_type": "code",
   "execution_count": 20,
   "metadata": {},
   "outputs": [],
   "source": [
    "def retro_activacion_lineal(dA, memo, activacion):\n",
    "    \"\"\"\n",
    "    Implementa la retro-propagación para la capa LINEAL->ACTIVACION .\n",
    "    Input:\n",
    "    dA: gradiente post-activacion para la capa actual l \n",
    "    memo: conjunto de valores (linear_cache, activation_cache) que se guardan para calcular la retro-propagación de manera eficiente\n",
    "    activacion: la activación a ser usada en esta capa, guardada como un arreglo de texto: \"sigmoid\" o \"relu\"\n",
    "    Output:\n",
    "    dA_prev: gradiente del coste con respecto a la activación (de la capa previa l-1), de las mismas dimensiones que A_prev\n",
    "    dW: gradiente del coste con respecto a W (capa actual l), mismas dimensiones que W\n",
    "    db: gradiente del coste con respecto a b (capa actual l), mismas dimensiones que b\n",
    "    \"\"\"\n",
    "    memo_lineal, memo_activacion = memo\n",
    "    \n",
    "    if activacion == \"relu\":\n",
    "        dZ = relu_retro(dA, memo_activacion)\n",
    "        dA_prev, dW, db = retro_lineal(dZ, memo_lineal)\n",
    "        \n",
    "    elif activacion == \"sigmoide\":\n",
    "        dZ = sigmoide_retro(dA, memo_activacion)\n",
    "        dA_prev, dW, db = retro_lineal(dZ, memo_lineal)\n",
    "    \n",
    "    return dA_prev, dW, db"
   ]
  },
  {
   "cell_type": "code",
   "execution_count": 21,
   "metadata": {},
   "outputs": [
    {
     "name": "stdout",
     "output_type": "stream",
     "text": [
      "sigmoide:\n",
      "dA_prev = [[ 0.40376792 -0.11653974]\n",
      " [ 0.23825493 -0.06876764]\n",
      " [-0.24814639  0.07162262]]\n",
      "dW = [[-0.016823   -0.15662557  0.10029677]]\n",
      "db = [[0.14112215]]\n",
      "\n",
      "relu:\n",
      "dA_prev = [[ 1.72037702  0.        ]\n",
      " [ 1.01515818  0.        ]\n",
      " [-1.05730376  0.        ]]\n",
      "dW = [[ 0.02774167 -0.66684733 -0.00075261]]\n",
      "db = [[0.84526285]]\n"
     ]
    }
   ],
   "source": [
    "np.random.seed(7)\n",
    "dAL = np.random.randn(1,2)\n",
    "A = np.random.randn(3,2)\n",
    "W = np.random.randn(1,3)\n",
    "b = np.random.randn(1,1)\n",
    "Z = np.random.randn(1,2)\n",
    "memo_lineal = (A, W, b)\n",
    "memo_activacion = (memo_lineal, Z)\n",
    "\n",
    "dA_prev, dW, db = retro_activacion_lineal(dAL, memo_activacion, \"sigmoide\")\n",
    "print (\"sigmoide:\")\n",
    "print (\"dA_prev = \"+ str(dA_prev))\n",
    "print (\"dW = \" + str(dW))\n",
    "print (\"db = \" + str(db) + \"\\n\")\n",
    "\n",
    "dA_prev, dW, db = retro_activacion_lineal(dAL, memo_activacion, \"relu\")\n",
    "print (\"relu:\")\n",
    "print (\"dA_prev = \"+ str(dA_prev))\n",
    "print (\"dW = \" + str(dW))\n",
    "print (\"db = \" + str(db))"
   ]
  },
  {
   "cell_type": "markdown",
   "metadata": {},
   "source": [
    "**Salida esperada con el sigmoide:**\n",
    "\n",
    "<table style=\"width:100%\">\n",
    "    <tr>\n",
    "      <td > dA_prev </td> \n",
    "      <td >[[ 0.40376792 -0.11653974]\n",
    " [ 0.23825493 -0.06876764]\n",
    " [-0.24814639  0.07162262]] </td> \n",
    "    </tr> \n",
    "    <tr>\n",
    "      <td > dW </td> \n",
    "      <td > [[-0.016823   -0.15662557  0.10029677]] </td> \n",
    "    </tr> \n",
    "    <tr>\n",
    "      <td > db </td> \n",
    "      <td > [[0.14112215]] </td> \n",
    "    </tr> \n",
    "</table>\n",
    "\n"
   ]
  },
  {
   "cell_type": "markdown",
   "metadata": {},
   "source": [
    "**Salida esperada con RELU:**\n",
    "\n",
    "<table style=\"width:100%\">\n",
    "    <tr>\n",
    "      <td > dA_prev </td> \n",
    "      <td > [[ 1.72037702  0.        ]\n",
    " [ 1.01515818  0.        ]\n",
    " [-1.05730376  0.        ]] </td> \n",
    "    </tr> \n",
    "    <tr>\n",
    "      <td > dW </td> \n",
    "      <td > [[ 0.02774167 -0.66684733 -0.00075261]] </td> \n",
    "    </tr> \n",
    "    <tr>\n",
    "      <td > db </td> \n",
    "      <td > [[0.84526285]] </td> \n",
    "    </tr> \n",
    "</table>\n",
    "\n"
   ]
  },
  {
   "cell_type": "markdown",
   "metadata": {},
   "source": [
    "## Retro-propagación en L capas \n",
    "\n",
    "Ahora vamos a implementar la función de retro-propagación para toda la red neuronal. Recordemos que cuando implementamos la función `propagacion_L`, guardamos en cada iteración una memoria que contenía (X, W, b, z). En el paso hacia atrás de la retro-propagación, esas variables están a disposición para calcular los gradientes. Por lo tanto, en la función `retro_L`, se puede iterar sobre todas las capas escondidas hacia atrás, empezando desde la última capa $L$. \n",
    "\n",
    "En cada paso hacia atrás, se utilizan los valores de la memoria en la capa $l$, para retro-propagar sobre la capa $l$. \n",
    "\n",
    "Tenga en cuenta que para retro-propagar sobre esta red, sabemos que la salida es, \n",
    "$$A^{[L]} = \\sigma(Z^{[L]})$$. Por lo tanto, necesitamos calcular `dAL` $= \\frac{\\partial J}{\\partial A^{[L]}}$\n",
    "\n",
    "Para hacerlo, utilizamos la fórmula:\n",
    "```python\n",
    "dAL = - (np.divide(Y, AL) - np.divide(1 - Y, 1 - AL)) # derivada del coste con respecto a AL\n",
    "```\n",
    "\n",
    "Luego utilizamos el gradiente de post-activacion `dAL` para seguir yendo hacia atrás. Este gradiente se le puede pasar a la función RETRO(LINEAL->SIGMOIDE) implementada antes (que utiliza los valores guaradados por la función `propagacion_L`). \n",
    "\n",
    "Entonces implementamos un bucle `for` para iterar sobre todas las otras capas utilizando la función hacia atrás RETRO(LINEAL->RELU). \n",
    "\n",
    "*Nota:* Debemos guardar cada dA, dW, y db en un diccionario `grads`. \n",
    "Para hacerlo, utilizamos la fórmula : \n",
    "\n",
    "$$grads[\"dW\" + str(l)] = dW^{[l]}$$\n",
    "\n",
    "Por ejemplo, para $l=3$ se guardaría $dW^{[l]}$ en `grads[\"dW3\"]`.\n",
    "\n",
    "### Ejercicio 4.3\n",
    "Implemente la retro-propagación para el modelo [LINEAL->RELU] $\\times$ (L-1) -> LINEAL -> SIGMOIDE"
   ]
  },
  {
   "cell_type": "code",
   "execution_count": 22,
   "metadata": {},
   "outputs": [],
   "source": [
    "def retro_L(AL, Y, memos):\n",
    "    \"\"\"\n",
    "    Implementa la retro-propagación para  [LINEAR->RELU] * (L-1) -> LINEAR -> SIGMOID \n",
    "    Input:\n",
    "    AL: vector con las probabilidades, salida para propagación hacia delante propagacion_L()\n",
    "    Y: vector de clases/etiquetas observadas, de dimensión (1, número de ejemplos)\n",
    "    memos: lista de memos, donde se tiene\n",
    "                - cada memo de activacion_lineal() con \"relu\" (i.e., memos[l]; l = 0...L-2)\n",
    "                - la memo de activacion_lineal() con \"sigmoide\" (i.e, [L-1])\n",
    "    Output:\n",
    "    grads: Un diccionario con los gradientes\n",
    "             grads[\"dA\" + str(l)] = ... \n",
    "             grads[\"dW\" + str(l)] = ...\n",
    "             grads[\"db\" + str(l)] = ... \n",
    "    \"\"\"\n",
    "    grads = {}\n",
    "    L = len(memos) # número de capas\n",
    "    m = AL.shape[1]\n",
    "    Y = Y.reshape(AL.shape) # Y es del mismo tamaño que AL\n",
    "    \n",
    "    # Inicializacion de la retro-propagación\n",
    "    dAL = - (np.divide(Y, AL) - np.divide(1 - Y, 1 - AL))   # derivada del coste con respecto a AL\n",
    "    \n",
    "    # Gradientes para la ultima capa L (SIGMOIDE -> LINEAL). \n",
    "    # Inputs: \"dAL, memo_actual\". Outputs: \"grads[\"dAL-1\"], grads[\"dWL\"], grads[\"dbL\"]\n",
    "    memo_actual = memos[L-1]\n",
    "    grads[\"dA\" + str(L-1)], grads[\"dW\" + str(L)], grads[\"db\" + str(L)] = retro_activacion_lineal(dAL, memo_actual, activacion = \"sigmoide\")\n",
    "    \n",
    "    #Bucle de l=L-2 a l=0\n",
    "    for l in reversed(range(L-1)):\n",
    "        # Gradientes para la l-ésima capa: gradientes (RELU -> LINEAL).\n",
    "        # Inputs: \"grads[\"dA\" + str(l + 1)], memo_actual\". Outputs: \"grads[\"dA\" + str(l)] , grads[\"dW\" + str(l + 1)] , grads[\"db\" + str(l + 1)] \n",
    "        memo_actual = memos[l]\n",
    "        dA_prev_temp, dW_temp, db_temp = retro_activacion_lineal(grads[\"dA\" + str(l + 1)], memo_actual, activacion = \"relu\") \n",
    "        grads[\"dA\" + str(l)] = dA_prev_temp\n",
    "        grads[\"dW\" + str(l + 1)] = dW_temp\n",
    "        grads[\"db\" + str(l + 1)] = db_temp\n",
    "\n",
    "    return grads"
   ]
  },
  {
   "cell_type": "code",
   "execution_count": 23,
   "metadata": {},
   "outputs": [
    {
     "name": "stdout",
     "output_type": "stream",
     "text": [
      "dW1 = [[-0.0040954   0.02626375  0.0120443   0.04524661]\n",
      " [-0.00982808  0.06302743  0.02890377  0.10858225]\n",
      " [ 0.00759414  0.01970338  0.03535496  0.0671214 ]]\n",
      "db1 = [[-0.02157541]\n",
      " [-0.0517764 ]\n",
      " [-0.05506261]]\n",
      "dA1 = [[ 0.04201136 -0.08516219]\n",
      " [ 0.10081834 -0.20437115]\n",
      " [ 0.05432588 -0.11012523]]\n"
     ]
    }
   ],
   "source": [
    "np.random.seed(333)\n",
    "AL = np.random.randn(1, 2)\n",
    "Y = np.array([[1, 0]])\n",
    "\n",
    "A1 = np.random.randn(4,2)\n",
    "W1 = np.random.randn(3,4)\n",
    "b1 = np.random.randn(3,1)\n",
    "Z1 = np.random.randn(3,2)\n",
    "memo_lin1 = ((A1, W1, b1), Z1)\n",
    "\n",
    "A2 = np.random.randn(3,2)\n",
    "W2 = np.random.randn(1,3)\n",
    "b2 = np.random.randn(1,1)\n",
    "Z2 = np.random.randn(1,2)\n",
    "memo_lin2 = ((A2, W2, b2), Z2)\n",
    "\n",
    "memos = (memo_lin1, memo_lin2)\n",
    "    \n",
    "grads = retro_L(AL, Y, memos)\n",
    "\n",
    "print (\"dW1 = \"+ str(grads[\"dW1\"]))\n",
    "print (\"db1 = \"+ str(grads[\"db1\"]))\n",
    "print (\"dA1 = \"+ str(grads[\"dA1\"]))"
   ]
  },
  {
   "cell_type": "markdown",
   "metadata": {},
   "source": [
    "**Salida esperada**\n",
    "\n",
    "<table style=\"width:60%\">\n",
    "    <tr>\n",
    "      <td > dW1 </td> \n",
    "      <td > [[-0.0040954   0.02626375  0.0120443   0.04524661]\n",
    " [-0.00982808  0.06302743  0.02890377  0.10858225]\n",
    " [ 0.00759414  0.01970338  0.03535496  0.0671214 ]] </td> \n",
    "    </tr> \n",
    "    <tr>\n",
    "      <td > db1 </td> \n",
    "      <td > [[-0.02157541]\n",
    " [-0.0517764 ]\n",
    " [-0.05506261]] </td> \n",
    "    </tr> \n",
    "    <tr>\n",
    "      <td > dA1 </td> \n",
    "      <td > [[ 0.04201136 -0.08516219]\n",
    " [ 0.10081834 -0.20437115]\n",
    " [ 0.05432588 -0.11012523]] </td> \n",
    "    </tr> \n",
    "</table>\n",
    "\n"
   ]
  },
  {
   "cell_type": "markdown",
   "metadata": {},
   "source": [
    "## 5. Actualización de parámetros\n",
    "\n",
    "En este paso se actualizan los parámetros del modelo, utilizando el método de descenso en la dirección del gradiente (GD): \n",
    "\n",
    "$$ W^{[l]} = W^{[l]} - \\alpha \\text{ } dW^{[l]} $$\n",
    "$$ b^{[l]} = b^{[l]} - \\alpha \\text{ } db^{[l]} $$\n",
    "\n",
    "donde $\\alpha$ es la tasa de aprendizaje. Tras la actualización de los parametros, los guardamos en un diccionario. "
   ]
  },
  {
   "cell_type": "markdown",
   "metadata": {},
   "source": [
    "## Ejercicio 5.1\n",
    "Implemente `rev_param()` para actualizar los parámtros usando GD en cada $W^{[l]}$ y $b^{[l]}$; $l = 1, 2, ..., L$. \n"
   ]
  },
  {
   "cell_type": "code",
   "execution_count": 24,
   "metadata": {},
   "outputs": [],
   "source": [
    "def rev_param(param, grads, tasa):\n",
    "    \"\"\"\n",
    "    Actualice los parametros utilizando GD\n",
    "    Input: \n",
    "    param: diccionario python con los parametros \n",
    "    grads: diccionario python con los gradientes, resultado de retro_L\n",
    "    Output:\n",
    "    param: diccionario python con los parametros actualizados \n",
    "                  param[\"W\" + str(l)] = ... \n",
    "                  param[\"b\" + str(l)] = ...\n",
    "    \"\"\"\n",
    "    \n",
    "    L = len(param) // 2 # numero de capas en la red neuronal\n",
    "\n",
    "    # Regla de actualización para cada parámetro (utilice on bucle for).\n",
    "    for l in range(L):\n",
    "        param[\"W\" + str(l+1)] = param[\"W\" + str(l+1)] - tasa * grads[\"dW\" + str(l+1)]\n",
    "        param[\"b\" + str(l+1)] = param[\"b\" + str(l+1)] - tasa * grads[\"db\" + str(l+1)]\n",
    "\n",
    "    return param"
   ]
  },
  {
   "cell_type": "code",
   "execution_count": 25,
   "metadata": {},
   "outputs": [
    {
     "name": "stdout",
     "output_type": "stream",
     "text": [
      "W1 = [[-0.59562069 -0.09991781 -2.14584584  1.82662008]\n",
      " [-1.76569676 -0.80627147  0.51115557 -1.18258802]\n",
      " [-1.0535704  -0.86128581  0.68284052  2.20374577]]\n",
      "b1 = [[-0.04659241]\n",
      " [-1.28888275]\n",
      " [ 0.53405496]]\n",
      "W2 = [[-0.55569196  0.0354055   1.32964895]]\n",
      "b2 = [[-0.84610769]]\n"
     ]
    }
   ],
   "source": [
    "np.random.seed(2)\n",
    "W1 = np.random.randn(3,4)\n",
    "b1 = np.random.randn(3,1)\n",
    "W2 = np.random.randn(1,3)\n",
    "b2 = np.random.randn(1,1)\n",
    "params = {\"W1\": W1,\"b1\": b1, \"W2\": W2, \"b2\": b2}\n",
    "    \n",
    "np.random.seed(3)\n",
    "dW1 = np.random.randn(3,4)\n",
    "db1 = np.random.randn(3,1)\n",
    "dW2 = np.random.randn(1,3)\n",
    "db2 = np.random.randn(1,1)\n",
    "grads = {\"dW1\": dW1, \"db1\": db1, \"dW2\": dW2, \"db2\": db2}\n",
    "\n",
    "param = rev_param(params, grads, tasa=0.1)\n",
    "\n",
    "print (\"W1 = \"+ str(param[\"W1\"]))\n",
    "print (\"b1 = \"+ str(param[\"b1\"]))\n",
    "print (\"W2 = \"+ str(param[\"W2\"]))\n",
    "print (\"b2 = \"+ str(param[\"b2\"]))"
   ]
  },
  {
   "cell_type": "markdown",
   "metadata": {},
   "source": [
    "**Salida esperada**\n",
    "\n",
    "<table style=\"width:100%\"> \n",
    "    <tr>\n",
    "      <td > W1 </td> \n",
    "      <td > [[-0.59562069 -0.09991781 -2.14584584  1.82662008]\n",
    " [-1.76569676 -0.80627147  0.51115557 -1.18258802]\n",
    " [-1.0535704  -0.86128581  0.68284052  2.20374577]] </td> \n",
    "    </tr> \n",
    "    <tr>\n",
    "      <td > b1 </td> \n",
    "      <td > [[-0.04659241]\n",
    " [-1.28888275]\n",
    " [ 0.53405496]] </td> \n",
    "    </tr> \n",
    "    <tr>\n",
    "      <td > W2 </td> \n",
    "           <td > [[-0.55569196  0.0354055   1.32964895]] </td> \n",
    "    </tr> \n",
    "    <tr>\n",
    "      <td > b2 </td> \n",
    "           <td > [[-0.84610769]] </td> \n",
    "    </tr> \n",
    "</table>\n"
   ]
  },
  {
   "cell_type": "markdown",
   "metadata": {},
   "source": [
    "\n",
    "## 6. Modelo de L capas\n",
    "\n",
    "Ahora combinemos las distintas funciones para contruir nuestra red neuronal de $L$ capas.\n",
    "\n",
    "Esta función `modelo_red_L` llama a las funciones auxiliares que hemos implementado arriba para construir una red de L capas con la siguiente estructura: [LINEAL -> RELU]$\\times$(L-1) -> LINEAL -> SIGMOIDE. \n",
    "\n",
    "Las funciones que vamos a utilizar son:\n",
    "\n",
    "```python\n",
    "def param_I_L(dim_capas, init, semilla):\n",
    "    ...\n",
    "    return param \n",
    "def propagacion_L(X, param):\n",
    "    ...\n",
    "    return AL, memos\n",
    "def perdida_L(AL, Y):\n",
    "    ...\n",
    "    return coste\n",
    "def retro_L(AL, Y, memo):\n",
    "    ...\n",
    "    return grads\n",
    "def rev_param(param, grads, tasa):\n",
    "    ...\n",
    "    return param\n",
    "```"
   ]
  },
  {
   "cell_type": "code",
   "execution_count": 26,
   "metadata": {},
   "outputs": [],
   "source": [
    "def modelo_red_L(X, Y, xV, yV, dim_capas, tasa, num_iter, init, semilla, print_c):\n",
    "    \"\"\"\n",
    "    Implementa una red neuronal de L capas: [LINEAL->RELU]*(L-2)->LINEAL->SIGMOIDE\n",
    "    Input:\n",
    "    X: datos de entrada de tamaño (n_x, número de ejemplos)\n",
    "    Y: vector de etiquetas observadas de tamaño (1, número de ejemplos)\n",
    "    xV: dataos de entrada de validacion\n",
    "    yV: etiquetas de validación\n",
    "    dim_capas: dimensiones de las capas (n_x, n_h, n_y)\n",
    "    tasa: tasa de aprendizaje de la regla de actualización por GD \n",
    "    num_iter: número de iteraciones del bucle de optimización\n",
    "    init: método de inicializacion de parametros\n",
    "    semilla: semilla aleatoria para la inciializacion de parametros\n",
    "    print_c: si es verdadero \"True\", muestra el coste cada 100 iteraciones \n",
    "    Output:\n",
    "    param: diccionario con los parametros\n",
    "    \"\"\"\n",
    "\n",
    "    costes = []   \n",
    "    costes2 = [] \n",
    "    coste_aux= 99\n",
    "    epoc=0\n",
    "    \n",
    "    # Inicialización de parámetros \n",
    "    param = param_I_L(dim_capas, init, semilla)\n",
    "    \n",
    "    # Bucle (GD)\n",
    "    for i in range(0, num_iter):\n",
    "\n",
    "        # Propagación hacia delante: [LINEAL -> RELU]*(L-2) -> LINEAL -> SIGMOIDE\n",
    "        AL, memo = propagacion_L(X, param)\n",
    "        \n",
    "        # Calcule el coste\n",
    "        coste = perdida_L(AL, Y)\n",
    "        \n",
    "        # coste de validacion\n",
    "        AL2,memo2 = propagacion_L(xV, param)         # propagacion de validacion\n",
    "        coste2 = perdida_L(AL2, yV)            # coste de validacion\n",
    "        \n",
    "        # Retro-propagación\n",
    "        grads = retro_L(AL, Y, memo)\n",
    " \n",
    "        # Actualize los parámetros\n",
    "        param = rev_param(param, grads, tasa)\n",
    "        \n",
    "        # Me quedo con la mejor época en validacion\n",
    "        if coste2 < coste_aux:\n",
    "            coste_aux=coste2\n",
    "            epoc = i+1\n",
    "                \n",
    "        # Imprime el coste cada 100 iteraciones\n",
    "        if print_c and i % 100 == 0:\n",
    "            print (\"Coste tras la iteración %i: %f\" %(i, coste))\n",
    "        if print_c and i % 100 == 0:\n",
    "            costes.append(coste)\n",
    "            costes2.append(coste2)\n",
    "            \n",
    "    # grafique el coste\n",
    "    if print_c:\n",
    "        plt.plot(np.squeeze(costes), marker=\"o\", label=\"CE\")\n",
    "        plt.plot(np.squeeze(costes2), marker=\"*\", label=\"CV\")\n",
    "        plt.legend(bbox_to_anchor=(1.05, 1), loc=2, borderaxespad=0.)\n",
    "        plt.ylabel('Coste')\n",
    "        plt.xlabel('Epocas')\n",
    "        plt.title(\"Tasa de aprendizaje= \" + str(tasa))\n",
    "        #plt.savefig(\"fig2\"+str(i)+\".png\")\n",
    "        plt.show()\n",
    "        print(\"Mejor iteracion es: \" +str(epoc) +\" con la semilla: \" +str(semilla))\n",
    "    \n",
    "    return param, epoc"
   ]
  },
  {
   "cell_type": "markdown",
   "metadata": {},
   "source": [
    "## 6.1 Caso aplicado\n",
    "\n",
    "Ahora probemos nuestro modelo con las imagenes del paramo. \n",
    "\n",
    "A continuacion carguemos nuestros conjuntos de entrenamiento y validacion:"
   ]
  },
  {
   "cell_type": "code",
   "execution_count": 27,
   "metadata": {},
   "outputs": [],
   "source": [
    "X,Y = import_imagenes()\n",
    "CE_x, CV_x, CE_y, CV_y = particion_CE_CV(X,Y)"
   ]
  },
  {
   "cell_type": "code",
   "execution_count": 28,
   "metadata": {},
   "outputs": [
    {
     "data": {
      "text/plain": [
       "((14700, 175), (14700, 75))"
      ]
     },
     "execution_count": 28,
     "metadata": {},
     "output_type": "execute_result"
    }
   ],
   "source": [
    "CE_x.shape, CV_x.shape"
   ]
  },
  {
   "cell_type": "markdown",
   "metadata": {},
   "source": [
    "Veamos que el código funciona, por ejemplo con la siguiente estructura [14700, 700, 100, 50, 15, 1]: "
   ]
  },
  {
   "cell_type": "code",
   "execution_count": 29,
   "metadata": {},
   "outputs": [
    {
     "name": "stdout",
     "output_type": "stream",
     "text": [
      "Coste tras la iteración 0: 31.572181\n"
     ]
    },
    {
     "name": "stderr",
     "output_type": "stream",
     "text": [
      "C:\\Users\\samora\\AppData\\Roaming\\Python\\Python37\\site-packages\\ipykernel_launcher.py:14: RuntimeWarning: divide by zero encountered in log\n",
      "  \n",
      "C:\\Users\\samora\\AppData\\Roaming\\Python\\Python37\\site-packages\\ipykernel_launcher.py:14: RuntimeWarning: invalid value encountered in multiply\n",
      "  \n",
      "C:\\Users\\samora\\AppData\\Roaming\\Python\\Python37\\site-packages\\ipykernel_launcher.py:22: RuntimeWarning: divide by zero encountered in true_divide\n",
      "C:\\Users\\samora\\AppData\\Roaming\\Python\\Python37\\site-packages\\ipykernel_launcher.py:22: RuntimeWarning: invalid value encountered in true_divide\n",
      "C:\\Users\\samora\\AppData\\Roaming\\Python\\Python37\\site-packages\\ipykernel_launcher.py:6: RuntimeWarning: invalid value encountered in multiply\n",
      "  \n",
      "C:\\Users\\samora\\AppData\\Roaming\\Python\\Python37\\site-packages\\ipykernel_launcher.py:6: RuntimeWarning: invalid value encountered in less_equal\n",
      "  \n"
     ]
    },
    {
     "ename": "KeyboardInterrupt",
     "evalue": "",
     "output_type": "error",
     "traceback": [
      "\u001b[1;31m---------------------------------------------------------------------------\u001b[0m",
      "\u001b[1;31mKeyboardInterrupt\u001b[0m                         Traceback (most recent call last)",
      "\u001b[1;32m<ipython-input-29-89c81d5a8d7b>\u001b[0m in \u001b[0;36m<module>\u001b[1;34m\u001b[0m\n\u001b[0;32m      1\u001b[0m \u001b[0mdim_capas\u001b[0m \u001b[1;33m=\u001b[0m \u001b[1;33m[\u001b[0m\u001b[1;36m14700\u001b[0m\u001b[1;33m,\u001b[0m \u001b[1;36m700\u001b[0m\u001b[1;33m,\u001b[0m \u001b[1;36m100\u001b[0m\u001b[1;33m,\u001b[0m \u001b[1;36m50\u001b[0m\u001b[1;33m,\u001b[0m \u001b[1;36m15\u001b[0m\u001b[1;33m,\u001b[0m \u001b[1;36m1\u001b[0m\u001b[1;33m]\u001b[0m    \u001b[1;31m#  Modelo de 5 capas (Datos de entrada + 4 capas escondidas + capa de salida)\u001b[0m\u001b[1;33m\u001b[0m\u001b[1;33m\u001b[0m\u001b[0m\n\u001b[0;32m      2\u001b[0m \u001b[1;33m\u001b[0m\u001b[0m\n\u001b[1;32m----> 3\u001b[1;33m \u001b[0mparamL\u001b[0m\u001b[1;33m,\u001b[0m \u001b[0mepoc\u001b[0m \u001b[1;33m=\u001b[0m \u001b[0mmodelo_red_L\u001b[0m\u001b[1;33m(\u001b[0m\u001b[0mCE_x\u001b[0m\u001b[1;33m,\u001b[0m \u001b[0mCE_y\u001b[0m\u001b[1;33m,\u001b[0m \u001b[0mCV_x\u001b[0m\u001b[1;33m,\u001b[0m \u001b[0mCV_y\u001b[0m\u001b[1;33m,\u001b[0m \u001b[0mdim_capas\u001b[0m\u001b[1;33m,\u001b[0m \u001b[0mtasa\u001b[0m \u001b[1;33m=\u001b[0m \u001b[1;36m0.002\u001b[0m\u001b[1;33m,\u001b[0m \u001b[0mnum_iter\u001b[0m \u001b[1;33m=\u001b[0m \u001b[1;36m2000\u001b[0m\u001b[1;33m,\u001b[0m \u001b[0minit\u001b[0m \u001b[1;33m=\u001b[0m \u001b[1;34m\"He\"\u001b[0m\u001b[1;33m,\u001b[0m \u001b[0msemilla\u001b[0m \u001b[1;33m=\u001b[0m \u001b[1;36m66\u001b[0m\u001b[1;33m,\u001b[0m \u001b[0mprint_c\u001b[0m \u001b[1;33m=\u001b[0m \u001b[1;32mTrue\u001b[0m\u001b[1;33m)\u001b[0m\u001b[1;33m\u001b[0m\u001b[1;33m\u001b[0m\u001b[0m\n\u001b[0m\u001b[0;32m      4\u001b[0m \u001b[1;33m\u001b[0m\u001b[0m\n",
      "\u001b[1;32m<ipython-input-26-42dcfc3b9ad1>\u001b[0m in \u001b[0;36mmodelo_red_L\u001b[1;34m(X, Y, xV, yV, dim_capas, tasa, num_iter, init, semilla, print_c)\u001b[0m\n\u001b[0;32m     29\u001b[0m \u001b[1;33m\u001b[0m\u001b[0m\n\u001b[0;32m     30\u001b[0m         \u001b[1;31m# Propagación hacia delante: [LINEAL -> RELU]*(L-2) -> LINEAL -> SIGMOIDE\u001b[0m\u001b[1;33m\u001b[0m\u001b[1;33m\u001b[0m\u001b[1;33m\u001b[0m\u001b[0m\n\u001b[1;32m---> 31\u001b[1;33m         \u001b[0mAL\u001b[0m\u001b[1;33m,\u001b[0m \u001b[0mmemo\u001b[0m \u001b[1;33m=\u001b[0m \u001b[0mpropagacion_L\u001b[0m\u001b[1;33m(\u001b[0m\u001b[0mX\u001b[0m\u001b[1;33m,\u001b[0m \u001b[0mparam\u001b[0m\u001b[1;33m)\u001b[0m\u001b[1;33m\u001b[0m\u001b[1;33m\u001b[0m\u001b[0m\n\u001b[0m\u001b[0;32m     32\u001b[0m \u001b[1;33m\u001b[0m\u001b[0m\n\u001b[0;32m     33\u001b[0m         \u001b[1;31m# Calcule el coste\u001b[0m\u001b[1;33m\u001b[0m\u001b[1;33m\u001b[0m\u001b[1;33m\u001b[0m\u001b[0m\n",
      "\u001b[1;32m<ipython-input-12-d4189d7d859b>\u001b[0m in \u001b[0;36mpropagacion_L\u001b[1;34m(X, param)\u001b[0m\n\u001b[0;32m     17\u001b[0m     \u001b[1;32mfor\u001b[0m \u001b[0ml\u001b[0m \u001b[1;32min\u001b[0m \u001b[0mrange\u001b[0m\u001b[1;33m(\u001b[0m\u001b[1;36m1\u001b[0m\u001b[1;33m,\u001b[0m \u001b[0mL\u001b[0m\u001b[1;33m)\u001b[0m\u001b[1;33m:\u001b[0m\u001b[1;33m\u001b[0m\u001b[1;33m\u001b[0m\u001b[0m\n\u001b[0;32m     18\u001b[0m         \u001b[0mA_prev\u001b[0m \u001b[1;33m=\u001b[0m \u001b[0mA\u001b[0m\u001b[1;33m\u001b[0m\u001b[1;33m\u001b[0m\u001b[0m\n\u001b[1;32m---> 19\u001b[1;33m         \u001b[0mA\u001b[0m\u001b[1;33m,\u001b[0m \u001b[0mmemo\u001b[0m \u001b[1;33m=\u001b[0m \u001b[0mactivacion_lineal\u001b[0m\u001b[1;33m(\u001b[0m\u001b[0mA_prev\u001b[0m\u001b[1;33m,\u001b[0m \u001b[0mparam\u001b[0m\u001b[1;33m[\u001b[0m\u001b[1;34m'W'\u001b[0m \u001b[1;33m+\u001b[0m \u001b[0mstr\u001b[0m\u001b[1;33m(\u001b[0m\u001b[0ml\u001b[0m\u001b[1;33m)\u001b[0m\u001b[1;33m]\u001b[0m\u001b[1;33m,\u001b[0m \u001b[0mparam\u001b[0m\u001b[1;33m[\u001b[0m\u001b[1;34m'b'\u001b[0m \u001b[1;33m+\u001b[0m \u001b[0mstr\u001b[0m\u001b[1;33m(\u001b[0m\u001b[0ml\u001b[0m\u001b[1;33m)\u001b[0m\u001b[1;33m]\u001b[0m\u001b[1;33m,\u001b[0m \u001b[0mactivacion\u001b[0m \u001b[1;33m=\u001b[0m \u001b[1;34m\"relu\"\u001b[0m\u001b[1;33m)\u001b[0m\u001b[1;33m\u001b[0m\u001b[1;33m\u001b[0m\u001b[0m\n\u001b[0m\u001b[0;32m     20\u001b[0m         \u001b[0mmemos\u001b[0m\u001b[1;33m.\u001b[0m\u001b[0mappend\u001b[0m\u001b[1;33m(\u001b[0m\u001b[0mmemo\u001b[0m\u001b[1;33m)\u001b[0m\u001b[1;33m\u001b[0m\u001b[1;33m\u001b[0m\u001b[0m\n\u001b[0;32m     21\u001b[0m \u001b[1;33m\u001b[0m\u001b[0m\n",
      "\u001b[1;32m<ipython-input-10-88a70efabfe2>\u001b[0m in \u001b[0;36mactivacion_lineal\u001b[1;34m(A_prev, W, b, activacion)\u001b[0m\n\u001b[0;32m     19\u001b[0m     \u001b[1;32melif\u001b[0m \u001b[1;33m(\u001b[0m\u001b[0mactivacion\u001b[0m \u001b[1;33m==\u001b[0m \u001b[1;34m\"relu\"\u001b[0m\u001b[1;33m)\u001b[0m\u001b[1;33m:\u001b[0m\u001b[1;33m\u001b[0m\u001b[1;33m\u001b[0m\u001b[0m\n\u001b[0;32m     20\u001b[0m         \u001b[1;31m# Inputs: \"A_prev, W, b\". Outputs: \"A, memo_activacion\".\u001b[0m\u001b[1;33m\u001b[0m\u001b[1;33m\u001b[0m\u001b[1;33m\u001b[0m\u001b[0m\n\u001b[1;32m---> 21\u001b[1;33m         \u001b[0mZ\u001b[0m\u001b[1;33m,\u001b[0m \u001b[0mmemo_lineal\u001b[0m \u001b[1;33m=\u001b[0m \u001b[0mlineal\u001b[0m\u001b[1;33m(\u001b[0m\u001b[0mA_prev\u001b[0m\u001b[1;33m,\u001b[0m \u001b[0mW\u001b[0m\u001b[1;33m,\u001b[0m \u001b[0mb\u001b[0m\u001b[1;33m)\u001b[0m\u001b[1;33m\u001b[0m\u001b[1;33m\u001b[0m\u001b[0m\n\u001b[0m\u001b[0;32m     22\u001b[0m         \u001b[0mA\u001b[0m\u001b[1;33m,\u001b[0m \u001b[0mmemo_activacion\u001b[0m \u001b[1;33m=\u001b[0m \u001b[0mrelu\u001b[0m\u001b[1;33m(\u001b[0m\u001b[0mZ\u001b[0m\u001b[1;33m)\u001b[0m\u001b[1;33m\u001b[0m\u001b[1;33m\u001b[0m\u001b[0m\n\u001b[0;32m     23\u001b[0m \u001b[1;33m\u001b[0m\u001b[0m\n",
      "\u001b[1;32m<ipython-input-6-c414ee3c2b29>\u001b[0m in \u001b[0;36mlineal\u001b[1;34m(A, W, b)\u001b[0m\n\u001b[0;32m     11\u001b[0m     \"\"\"\n\u001b[0;32m     12\u001b[0m \u001b[1;33m\u001b[0m\u001b[0m\n\u001b[1;32m---> 13\u001b[1;33m     \u001b[0mZ\u001b[0m \u001b[1;33m=\u001b[0m \u001b[0mnp\u001b[0m\u001b[1;33m.\u001b[0m\u001b[0mdot\u001b[0m\u001b[1;33m(\u001b[0m\u001b[0mW\u001b[0m\u001b[1;33m,\u001b[0m \u001b[0mA\u001b[0m\u001b[1;33m)\u001b[0m \u001b[1;33m+\u001b[0m \u001b[0mb\u001b[0m\u001b[1;33m\u001b[0m\u001b[1;33m\u001b[0m\u001b[0m\n\u001b[0m\u001b[0;32m     14\u001b[0m \u001b[1;33m\u001b[0m\u001b[0m\n\u001b[0;32m     15\u001b[0m     \u001b[1;32massert\u001b[0m\u001b[1;33m(\u001b[0m\u001b[0mZ\u001b[0m\u001b[1;33m.\u001b[0m\u001b[0mshape\u001b[0m \u001b[1;33m==\u001b[0m \u001b[1;33m(\u001b[0m\u001b[0mW\u001b[0m\u001b[1;33m.\u001b[0m\u001b[0mshape\u001b[0m\u001b[1;33m[\u001b[0m\u001b[1;36m0\u001b[0m\u001b[1;33m]\u001b[0m\u001b[1;33m,\u001b[0m \u001b[0mA\u001b[0m\u001b[1;33m.\u001b[0m\u001b[0mshape\u001b[0m\u001b[1;33m[\u001b[0m\u001b[1;36m1\u001b[0m\u001b[1;33m]\u001b[0m\u001b[1;33m)\u001b[0m\u001b[1;33m)\u001b[0m\u001b[1;33m\u001b[0m\u001b[1;33m\u001b[0m\u001b[0m\n",
      "\u001b[1;32m<__array_function__ internals>\u001b[0m in \u001b[0;36mdot\u001b[1;34m(*args, **kwargs)\u001b[0m\n",
      "\u001b[1;31mKeyboardInterrupt\u001b[0m: "
     ]
    }
   ],
   "source": [
    "dim_capas = [14700, 700, 100, 50, 15, 1]    #  Modelo de 5 capas (Datos de entrada + 4 capas escondidas + capa de salida)\n",
    "\n",
    "paramL, epoc = modelo_red_L(CE_x, CE_y, CV_x, CV_y, dim_capas, tasa = 0.002, num_iter = 2000, init = \"He\", semilla = 66, print_c = True) \n",
    "   "
   ]
  },
  {
   "cell_type": "markdown",
   "metadata": {},
   "source": [
    "Identifiquemos el mejor modelo de nuestra red profunda con respecto al numero de epocas:"
   ]
  },
  {
   "cell_type": "code",
   "execution_count": null,
   "metadata": {},
   "outputs": [],
   "source": [
    "paramL, epoc = modelo_red_L(CE_x, CE_y, CV_x, CV_y, dim_capas, tasa = 0.002, num_iter = epoc, init = \"He\", semilla = 66, print_c = False) "
   ]
  },
  {
   "cell_type": "markdown",
   "metadata": {},
   "source": [
    "Calculemos la exactitud del modelo. Primero definimos nuestra funcion de prediccion `pred()`:"
   ]
  },
  {
   "cell_type": "code",
   "execution_count": null,
   "metadata": {},
   "outputs": [],
   "source": [
    "def pred_L(X, param):\n",
    "      \n",
    "    m = X.shape[1]\n",
    "    n = len(param) // 2 \n",
    "    p = np.zeros((1,m))\n",
    "    \n",
    "    probas, memos = propagacion_L(X, param)\n",
    "\n",
    "    for i in range(0, probas.shape[1]):\n",
    "        if probas[0,i] > 0.5:\n",
    "            p[0,i] = 1\n",
    "        else:\n",
    "            p[0,i] = 0\n",
    "        \n",
    "    return p"
   ]
  },
  {
   "cell_type": "markdown",
   "metadata": {},
   "source": [
    "y calculamos la exactitud en entrenamiento y validacion:"
   ]
  },
  {
   "cell_type": "code",
   "execution_count": null,
   "metadata": {},
   "outputs": [],
   "source": [
    "pE=pred_L(CE_x, paramL)\n",
    "pV=pred_L(CV_x, paramL)\n",
    "\n",
    "n=CE_y.shape[1]\n",
    "m=CV_y.shape[1]\n",
    "    \n",
    "# exactitud \n",
    "# entrenamiento\n",
    "Acc_e = np.sum((pE == CE_y)/n)\n",
    "    \n",
    "# validacion\n",
    "Acc_v = np.sum((pV == CV_y)/m)\n",
    "\n",
    "print(\"La exactitud  en entrenamiento es: \" +str(Acc_e), \" y el de validacion es: \" +str(Acc_v))"
   ]
  },
  {
   "cell_type": "markdown",
   "metadata": {},
   "source": [
    "Podemos ver que el modelo está aprendiendo hasta sobreajustarse a los datos, pero no generaliza bien de acuerdo con su rendimiento sobre los datos de validación. "
   ]
  },
  {
   "cell_type": "markdown",
   "metadata": {},
   "source": [
    "Finalmente probemos nuestro mejor modelo sobre la imagen ``IMG_3451.JPG``. "
   ]
  },
  {
   "cell_type": "code",
   "execution_count": null,
   "metadata": {},
   "outputs": [],
   "source": [
    "import keras\n",
    "from keras.preprocessing.image import image\n",
    "\n",
    "img = image.load_img('Imagenes/IMG_3451.JPG')\n",
    "img "
   ]
  },
  {
   "cell_type": "code",
   "execution_count": null,
   "metadata": {},
   "outputs": [],
   "source": [
    "# Lo pasamos por nuestra imagen de prueba\n",
    "x = np.array(img)\n",
    "x2 = x\n",
    "\n",
    "ni = x.shape[0]-50\n",
    "mi = x.shape[1]-50\n",
    "\n",
    "f1=0\n",
    "f2=70\n",
    "for i in range(1,ni,50):\n",
    "    c1=0\n",
    "    c2=70\n",
    "    for j in range(1,mi,50):\n",
    "        subi=x[f1:f2,c1:c2,]\n",
    "        subi2=np.ndarray.flatten(subi).T/255.\n",
    "        ns=subi2.shape[0]\n",
    "        vec=subi2\n",
    "        vec.shape=(ns,1)\n",
    "        pred_P=pred_L(subi2, paramL)\n",
    "        if(pred_P==1):\n",
    "            x2[f1:f2,c1:c2,2]=0\n",
    "        c1=c1+50\n",
    "        c2=c2+50\n",
    "    f1=f1+50\n",
    "    f2=f2+50\n",
    "        \n",
    "plt.figure(figsize = (20,20))\n",
    "plt.imshow(x2)"
   ]
  },
  {
   "cell_type": "markdown",
   "metadata": {},
   "source": [
    "Los resultados no parecen mejorar significativamente lo conseguidos por  la red sencilla. A continuacion intente mejorar el modelo. Puede intentar con diferentes arquitecturas, cambiando el método de inicialización, la tasa de aprendizaje, aumentando el número de epocas, entre otras estrategias.\n",
    "\n",
    "*Ayuda:* Al explorar distintas estrategias, viene bien analizar qué tipo de errores comete el modelo. Primero analicemos el error de manera manual. Revisemos algunas de las imagenes que el modelo de L capas etiquetó incorrectamente. Ejecute la celda abajo para visualizar algunos de estos errores. "
   ]
  },
  {
   "cell_type": "code",
   "execution_count": null,
   "metadata": {},
   "outputs": [],
   "source": [
    "clases = [\"NF\", \"F\"]\n",
    "print_errores(clases, CV_x, CV_y, pV)"
   ]
  },
  {
   "cell_type": "markdown",
   "metadata": {},
   "source": [
    "**Las distintas imagenes sobre las que el modelo tiende a equivocarse incluyen:** \n",
    "- La planta que se concoce como *puya* y se parece al frailejon \n",
    "- Pastos borrosos que se confunden con frailejon\n",
    "- Frailejones con flor y sombras que no se reconocen\n",
    "- Frailejones borrosos\n",
    "\n",
    "Antes de enfocarse en el modelo (la arquitectura de la red, el método de incialización, regularización, el algoritmo de optimización, etc.), una buena estrategia previa puede consistir en conseguir más ejemplos sobre ese tipo de imagenes en las que el modelo parece equivocarse. Así se puede conseguir que el modelo aprenda a distinguir acertadamente las clases  que más se le están dificultando. "
   ]
  },
  {
   "cell_type": "code",
   "execution_count": null,
   "metadata": {},
   "outputs": [],
   "source": []
  }
 ],
 "metadata": {
  "coursera": {
   "course_slug": "neural-networks-deep-learning",
   "graded_item_id": "c4HO0",
   "launcher_item_id": "lSYZM"
  },
  "kernelspec": {
   "display_name": "Python 3",
   "language": "python",
   "name": "python3"
  },
  "language_info": {
   "codemirror_mode": {
    "name": "ipython",
    "version": 3
   },
   "file_extension": ".py",
   "mimetype": "text/x-python",
   "name": "python",
   "nbconvert_exporter": "python",
   "pygments_lexer": "ipython3",
   "version": "3.7.1"
  }
 },
 "nbformat": 4,
 "nbformat_minor": 1
}

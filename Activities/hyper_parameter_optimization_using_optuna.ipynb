{
  "nbformat": 4,
  "nbformat_minor": 0,
  "metadata": {
    "colab": {
      "name": "Copia de hyper_parameter_optimization_using_optuna.ipynb",
      "provenance": [],
      "collapsed_sections": [],
      "include_colab_link": true
    },
    "kernelspec": {
      "name": "python3",
      "display_name": "Python 3"
    },
    "accelerator": "GPU"
  },
  "cells": [
    {
      "cell_type": "markdown",
      "metadata": {
        "id": "view-in-github",
        "colab_type": "text"
      },
      "source": [
        "<a href=\"https://colab.research.google.com/github/sergiomora03/deep-learning-intermediate/blob/master/Activities/hyper_parameter_optimization_using_optuna.ipynb\" target=\"_parent\"><img src=\"https://colab.research.google.com/assets/colab-badge.svg\" alt=\"Open In Colab\"/></a>"
      ]
    },
    {
      "cell_type": "code",
      "metadata": {
        "id": "hEGdO_cDRZtT",
        "outputId": "df5b8d1d-c700-4bb1-cda5-d189f4744c2a",
        "colab": {
          "base_uri": "https://localhost:8080/",
          "height": 1459
        }
      },
      "source": [
        "!pip install optuna\n",
        "!pip install tf-nightly-2.0-preview"
      ],
      "execution_count": null,
      "outputs": [
        {
          "output_type": "stream",
          "text": [
            "Collecting optuna\n",
            "\u001b[?25l  Downloading https://files.pythonhosted.org/packages/23/eb/8c9ba158711b159889c2eee55dacb086c21191ad039d8530e1a6bdc8152a/optuna-0.6.0.tar.gz (57kB)\n",
            "\r\u001b[K    17% |█████▋                          | 10kB 22.6MB/s eta 0:00:01\r\u001b[K    35% |███████████▎                    | 20kB 4.7MB/s eta 0:00:01\r\u001b[K    53% |█████████████████               | 30kB 6.7MB/s eta 0:00:01\r\u001b[K    70% |██████████████████████▋         | 40kB 4.3MB/s eta 0:00:01\r\u001b[K    88% |████████████████████████████▎   | 51kB 5.3MB/s eta 0:00:01\r\u001b[K    100% |████████████████████████████████| 61kB 5.5MB/s \n",
            "\u001b[?25hRequirement already satisfied: sqlalchemy>=1.1.0 in /usr/local/lib/python3.6/dist-packages (from optuna) (1.2.15)\n",
            "Requirement already satisfied: numpy in /usr/local/lib/python3.6/dist-packages (from optuna) (1.14.6)\n",
            "Requirement already satisfied: scipy in /usr/local/lib/python3.6/dist-packages (from optuna) (1.1.0)\n",
            "Requirement already satisfied: six in /usr/local/lib/python3.6/dist-packages (from optuna) (1.11.0)\n",
            "Collecting typing (from optuna)\n",
            "  Downloading https://files.pythonhosted.org/packages/4a/bd/eee1157fc2d8514970b345d69cb9975dcd1e42cd7e61146ed841f6e68309/typing-3.6.6-py3-none-any.whl\n",
            "Collecting cliff (from optuna)\n",
            "\u001b[?25l  Downloading https://files.pythonhosted.org/packages/8e/1a/5404afee3d83a2e5f27e0d20ac7012c9f07bd8e9b03d0ae1fd9bb3e63037/cliff-2.14.0-py2.py3-none-any.whl (77kB)\n",
            "\u001b[K    100% |████████████████████████████████| 81kB 13.8MB/s \n",
            "\u001b[?25hCollecting colorlog (from optuna)\n",
            "  Downloading https://files.pythonhosted.org/packages/68/4d/892728b0c14547224f0ac40884e722a3d00cb54e7a146aea0b3186806c9e/colorlog-4.0.2-py2.py3-none-any.whl\n",
            "Requirement already satisfied: pandas in /usr/local/lib/python3.6/dist-packages (from optuna) (0.22.0)\n",
            "Collecting stevedore>=1.20.0 (from cliff->optuna)\n",
            "\u001b[?25l  Downloading https://files.pythonhosted.org/packages/35/fa/8683fab2a6e15ecfe107996e56fab91e52fe3ec0b40ca9440a0e1ffe6892/stevedore-1.30.0-py2.py3-none-any.whl (42kB)\n",
            "\u001b[K    100% |████████████████████████████████| 51kB 24.2MB/s \n",
            "\u001b[?25hRequirement already satisfied: PyYAML>=3.12 in /usr/local/lib/python3.6/dist-packages (from cliff->optuna) (3.13)\n",
            "Collecting cmd2!=0.8.3; python_version >= \"3.0\" (from cliff->optuna)\n",
            "\u001b[?25l  Downloading https://files.pythonhosted.org/packages/36/cf/25c3151c531f13988605e6792922152bd5d0dc0e907d02006767ca7668ed/cmd2-0.9.7-py3-none-any.whl (86kB)\n",
            "\u001b[K    100% |████████████████████████████████| 92kB 23.9MB/s \n",
            "\u001b[?25hCollecting pbr!=2.1.0,>=2.0.0 (from cliff->optuna)\n",
            "\u001b[?25l  Downloading https://files.pythonhosted.org/packages/f3/04/fddc1c2dd75b256eda4d360024692231a2c19a0c61ad7f4a162407c1ab58/pbr-5.1.1-py2.py3-none-any.whl (106kB)\n",
            "\u001b[K    100% |████████████████████████████████| 112kB 33.5MB/s \n",
            "\u001b[?25hRequirement already satisfied: PrettyTable<0.8,>=0.7.2 in /usr/local/lib/python3.6/dist-packages (from cliff->optuna) (0.7.2)\n",
            "Requirement already satisfied: pyparsing>=2.1.0 in /usr/local/lib/python3.6/dist-packages (from cliff->optuna) (2.3.0)\n",
            "Requirement already satisfied: python-dateutil>=2 in /usr/local/lib/python3.6/dist-packages (from pandas->optuna) (2.5.3)\n",
            "Requirement already satisfied: pytz>=2011k in /usr/local/lib/python3.6/dist-packages (from pandas->optuna) (2018.9)\n",
            "Collecting pyperclip>=1.5.27 (from cmd2!=0.8.3; python_version >= \"3.0\"->cliff->optuna)\n",
            "  Downloading https://files.pythonhosted.org/packages/2d/0f/4eda562dffd085945d57c2d9a5da745cfb5228c02bc90f2c74bbac746243/pyperclip-1.7.0.tar.gz\n",
            "Requirement already satisfied: wcwidth>=0.1.7 in /usr/local/lib/python3.6/dist-packages (from cmd2!=0.8.3; python_version >= \"3.0\"->cliff->optuna) (0.1.7)\n",
            "Requirement already satisfied: attrs>=16.3.0 in /usr/local/lib/python3.6/dist-packages (from cmd2!=0.8.3; python_version >= \"3.0\"->cliff->optuna) (18.2.0)\n",
            "Collecting colorama (from cmd2!=0.8.3; python_version >= \"3.0\"->cliff->optuna)\n",
            "  Downloading https://files.pythonhosted.org/packages/4f/a6/728666f39bfff1719fc94c481890b2106837da9318031f71a8424b662e12/colorama-0.4.1-py2.py3-none-any.whl\n",
            "Building wheels for collected packages: optuna, pyperclip\n",
            "  Running setup.py bdist_wheel for optuna ... \u001b[?25l-\b \b\\\b \bdone\n",
            "\u001b[?25h  Stored in directory: /root/.cache/pip/wheels/6b/35/b5/c8dda18e03a24da1fb839ccf5ec7ddda34469ab7cb5f4ff831\n",
            "  Running setup.py bdist_wheel for pyperclip ... \u001b[?25l-\b \bdone\n",
            "\u001b[?25h  Stored in directory: /root/.cache/pip/wheels/92/f0/ac/2ba2972034e98971c3654ece337ac61e546bdeb34ca960dc8c\n",
            "Successfully built optuna pyperclip\n",
            "Installing collected packages: typing, pbr, stevedore, pyperclip, colorama, cmd2, cliff, colorlog, optuna\n",
            "Successfully installed cliff-2.14.0 cmd2-0.9.7 colorama-0.4.1 colorlog-4.0.2 optuna-0.6.0 pbr-5.1.1 pyperclip-1.7.0 stevedore-1.30.0 typing-3.6.6\n",
            "\u001b[0;31;1mWARNING: The following packages were previously imported in this runtime:\n",
            "  [typing]\n",
            "You must restart the runtime in order to use newly installed versions.\u001b[0m\n",
            "Collecting tf-nightly-2.0-preview\n",
            "\u001b[?25l  Downloading https://files.pythonhosted.org/packages/48/0f/ce6e382f12ee04c5f5f11f97242da093534596981ba14f6a2318bed8b508/tf_nightly_2.0_preview-1.13.0.dev20190116-cp36-cp36m-manylinux1_x86_64.whl (75.0MB)\n",
            "\u001b[K    100% |████████████████████████████████| 75.0MB 423kB/s \n",
            "\u001b[?25hCollecting tb-nightly<1.14.0a0,>=1.13.0a0 (from tf-nightly-2.0-preview)\n",
            "\u001b[?25l  Downloading https://files.pythonhosted.org/packages/f0/b4/1292f8778283431629c0d4e2aa806b41dba71aa65c2736eed43738ac8fde/tb_nightly-1.13.0a20190115-py3-none-any.whl (3.2MB)\n",
            "\u001b[K    100% |████████████████████████████████| 3.2MB 10.1MB/s \n",
            "\u001b[?25hRequirement already satisfied: grpcio>=1.8.6 in /usr/local/lib/python3.6/dist-packages (from tf-nightly-2.0-preview) (1.15.0)\n",
            "Collecting google-pasta>=0.1.1 (from tf-nightly-2.0-preview)\n",
            "\u001b[?25l  Downloading https://files.pythonhosted.org/packages/86/6c/9eabce1c1cdaa657751a802f94d71ca29b8f82e10cac97c3fd5f8c82736c/google_pasta-0.1.1-py3-none-any.whl (51kB)\n",
            "\u001b[K    100% |████████████████████████████████| 61kB 20.8MB/s \n",
            "\u001b[?25hRequirement already satisfied: absl-py>=0.1.6 in /usr/local/lib/python3.6/dist-packages (from tf-nightly-2.0-preview) (0.6.1)\n",
            "Requirement already satisfied: termcolor>=1.1.0 in /usr/local/lib/python3.6/dist-packages (from tf-nightly-2.0-preview) (1.1.0)\n",
            "Requirement already satisfied: astor>=0.6.0 in /usr/local/lib/python3.6/dist-packages (from tf-nightly-2.0-preview) (0.7.1)\n",
            "Requirement already satisfied: keras-applications>=1.0.6 in /usr/local/lib/python3.6/dist-packages (from tf-nightly-2.0-preview) (1.0.6)\n",
            "Requirement already satisfied: gast>=0.2.0 in /usr/local/lib/python3.6/dist-packages (from tf-nightly-2.0-preview) (0.2.1.post0)\n",
            "Collecting tensorflow-estimator-2.0-preview (from tf-nightly-2.0-preview)\n",
            "\u001b[?25l  Downloading https://files.pythonhosted.org/packages/66/57/755322cd96bcd1d9122c057de9774322545cc724d4ece536ed5ca4c23b56/tensorflow_estimator_2.0_preview-1.13.0.dev2019011600-py2.py3-none-any.whl (243kB)\n",
            "\u001b[K    100% |████████████████████████████████| 245kB 16.3MB/s \n",
            "\u001b[?25hRequirement already satisfied: numpy>=1.13.3 in /usr/local/lib/python3.6/dist-packages (from tf-nightly-2.0-preview) (1.14.6)\n",
            "Requirement already satisfied: six>=1.10.0 in /usr/local/lib/python3.6/dist-packages (from tf-nightly-2.0-preview) (1.11.0)\n",
            "Requirement already satisfied: wheel>=0.26 in /usr/local/lib/python3.6/dist-packages (from tf-nightly-2.0-preview) (0.32.3)\n",
            "Requirement already satisfied: keras-preprocessing>=1.0.5 in /usr/local/lib/python3.6/dist-packages (from tf-nightly-2.0-preview) (1.0.5)\n",
            "Requirement already satisfied: protobuf>=3.6.1 in /usr/local/lib/python3.6/dist-packages (from tf-nightly-2.0-preview) (3.6.1)\n",
            "Requirement already satisfied: markdown>=2.6.8 in /usr/local/lib/python3.6/dist-packages (from tb-nightly<1.14.0a0,>=1.13.0a0->tf-nightly-2.0-preview) (3.0.1)\n",
            "Requirement already satisfied: werkzeug>=0.11.10 in /usr/local/lib/python3.6/dist-packages (from tb-nightly<1.14.0a0,>=1.13.0a0->tf-nightly-2.0-preview) (0.14.1)\n",
            "Requirement already satisfied: h5py in /usr/local/lib/python3.6/dist-packages (from keras-applications>=1.0.6->tf-nightly-2.0-preview) (2.8.0)\n",
            "Collecting mock>=2.0.0 (from tensorflow-estimator-2.0-preview->tf-nightly-2.0-preview)\n",
            "\u001b[?25l  Downloading https://files.pythonhosted.org/packages/e6/35/f187bdf23be87092bd0f1200d43d23076cee4d0dec109f195173fd3ebc79/mock-2.0.0-py2.py3-none-any.whl (56kB)\n",
            "\u001b[K    100% |████████████████████████████████| 61kB 25.4MB/s \n",
            "\u001b[?25hRequirement already satisfied: setuptools in /usr/local/lib/python3.6/dist-packages (from protobuf>=3.6.1->tf-nightly-2.0-preview) (40.6.3)\n",
            "Requirement already satisfied: pbr>=0.11 in /usr/local/lib/python3.6/dist-packages (from mock>=2.0.0->tensorflow-estimator-2.0-preview->tf-nightly-2.0-preview) (5.1.1)\n",
            "Installing collected packages: tb-nightly, google-pasta, mock, tensorflow-estimator-2.0-preview, tf-nightly-2.0-preview\n",
            "Successfully installed google-pasta-0.1.1 mock-2.0.0 tb-nightly-1.13.0a20190115 tensorflow-estimator-2.0-preview-1.13.0.dev2019011600 tf-nightly-2.0-preview-1.13.0.dev20190116\n"
          ],
          "name": "stdout"
        }
      ]
    },
    {
      "cell_type": "code",
      "metadata": {
        "id": "f9RXqstTRbh6",
        "outputId": "e8fdfcc4-03e5-4ca7-920e-81dcdbfadaad",
        "colab": {
          "base_uri": "https://localhost:8080/",
          "height": 35
        }
      },
      "source": [
        "import numpy as np\n",
        "import tensorflow as tf\n",
        "import optuna\n",
        "import matplotlib.pyplot as plt\n",
        "%matplotlib inline"
      ],
      "execution_count": null,
      "outputs": [
        {
          "output_type": "stream",
          "text": [
            "Using TensorFlow backend.\n"
          ],
          "name": "stderr"
        }
      ]
    },
    {
      "cell_type": "markdown",
      "metadata": {
        "id": "Yat5OJitSfdU"
      },
      "source": [
        "## Simple Practice\n",
        "### objective function\n",
        "\n",
        "$$\n",
        "f(x) = 2x^4 - 5x^2 + x\n",
        "$$\n",
        "\n",
        "We will find the minimum value of $f(x^*)$ and $x^*$ using optuna which is provided Prefferd Networks."
      ]
    },
    {
      "cell_type": "markdown",
      "metadata": {
        "id": "A5P1SAEQTsYE"
      },
      "source": [
        "### graph of $f(x)$"
      ]
    },
    {
      "cell_type": "code",
      "metadata": {
        "id": "lpodxwYrSJlD",
        "outputId": "348fd6a6-89bb-4b01-a7d1-7a48f2fcad31",
        "colab": {
          "base_uri": "https://localhost:8080/",
          "height": 283
        }
      },
      "source": [
        "x = np.linspace(-2, 2, 1000)\n",
        "plt.plot(x, 2*x**4 - 5*x**2 + x)"
      ],
      "execution_count": null,
      "outputs": [
        {
          "output_type": "execute_result",
          "data": {
            "text/plain": [
              "[<matplotlib.lines.Line2D at 0x7f0a37915320>]"
            ]
          },
          "metadata": {
            "tags": []
          },
          "execution_count": 3
        },
        {
          "output_type": "display_data",
          "data": {
            "image/png": "[encoded data removed]",
            "text/plain": [
              "<matplotlib.figure.Figure at 0x7f0a37debbe0>"
            ]
          },
          "metadata": {
            "tags": []
          }
        }
      ]
    },
    {
      "cell_type": "markdown",
      "metadata": {
        "id": "s450_JAEUdHJ"
      },
      "source": [
        "### optimization\n",
        "We will minimize $f(x)$ where $x \\in [-2, 2]$."
      ]
    },
    {
      "cell_type": "code",
      "metadata": {
        "id": "DfpefAF_U4jf"
      },
      "source": [
        "def objective(trial):\n",
        "    x = trial.suggest_uniform('x', -2, 2)\n",
        "    return 2*x**4 - 5*x**2 + x"
      ],
      "execution_count": null,
      "outputs": []
    },
    {
      "cell_type": "code",
      "metadata": {
        "id": "RVaDH3B0VkUA",
        "outputId": "2b2c1ed7-abae-4079-9af6-a4c70d7a59fb",
        "colab": {
          "base_uri": "https://localhost:8080/",
          "height": 577
        }
      },
      "source": [
        "study = optuna.create_study()\n",
        "study.optimize(objective, n_trials=30)"
      ],
      "execution_count": null,
      "outputs": [
        {
          "output_type": "stream",
          "text": [
            "[I 2019-01-16 11:56:08,652] Finished a trial resulted in value: -0.14883524366617035. Current best value is -0.14883524366617035 with parameters: {'x': 0.3082780234526088}.\n",
            "[I 2019-01-16 11:56:08,656] Finished a trial resulted in value: -2.003942800211039. Current best value is -2.003942800211039 with parameters: {'x': 1.0040586437270083}.\n",
            "[I 2019-01-16 11:56:08,661] Finished a trial resulted in value: -1.2372743017197956. Current best value is -2.003942800211039 with parameters: {'x': 1.0040586437270083}.\n",
            "[I 2019-01-16 11:56:08,665] Finished a trial resulted in value: 0.6234074742607496. Current best value is -2.003942800211039 with parameters: {'x': 1.0040586437270083}.\n",
            "[I 2019-01-16 11:56:08,669] Finished a trial resulted in value: 2.173214593940769. Current best value is -2.003942800211039 with parameters: {'x': 1.0040586437270083}.\n",
            "[I 2019-01-16 11:56:08,673] Finished a trial resulted in value: -0.1639477716829485. Current best value is -2.003942800211039 with parameters: {'x': 1.0040586437270083}.\n",
            "[I 2019-01-16 11:56:08,678] Finished a trial resulted in value: 9.374588888661684. Current best value is -2.003942800211039 with parameters: {'x': 1.0040586437270083}.\n",
            "[I 2019-01-16 11:56:08,682] Finished a trial resulted in value: -3.4292170546005027. Current best value is -3.4292170546005027 with parameters: {'x': -0.8523435357336715}.\n",
            "[I 2019-01-16 11:56:08,687] Finished a trial resulted in value: -1.3992127945794421. Current best value is -3.4292170546005027 with parameters: {'x': -0.8523435357336715}.\n",
            "[I 2019-01-16 11:56:08,692] Finished a trial resulted in value: -1.757039172747961. Current best value is -3.4292170546005027 with parameters: {'x': -0.8523435357336715}.\n",
            "[I 2019-01-16 11:56:08,699] Finished a trial resulted in value: -2.902379936259302. Current best value is -3.4292170546005027 with parameters: {'x': -0.8523435357336715}.\n",
            "[I 2019-01-16 11:56:08,705] Finished a trial resulted in value: -2.108583782998184. Current best value is -3.4292170546005027 with parameters: {'x': -0.8523435357336715}.\n",
            "[I 2019-01-16 11:56:08,712] Finished a trial resulted in value: -4.022176720217685. Current best value is -4.022176720217685 with parameters: {'x': -1.0075255235809304}.\n",
            "[I 2019-01-16 11:56:08,719] Finished a trial resulted in value: -4.0630221047363575. Current best value is -4.0630221047363575 with parameters: {'x': -1.2927215995208792}.\n",
            "[I 2019-01-16 11:56:08,725] Finished a trial resulted in value: 0.006059743258006208. Current best value is -4.0630221047363575 with parameters: {'x': -1.2927215995208792}.\n",
            "[I 2019-01-16 11:56:08,731] Finished a trial resulted in value: -4.02543966683106. Current best value is -4.0630221047363575 with parameters: {'x': -1.2927215995208792}.\n",
            "[I 2019-01-16 11:56:08,743] Finished a trial resulted in value: -0.4824060983323955. Current best value is -4.0630221047363575 with parameters: {'x': -1.2927215995208792}.\n",
            "[I 2019-01-16 11:56:08,750] Finished a trial resulted in value: -4.15510359804466. Current best value is -4.15510359804466 with parameters: {'x': -1.260807205453693}.\n",
            "[I 2019-01-16 11:56:08,758] Finished a trial resulted in value: -4.036736440935916. Current best value is -4.15510359804466 with parameters: {'x': -1.260807205453693}.\n",
            "[I 2019-01-16 11:56:08,766] Finished a trial resulted in value: 7.567826904087804. Current best value is -4.15510359804466 with parameters: {'x': -1.260807205453693}.\n",
            "[I 2019-01-16 11:56:08,774] Finished a trial resulted in value: -1.0497326268408202. Current best value is -4.15510359804466 with parameters: {'x': -1.260807205453693}.\n",
            "[I 2019-01-16 11:56:08,782] Finished a trial resulted in value: -4.107540050493082. Current best value is -4.15510359804466 with parameters: {'x': -1.260807205453693}.\n",
            "[I 2019-01-16 11:56:08,790] Finished a trial resulted in value: 0.042880198513591705. Current best value is -4.15510359804466 with parameters: {'x': -1.260807205453693}.\n",
            "[I 2019-01-16 11:56:08,800] Finished a trial resulted in value: -1.775548093922819. Current best value is -4.15510359804466 with parameters: {'x': -1.260807205453693}.\n",
            "[I 2019-01-16 11:56:08,808] Finished a trial resulted in value: -0.5066671889115502. Current best value is -4.15510359804466 with parameters: {'x': -1.260807205453693}.\n",
            "[I 2019-01-16 11:56:08,817] Finished a trial resulted in value: -4.110880138081351. Current best value is -4.15510359804466 with parameters: {'x': -1.260807205453693}.\n",
            "[I 2019-01-16 11:56:08,827] Finished a trial resulted in value: -2.4873240413754116. Current best value is -4.15510359804466 with parameters: {'x': -1.260807205453693}.\n",
            "[I 2019-01-16 11:56:08,836] Finished a trial resulted in value: -3.9135355760275767. Current best value is -4.15510359804466 with parameters: {'x': -1.260807205453693}.\n",
            "[I 2019-01-16 11:56:08,846] Finished a trial resulted in value: -0.6418201522837546. Current best value is -4.15510359804466 with parameters: {'x': -1.260807205453693}.\n",
            "[I 2019-01-16 11:56:08,856] Finished a trial resulted in value: -4.162215448144136. Current best value is -4.162215448144136 with parameters: {'x': -1.0645092747749707}.\n"
          ],
          "name": "stderr"
        }
      ]
    },
    {
      "cell_type": "markdown",
      "metadata": {
        "id": "wVUVGdgElvUS"
      },
      "source": [
        "### result"
      ]
    },
    {
      "cell_type": "code",
      "metadata": {
        "id": "KkHAFT-wlxGL",
        "outputId": "e7dc4d32-6894-44f3-82db-d5177a8da0f8",
        "colab": {
          "base_uri": "https://localhost:8080/",
          "height": 319
        }
      },
      "source": [
        "print(\"minimum f(x) : \", study.best_value)\n",
        "print(\"argmin f(x) : \", study.best_params)\n",
        "\n",
        "plt.plot(x, 2*x**4 - 5*x**2 + x, \"b\")\n",
        "plt.plot(study.best_params['x'], study.best_value, \"ro\")\n",
        "plt.legend([\"objective function f(x)\", \"minimized solution\"])"
      ],
      "execution_count": null,
      "outputs": [
        {
          "output_type": "stream",
          "text": [
            "minimum f(x) :  -4.162215448144136\n",
            "argmin f(x) :  {'x': -1.0645092747749707}\n"
          ],
          "name": "stdout"
        },
        {
          "output_type": "execute_result",
          "data": {
            "text/plain": [
              "<matplotlib.legend.Legend at 0x7f0a34fabdd8>"
            ]
          },
          "metadata": {
            "tags": []
          },
          "execution_count": 6
        },
        {
          "output_type": "display_data",
          "data": {
            "image/png": "[encoded data removed]",
            "text/plain": [
              "<matplotlib.figure.Figure at 0x7f0a397e27b8>"
            ]
          },
          "metadata": {
            "tags": []
          }
        }
      ]
    },
    {
      "cell_type": "markdown",
      "metadata": {
        "id": "VKLvW5bNml38"
      },
      "source": [
        "## optuna for TensorFlow Eager"
      ]
    },
    {
      "cell_type": "markdown",
      "metadata": {
        "id": "97j6lDnPqiKc"
      },
      "source": [
        "### Create model\n",
        "In this section, create_model funtion have an arg `trial` which is represente search spaces of 'num of layers' and 'dropout_rate'.  "
      ]
    },
    {
      "cell_type": "code",
      "metadata": {
        "id": "azKN7qZomiZq"
      },
      "source": [
        "def create_model(trial):\n",
        "    # num of hidden layer\n",
        "    n_layers = trial.suggest_int('n_layers', 1, 3)\n",
        "    \n",
        "    # dropout_rate\n",
        "    dropout_rate = trial.suggest_uniform('dropout_rate', 0.0, 0.5)\n",
        "    \n",
        "    layers = []\n",
        "    for i in range(n_layers):\n",
        "        layers.append(\n",
        "            tf.keras.layers.Conv2D(filters=(i+1)*16, \n",
        "                                   kernel_size=3, \n",
        "                                   padding=\"same\",\n",
        "                                   activation=\"relu\")\n",
        "        )\n",
        "        layers.append(\n",
        "            tf.keras.layers.MaxPool2D(pool_size=2, padding=\"same\")\n",
        "        )\n",
        "        layers.append(\n",
        "            tf.keras.layers.Dropout(rate=dropout_rate)\n",
        "        )\n",
        "    \n",
        "    layers.append(tf.keras.layers.Flatten())\n",
        "    layers.append(tf.keras.layers.Dense(128, activation=\"relu\"))\n",
        "    layers.append(tf.keras.layers.Dense(10, activation=\"softmax\"))\n",
        "    \n",
        "    return tf.keras.Sequential(layers)\n",
        "    "
      ],
      "execution_count": null,
      "outputs": []
    },
    {
      "cell_type": "markdown",
      "metadata": {
        "id": "U2Fc5tgUrdxq"
      },
      "source": [
        "### create optimizer\n",
        "Then, we create optimzier."
      ]
    },
    {
      "cell_type": "code",
      "metadata": {
        "id": "rFTtEaWarnRj"
      },
      "source": [
        "def create_optimizer(trial):\n",
        "    # Loguniform parameter\n",
        "    learning_rate = trial.suggest_loguniform('learning_rate', 1e-5, 1e-2)\n",
        "    \n",
        "    optimizer = tf.keras.optimizers.Adam(learning_rate=learning_rate)\n",
        "    \n",
        "    return optimizer"
      ],
      "execution_count": null,
      "outputs": []
    },
    {
      "cell_type": "markdown",
      "metadata": {
        "id": "jT_VtYxArpiM"
      },
      "source": [
        "### create trainer\n",
        "In this section we will create trainer which is simply training loop. We will use keras training API. "
      ]
    },
    {
      "cell_type": "code",
      "metadata": {
        "id": "Zp3giJkNrt4D"
      },
      "source": [
        "def trainer(trial, x_train, y_train):\n",
        "    \n",
        "    batch_size=trial.suggest_categorical('batch_size', [256, 512, 1024])\n",
        "    \n",
        "    model = create_model(trial)\n",
        "    optimizer = create_optimizer(trial)\n",
        "    \n",
        "    model.compile(optimizer=optimizer,\n",
        "                  loss='categorical_crossentropy',\n",
        "                  metrics=[\"accuracy\"])\n",
        "\n",
        "    model.fit(x=x_train,\n",
        "              y=y_train,\n",
        "              batch_size=batch_size,\n",
        "              epochs=5,\n",
        "              )\n",
        "    \n",
        "    model.fit = tf.function(model.fit)\n",
        "\n",
        "    return model"
      ],
      "execution_count": null,
      "outputs": []
    },
    {
      "cell_type": "markdown",
      "metadata": {
        "id": "9d4YkpsbvFyN"
      },
      "source": [
        "#### objective\n",
        "We create objective function. Note that optuna minimize objective function, so when we create objective function, this is defined \"better equal to smaller\". Therefore, we define objective function \"`1 - accuracy`\"."
      ]
    },
    {
      "cell_type": "code",
      "metadata": {
        "id": "J6Cbvwi5vExo"
      },
      "source": [
        "def objective(trial):\n",
        "    \n",
        "    (x_train, y_train),(x_test, y_test) = tf.keras.datasets.mnist.load_data()\n",
        "    x_train, x_test = x_train / 255.0, x_test / 255.0\n",
        "    x_train = x_train.reshape(-1, 28, 28, 1)\n",
        "    x_test = x_test.reshape(-1, 28, 28, 1)\n",
        "\n",
        "    x_train_ = tf.convert_to_tensor(x_train, dtype=tf.float32)\n",
        "    y_train_ = tf.reshape(tf.one_hot(y_train, 10), (-1, 10))\n",
        "    x_test_ = tf.convert_to_tensor(x_test, dtype=tf.float32)\n",
        "    y_test_ = tf.reshape(tf.one_hot(y_test, 10), (-1, 10))\n",
        "\n",
        "\n",
        "    model = trainer(trial, x_train_, y_train_)\n",
        "    \n",
        "    evaluate = model.evaluate(x=x_test_, y=y_test_)\n",
        "    return 1 - evaluate[1]"
      ],
      "execution_count": null,
      "outputs": []
    },
    {
      "cell_type": "code",
      "metadata": {
        "id": "zbyt4Xpnv9Yc",
        "outputId": "de680101-616e-47d7-82a6-dabed20a99a8",
        "colab": {
          "base_uri": "https://localhost:8080/",
          "height": 2305
        }
      },
      "source": [
        "study = optuna.create_study()\n",
        "study.optimize(objective, n_trials=10)"
      ],
      "execution_count": null,
      "outputs": [
        {
          "output_type": "stream",
          "text": [
            "WARNING:tensorflow:From /usr/local/lib/python3.6/dist-packages/tensorflow/python/ops/resource_variable_ops.py:658: colocate_with (from tensorflow.python.framework.ops) is deprecated and will be removed in a future version.\n",
            "Instructions for updating:\n",
            "Colocations handled automatically by placer.\n",
            "WARNING:tensorflow:From /usr/local/lib/python3.6/dist-packages/tensorflow/python/keras/layers/core.py:143: calling dropout (from tensorflow.python.ops.nn_ops) with keep_prob is deprecated and will be removed in a future version.\n",
            "Instructions for updating:\n",
            "Please use `rate` instead of `keep_prob`. Rate should be set to `rate = 1 - keep_prob`.\n",
            "Epoch 1/5\n",
            "60000/60000==============================] - 50s 834us/sample - loss: 0.5458 - acc: 0.8430\n",
            "Epoch 2/5\n",
            "60000/60000==============================] - 50s 836us/sample - loss: 0.1134 - acc: 0.9650\n",
            "Epoch 3/5\n",
            "60000/60000==============================] - 50s 838us/sample - loss: 0.0834 - acc: 0.9738\n",
            "Epoch 4/5\n",
            "60000/60000==============================] - 51s 848us/sample - loss: 0.0667 - acc: 0.9787\n",
            "Epoch 5/5\n",
            "60000/60000==============================] - 51s 849us/sample - loss: 0.0568 - acc: 0.9819\n",
            "10000/10000==============================] - 3s 334us/sample - loss: 0.0536 - acc: 0.9818\n"
          ],
          "name": "stdout"
        },
        {
          "output_type": "stream",
          "text": [
            "[I 2019-01-16 12:03:12,759] Finished a trial resulted in value: 0.01819998025894165. Current best value is 0.01819998025894165 with parameters: {'batch_size': 256, 'n_layers': 3, 'dropout_rate': 0.006591096488057002, 'learning_rate': 0.00045737147080074294}.\n"
          ],
          "name": "stderr"
        },
        {
          "output_type": "stream",
          "text": [
            "Epoch 1/5\n",
            "60000/60000==============================] - 49s 824us/sample - loss: 1.3140 - acc: 0.6370\n",
            "Epoch 2/5\n",
            "60000/60000==============================] - 49s 815us/sample - loss: 0.3432 - acc: 0.8947\n",
            "Epoch 3/5\n",
            "60000/60000==============================] - 49s 813us/sample - loss: 0.2025 - acc: 0.9380\n",
            "Epoch 4/5\n",
            "60000/60000==============================] - 49s 818us/sample - loss: 0.1491 - acc: 0.9541\n",
            "Epoch 5/5\n",
            "60000/60000==============================] - 49s 823us/sample - loss: 0.1230 - acc: 0.9617\n",
            "10000/10000==============================] - 3s 332us/sample - loss: 0.0811 - acc: 0.9743\n"
          ],
          "name": "stdout"
        },
        {
          "output_type": "stream",
          "text": [
            "[I 2019-01-16 12:07:23,213] Finished a trial resulted in value: 0.025699973106384277. Current best value is 0.01819998025894165 with parameters: {'batch_size': 256, 'n_layers': 3, 'dropout_rate': 0.006591096488057002, 'learning_rate': 0.00045737147080074294}.\n"
          ],
          "name": "stderr"
        },
        {
          "output_type": "stream",
          "text": [
            "Epoch 1/5\n",
            "60000/60000==============================] - 40s 661us/sample - loss: 0.6354 - acc: 0.7993\n",
            "Epoch 2/5\n",
            "60000/60000==============================] - 39s 656us/sample - loss: 0.2080 - acc: 0.9347\n",
            "Epoch 3/5\n",
            "60000/60000==============================] - 42s 698us/sample - loss: 0.1434 - acc: 0.9555\n",
            "Epoch 4/5\n",
            "60000/60000==============================] - 39s 654us/sample - loss: 0.1128 - acc: 0.9643\n",
            "Epoch 5/5\n",
            "60000/60000==============================] - 39s 658us/sample - loss: 0.0967 - acc: 0.9694\n",
            "10000/10000==============================] - 3s 340us/sample - loss: 0.0456 - acc: 0.9846\n"
          ],
          "name": "stdout"
        },
        {
          "output_type": "stream",
          "text": [
            "[I 2019-01-16 12:10:47,906] Finished a trial resulted in value: 0.0153999924659729. Current best value is 0.0153999924659729 with parameters: {'batch_size': 1024, 'n_layers': 2, 'dropout_rate': 0.42479464527391053, 'learning_rate': 0.0027350144484027446}.\n"
          ],
          "name": "stderr"
        },
        {
          "output_type": "stream",
          "text": [
            "Epoch 1/5\n",
            "60000/60000==============================] - 41s 678us/sample - loss: 0.6207 - acc: 0.8307\n",
            "Epoch 2/5\n",
            "60000/60000==============================] - 41s 675us/sample - loss: 0.1595 - acc: 0.9529\n",
            "Epoch 3/5\n",
            "60000/60000==============================] - 41s 681us/sample - loss: 0.1058 - acc: 0.9686\n",
            "Epoch 4/5\n",
            "60000/60000==============================] - 40s 674us/sample - loss: 0.0818 - acc: 0.9750\n",
            "Epoch 5/5\n",
            "60000/60000==============================] - 40s 673us/sample - loss: 0.0706 - acc: 0.9781\n",
            "10000/10000==============================] - 3s 339us/sample - loss: 0.0463 - acc: 0.9852\n"
          ],
          "name": "stdout"
        },
        {
          "output_type": "stream",
          "text": [
            "[I 2019-01-16 12:14:15,715] Finished a trial resulted in value: 0.014800012111663818. Current best value is 0.014800012111663818 with parameters: {'batch_size': 512, 'n_layers': 2, 'dropout_rate': 0.11331028508755175, 'learning_rate': 0.0007330875419572042}.\n"
          ],
          "name": "stderr"
        },
        {
          "output_type": "stream",
          "text": [
            "Epoch 1/5\n",
            "60000/60000==============================] - 50s 835us/sample - loss: 2.2230 - acc: 0.2438\n",
            "Epoch 2/5\n",
            "60000/60000==============================] - 50s 837us/sample - loss: 1.6565 - acc: 0.5076\n",
            "Epoch 3/5\n",
            "60000/60000==============================] - 50s 839us/sample - loss: 1.0372 - acc: 0.6585\n",
            "Epoch 4/5\n",
            "60000/60000==============================] - 50s 838us/sample - loss: 0.7926 - acc: 0.7391\n",
            "Epoch 5/5\n",
            "60000/60000==============================] - 50s 836us/sample - loss: 0.6567 - acc: 0.7850\n",
            "10000/10000==============================] - 4s 391us/sample - loss: 0.4264 - acc: 0.8920\n"
          ],
          "name": "stdout"
        },
        {
          "output_type": "stream",
          "text": [
            "[I 2019-01-16 12:18:32,736] Finished a trial resulted in value: 0.10799998044967651. Current best value is 0.014800012111663818 with parameters: {'batch_size': 512, 'n_layers': 2, 'dropout_rate': 0.11331028508755175, 'learning_rate': 0.0007330875419572042}.\n"
          ],
          "name": "stderr"
        },
        {
          "output_type": "stream",
          "text": [
            "Epoch 1/5\n",
            "60000/60000==============================] - 41s 682us/sample - loss: 0.5197 - acc: 0.8584\n",
            "Epoch 2/5\n",
            "60000/60000==============================] - 41s 680us/sample - loss: 0.1126 - acc: 0.9662\n",
            "Epoch 3/5\n",
            "60000/60000==============================] - 41s 678us/sample - loss: 0.0791 - acc: 0.9765\n",
            "Epoch 4/5\n",
            "60000/60000==============================] - 40s 673us/sample - loss: 0.0637 - acc: 0.9804\n",
            "Epoch 5/5\n",
            "60000/60000==============================] - 41s 675us/sample - loss: 0.0530 - acc: 0.9842\n",
            "10000/10000==============================] - 3s 347us/sample - loss: 0.0399 - acc: 0.9857\n"
          ],
          "name": "stdout"
        },
        {
          "output_type": "stream",
          "text": [
            "[I 2019-01-16 12:22:01,167] Finished a trial resulted in value: 0.014299988746643066. Current best value is 0.014299988746643066 with parameters: {'batch_size': 512, 'n_layers': 2, 'dropout_rate': 0.11377378497161844, 'learning_rate': 0.0012499916746416}.\n"
          ],
          "name": "stderr"
        },
        {
          "output_type": "stream",
          "text": [
            "Epoch 1/5\n",
            "60000/60000==============================] - 41s 681us/sample - loss: 2.2422 - acc: 0.2870\n",
            "Epoch 2/5\n",
            "60000/60000==============================] - 41s 675us/sample - loss: 2.0348 - acc: 0.5860\n",
            "Epoch 3/5\n",
            "60000/60000==============================] - 40s 675us/sample - loss: 1.6789 - acc: 0.7165\n",
            "Epoch 4/5\n",
            "60000/60000==============================] - 40s 673us/sample - loss: 1.2620 - acc: 0.7590\n",
            "Epoch 5/5\n",
            "60000/60000==============================] - 40s 672us/sample - loss: 0.9332 - acc: 0.7896\n",
            "10000/10000==============================] - 4s 356us/sample - loss: 0.7862 - acc: 0.8358\n"
          ],
          "name": "stdout"
        },
        {
          "output_type": "stream",
          "text": [
            "[I 2019-01-16 12:25:28,965] Finished a trial resulted in value: 0.16420000791549683. Current best value is 0.014299988746643066 with parameters: {'batch_size': 512, 'n_layers': 2, 'dropout_rate': 0.11377378497161844, 'learning_rate': 0.0012499916746416}.\n"
          ],
          "name": "stderr"
        },
        {
          "output_type": "stream",
          "text": [
            "Epoch 1/5\n",
            "60000/60000==============================] - 24s 395us/sample - loss: 0.3106 - acc: 0.9075\n",
            "Epoch 2/5\n",
            "60000/60000==============================] - 23s 389us/sample - loss: 0.1025 - acc: 0.9690\n",
            "Epoch 3/5\n",
            "60000/60000==============================] - 23s 389us/sample - loss: 0.0740 - acc: 0.9771\n",
            "Epoch 4/5\n",
            "60000/60000==============================] - 23s 387us/sample - loss: 0.0611 - acc: 0.9804\n",
            "Epoch 5/5\n",
            "60000/60000==============================] - 23s 386us/sample - loss: 0.0481 - acc: 0.9848\n",
            "10000/10000==============================] - 3s 274us/sample - loss: 0.0442 - acc: 0.9852\n"
          ],
          "name": "stdout"
        },
        {
          "output_type": "stream",
          "text": [
            "[I 2019-01-16 12:27:29,928] Finished a trial resulted in value: 0.014800012111663818. Current best value is 0.014299988746643066 with parameters: {'batch_size': 512, 'n_layers': 2, 'dropout_rate': 0.11377378497161844, 'learning_rate': 0.0012499916746416}.\n"
          ],
          "name": "stderr"
        },
        {
          "output_type": "stream",
          "text": [
            "Epoch 1/5\n",
            "60000/60000==============================] - 50s 837us/sample - loss: 1.1997 - acc: 0.6205\n",
            "Epoch 2/5\n",
            "60000/60000==============================] - 50s 826us/sample - loss: 0.3459 - acc: 0.8951\n",
            "Epoch 3/5\n",
            "60000/60000==============================] - 50s 829us/sample - loss: 0.2135 - acc: 0.9346\n",
            "Epoch 4/5\n",
            "60000/60000==============================] - 50s 829us/sample - loss: 0.1586 - acc: 0.9522\n",
            "Epoch 5/5\n",
            "60000/60000==============================] - 49s 822us/sample - loss: 0.1324 - acc: 0.9593\n",
            "10000/10000==============================] - 4s 413us/sample - loss: 0.0739 - acc: 0.9784\n"
          ],
          "name": "stdout"
        },
        {
          "output_type": "stream",
          "text": [
            "[I 2019-01-16 12:31:44,970] Finished a trial resulted in value: 0.021600008010864258. Current best value is 0.014299988746643066 with parameters: {'batch_size': 512, 'n_layers': 2, 'dropout_rate': 0.11377378497161844, 'learning_rate': 0.0012499916746416}.\n"
          ],
          "name": "stderr"
        },
        {
          "output_type": "stream",
          "text": [
            "Epoch 1/5\n",
            "60000/60000==============================] - 24s 393us/sample - loss: 0.2888 - acc: 0.9177\n",
            "Epoch 2/5\n",
            "60000/60000==============================] - 23s 388us/sample - loss: 0.0849 - acc: 0.9751\n",
            "Epoch 3/5\n",
            "60000/60000==============================] - 24s 393us/sample - loss: 0.0580 - acc: 0.9827\n",
            "Epoch 4/5\n",
            "60000/60000==============================] - 23s 389us/sample - loss: 0.0450 - acc: 0.9860\n",
            "Epoch 5/5\n",
            "60000/60000==============================] - 23s 386us/sample - loss: 0.0344 - acc: 0.9897\n",
            "10000/10000==============================] - 3s 272us/sample - loss: 0.0503 - acc: 0.9831\n"
          ],
          "name": "stdout"
        },
        {
          "output_type": "stream",
          "text": [
            "[I 2019-01-16 12:33:46,218] Finished a trial resulted in value: 0.01690000295639038. Current best value is 0.014299988746643066 with parameters: {'batch_size': 512, 'n_layers': 2, 'dropout_rate': 0.11377378497161844, 'learning_rate': 0.0012499916746416}.\n"
          ],
          "name": "stderr"
        }
      ]
    },
    {
      "cell_type": "code",
      "metadata": {
        "id": "qGM-FGUEdlbx",
        "outputId": "b4fd4a7c-b7a6-451a-a736-08975a9d7ad6",
        "colab": {
          "base_uri": "https://localhost:8080/",
          "height": 217
        }
      },
      "source": [
        "study.trials"
      ],
      "execution_count": null,
      "outputs": [
        {
          "output_type": "execute_result",
          "data": {
            "text/plain": [
              "[FrozenTrial(trial_id=0, state=<TrialState.COMPLETE: 1>, value=0.01819998025894165, datetime_start=datetime.datetime(2019, 1, 16, 11, 58, 55, 371526), datetime_complete=datetime.datetime(2019, 1, 16, 12, 3, 12, 758762), params={'batch_size': 256, 'n_layers': 3, 'dropout_rate': 0.006591096488057002, 'learning_rate': 0.00045737147080074294}, user_attrs={}, system_attrs={}, intermediate_values={}, params_in_internal_repr={'batch_size': 0, 'n_layers': 3, 'dropout_rate': 0.006591096488057002, 'learning_rate': 0.00045737147080074294}),\n",
              " FrozenTrial(trial_id=1, state=<TrialState.COMPLETE: 1>, value=0.025699973106384277, datetime_start=datetime.datetime(2019, 1, 16, 12, 3, 12, 763549), datetime_complete=datetime.datetime(2019, 1, 16, 12, 7, 23, 213201), params={'batch_size': 1024, 'n_layers': 3, 'dropout_rate': 0.06535245800568545, 'learning_rate': 0.00045751486913622914}, user_attrs={}, system_attrs={}, intermediate_values={}, params_in_internal_repr={'batch_size': 2, 'n_layers': 3, 'dropout_rate': 0.06535245800568545, 'learning_rate': 0.00045751486913622914}),\n",
              " FrozenTrial(trial_id=2, state=<TrialState.COMPLETE: 1>, value=0.0153999924659729, datetime_start=datetime.datetime(2019, 1, 16, 12, 7, 23, 219683), datetime_complete=datetime.datetime(2019, 1, 16, 12, 10, 47, 905856), params={'batch_size': 1024, 'n_layers': 2, 'dropout_rate': 0.42479464527391053, 'learning_rate': 0.0027350144484027446}, user_attrs={}, system_attrs={}, intermediate_values={}, params_in_internal_repr={'batch_size': 2, 'n_layers': 2, 'dropout_rate': 0.42479464527391053, 'learning_rate': 0.0027350144484027446}),\n",
              " FrozenTrial(trial_id=3, state=<TrialState.COMPLETE: 1>, value=0.014800012111663818, datetime_start=datetime.datetime(2019, 1, 16, 12, 10, 47, 911468), datetime_complete=datetime.datetime(2019, 1, 16, 12, 14, 15, 714387), params={'batch_size': 512, 'n_layers': 2, 'dropout_rate': 0.11331028508755175, 'learning_rate': 0.0007330875419572042}, user_attrs={}, system_attrs={}, intermediate_values={}, params_in_internal_repr={'batch_size': 1, 'n_layers': 2, 'dropout_rate': 0.11331028508755175, 'learning_rate': 0.0007330875419572042}),\n",
              " FrozenTrial(trial_id=4, state=<TrialState.COMPLETE: 1>, value=0.10799998044967651, datetime_start=datetime.datetime(2019, 1, 16, 12, 14, 15, 718773), datetime_complete=datetime.datetime(2019, 1, 16, 12, 18, 32, 734940), params={'batch_size': 512, 'n_layers': 3, 'dropout_rate': 0.28224004345319803, 'learning_rate': 5.5536169940832516e-05}, user_attrs={}, system_attrs={}, intermediate_values={}, params_in_internal_repr={'batch_size': 1, 'n_layers': 3, 'dropout_rate': 0.28224004345319803, 'learning_rate': 5.5536169940832516e-05}),\n",
              " FrozenTrial(trial_id=5, state=<TrialState.COMPLETE: 1>, value=0.014299988746643066, datetime_start=datetime.datetime(2019, 1, 16, 12, 18, 32, 747846), datetime_complete=datetime.datetime(2019, 1, 16, 12, 22, 1, 166382), params={'batch_size': 512, 'n_layers': 2, 'dropout_rate': 0.11377378497161844, 'learning_rate': 0.0012499916746416}, user_attrs={}, system_attrs={}, intermediate_values={}, params_in_internal_repr={'batch_size': 1, 'n_layers': 2, 'dropout_rate': 0.11377378497161844, 'learning_rate': 0.0012499916746416}),\n",
              " FrozenTrial(trial_id=6, state=<TrialState.COMPLETE: 1>, value=0.16420000791549683, datetime_start=datetime.datetime(2019, 1, 16, 12, 22, 1, 172197), datetime_complete=datetime.datetime(2019, 1, 16, 12, 25, 28, 964906), params={'batch_size': 1024, 'n_layers': 2, 'dropout_rate': 0.13390970290370485, 'learning_rate': 4.030519852177432e-05}, user_attrs={}, system_attrs={}, intermediate_values={}, params_in_internal_repr={'batch_size': 2, 'n_layers': 2, 'dropout_rate': 0.13390970290370485, 'learning_rate': 4.030519852177432e-05}),\n",
              " FrozenTrial(trial_id=7, state=<TrialState.COMPLETE: 1>, value=0.014800012111663818, datetime_start=datetime.datetime(2019, 1, 16, 12, 25, 28, 972824), datetime_complete=datetime.datetime(2019, 1, 16, 12, 27, 29, 927049), params={'batch_size': 512, 'n_layers': 1, 'dropout_rate': 0.34172284270177766, 'learning_rate': 0.003400428587709165}, user_attrs={}, system_attrs={}, intermediate_values={}, params_in_internal_repr={'batch_size': 1, 'n_layers': 1, 'dropout_rate': 0.34172284270177766, 'learning_rate': 0.003400428587709165}),\n",
              " FrozenTrial(trial_id=8, state=<TrialState.COMPLETE: 1>, value=0.021600008010864258, datetime_start=datetime.datetime(2019, 1, 16, 12, 27, 29, 933869), datetime_complete=datetime.datetime(2019, 1, 16, 12, 31, 44, 967875), params={'batch_size': 1024, 'n_layers': 3, 'dropout_rate': 0.1875369704237529, 'learning_rate': 0.000812014911605375}, user_attrs={}, system_attrs={}, intermediate_values={}, params_in_internal_repr={'batch_size': 2, 'n_layers': 3, 'dropout_rate': 0.1875369704237529, 'learning_rate': 0.000812014911605375}),\n",
              " FrozenTrial(trial_id=9, state=<TrialState.COMPLETE: 1>, value=0.01690000295639038, datetime_start=datetime.datetime(2019, 1, 16, 12, 31, 44, 975424), datetime_complete=datetime.datetime(2019, 1, 16, 12, 33, 46, 217503), params={'batch_size': 512, 'n_layers': 1, 'dropout_rate': 0.054171790614430615, 'learning_rate': 0.0032832085897703846}, user_attrs={}, system_attrs={}, intermediate_values={}, params_in_internal_repr={'batch_size': 1, 'n_layers': 1, 'dropout_rate': 0.054171790614430615, 'learning_rate': 0.0032832085897703846})]"
            ]
          },
          "metadata": {
            "tags": []
          },
          "execution_count": 16
        }
      ]
    },
    {
      "cell_type": "code",
      "metadata": {
        "id": "IUh2v6Rgzeht",
        "outputId": "b21e7ae0-9d41-4482-9fa7-e7ca5d0c0821",
        "colab": {
          "base_uri": "https://localhost:8080/",
          "height": 53
        }
      },
      "source": [
        "print(\"best params: \", study.best_params)\n",
        "print(\"best test accuracy: \", 1 - study.best_value)"
      ],
      "execution_count": null,
      "outputs": [
        {
          "output_type": "stream",
          "text": [
            "best params:  {'batch_size': 512, 'n_layers': 2, 'dropout_rate': 0.11377378497161844, 'learning_rate': 0.0012499916746416}\n",
            "best test accuracy:  0.9857000112533569\n"
          ],
          "name": "stdout"
        }
      ]
    },
    {
      "cell_type": "code",
      "metadata": {
        "id": "m8dnFkL7iUmF"
      },
      "source": [
        ""
      ],
      "execution_count": null,
      "outputs": []
    }
  ]
}